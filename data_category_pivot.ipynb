{
 "cells": [
  {
   "cell_type": "markdown",
   "id": "615adf00",
   "metadata": {
    "toc": true
   },
   "source": [
    "<h1>Table of Contents<span class=\"tocSkip\"></span></h1>\n",
    "<div class=\"toc\"><ul class=\"toc-item\"></ul></div>"
   ]
  },
  {
   "cell_type": "markdown",
   "id": "c7b5de3f",
   "metadata": {},
   "source": [
    "**Создание категориальных признаков для каждого пользователя**"
   ]
  },
  {
   "cell_type": "code",
   "execution_count": 1,
   "id": "8bd4e63d",
   "metadata": {},
   "outputs": [],
   "source": [
    "import pandas as pd\n",
    "import pyarrow as pa\n",
    "import pyarrow.feather as feather\n",
    "import pyarrow.compute  as pc\n",
    "import polars as pl\n",
    "import numpy as np"
   ]
  },
  {
   "cell_type": "code",
   "execution_count": 2,
   "id": "337cebff",
   "metadata": {},
   "outputs": [],
   "source": [
    "read_arrow = feather.read_table('dataset_full.feather')"
   ]
  },
  {
   "cell_type": "code",
   "execution_count": 3,
   "id": "82ef5c86",
   "metadata": {},
   "outputs": [
    {
     "name": "stdout",
     "output_type": "stream",
     "text": [
      "CPU times: total: 9.22 s\n",
      "Wall time: 9.57 s\n"
     ]
    }
   ],
   "source": [
    "%%time\n",
    "data_date_activity = read_arrow.select(['user_id', 'url_host', 'request_cnt', 'date']).\\\n",
    "    group_by(['user_id', 'date']).aggregate([('request_cnt', \"sum\")])"
   ]
  },
  {
   "cell_type": "code",
   "execution_count": 4,
   "id": "5ef9d232",
   "metadata": {},
   "outputs": [],
   "source": [
    "data_date_activity = pl.from_arrow(data_date_activity).\\\n",
    "pivot(index='user_id', columns='date', values='request_cnt_sum', aggregate_function='mean')"
   ]
  },
  {
   "cell_type": "code",
   "execution_count": 5,
   "id": "13701429",
   "metadata": {},
   "outputs": [
    {
     "data": {
      "text/html": [
       "<div><style>\n",
       ".dataframe > thead > tr > th,\n",
       ".dataframe > tbody > tr > td {\n",
       "  text-align: right;\n",
       "}\n",
       "</style>\n",
       "<small>shape: (5, 397)</small><table border=\"1\" class=\"dataframe\"><thead><tr><th>user_id</th><th>2022-06-15 00:00:00.000000000</th><th>2022-06-19 00:00:00.000000000</th><th>2022-06-12 00:00:00.000000000</th><th>2022-05-16 00:00:00.000000000</th><th>2022-05-30 00:00:00.000000000</th><th>2022-03-29 00:00:00.000000000</th><th>2022-03-17 00:00:00.000000000</th><th>2022-05-19 00:00:00.000000000</th><th>2022-06-16 00:00:00.000000000</th><th>2022-03-02 00:00:00.000000000</th><th>2022-02-28 00:00:00.000000000</th><th>2022-02-26 00:00:00.000000000</th><th>2022-03-07 00:00:00.000000000</th><th>2022-03-24 00:00:00.000000000</th><th>2022-03-28 00:00:00.000000000</th><th>2022-04-05 00:00:00.000000000</th><th>2022-05-02 00:00:00.000000000</th><th>2022-03-25 00:00:00.000000000</th><th>2022-04-27 00:00:00.000000000</th><th>2022-05-31 00:00:00.000000000</th><th>2022-03-06 00:00:00.000000000</th><th>2022-04-13 00:00:00.000000000</th><th>2022-03-30 00:00:00.000000000</th><th>2022-04-14 00:00:00.000000000</th><th>2022-04-09 00:00:00.000000000</th><th>2022-06-11 00:00:00.000000000</th><th>2022-03-16 00:00:00.000000000</th><th>2022-05-18 00:00:00.000000000</th><th>2022-06-18 00:00:00.000000000</th><th>2022-06-09 00:00:00.000000000</th><th>2022-04-28 00:00:00.000000000</th><th>2022-04-10 00:00:00.000000000</th><th>2022-06-07 00:00:00.000000000</th><th>2022-03-01 00:00:00.000000000</th><th>2022-04-16 00:00:00.000000000</th><th>2022-05-22 00:00:00.000000000</th><th>...</th><th>2021-12-21 00:00:00.000000000</th><th>2022-01-20 00:00:00.000000000</th><th>2022-01-22 00:00:00.000000000</th><th>2021-11-10 00:00:00.000000000</th><th>2021-12-31 00:00:00.000000000</th><th>2022-01-26 00:00:00.000000000</th><th>2021-11-09 00:00:00.000000000</th><th>2022-01-21 00:00:00.000000000</th><th>2021-12-23 00:00:00.000000000</th><th>2021-11-14 00:00:00.000000000</th><th>2022-10-15 00:00:00.000000000</th><th>2022-10-13 00:00:00.000000000</th><th>2022-10-09 00:00:00.000000000</th><th>2022-10-06 00:00:00.000000000</th><th>2022-10-14 00:00:00.000000000</th><th>2022-10-12 00:00:00.000000000</th><th>2022-10-28 00:00:00.000000000</th><th>2022-10-19 00:00:00.000000000</th><th>2022-10-07 00:00:00.000000000</th><th>2022-10-20 00:00:00.000000000</th><th>2022-10-18 00:00:00.000000000</th><th>2022-11-01 00:00:00.000000000</th><th>2022-10-27 00:00:00.000000000</th><th>2022-10-22 00:00:00.000000000</th><th>2022-10-31 00:00:00.000000000</th><th>2022-10-29 00:00:00.000000000</th><th>2022-10-21 00:00:00.000000000</th><th>2022-10-26 00:00:00.000000000</th><th>2022-10-11 00:00:00.000000000</th><th>2022-10-08 00:00:00.000000000</th><th>2022-10-16 00:00:00.000000000</th><th>2022-10-25 00:00:00.000000000</th><th>2022-10-24 00:00:00.000000000</th><th>2022-10-30 00:00:00.000000000</th><th>2022-10-17 00:00:00.000000000</th><th>2022-10-23 00:00:00.000000000</th><th>2022-10-10 00:00:00.000000000</th></tr><tr><td>i32</td><td>f64</td><td>f64</td><td>f64</td><td>f64</td><td>f64</td><td>f64</td><td>f64</td><td>f64</td><td>f64</td><td>f64</td><td>f64</td><td>f64</td><td>f64</td><td>f64</td><td>f64</td><td>f64</td><td>f64</td><td>f64</td><td>f64</td><td>f64</td><td>f64</td><td>f64</td><td>f64</td><td>f64</td><td>f64</td><td>f64</td><td>f64</td><td>f64</td><td>f64</td><td>f64</td><td>f64</td><td>f64</td><td>f64</td><td>f64</td><td>f64</td><td>f64</td><td>...</td><td>f64</td><td>f64</td><td>f64</td><td>f64</td><td>f64</td><td>f64</td><td>f64</td><td>f64</td><td>f64</td><td>f64</td><td>f64</td><td>f64</td><td>f64</td><td>f64</td><td>f64</td><td>f64</td><td>f64</td><td>f64</td><td>f64</td><td>f64</td><td>f64</td><td>f64</td><td>f64</td><td>f64</td><td>f64</td><td>f64</td><td>f64</td><td>f64</td><td>f64</td><td>f64</td><td>f64</td><td>f64</td><td>f64</td><td>f64</td><td>f64</td><td>f64</td><td>f64</td></tr></thead><tbody><tr><td>45098</td><td>26.0</td><td>20.0</td><td>24.0</td><td>29.0</td><td>26.0</td><td>61.0</td><td>7.0</td><td>7.0</td><td>42.0</td><td>32.0</td><td>14.0</td><td>32.0</td><td>33.0</td><td>52.0</td><td>22.0</td><td>17.0</td><td>23.0</td><td>25.0</td><td>37.0</td><td>26.0</td><td>20.0</td><td>18.0</td><td>19.0</td><td>12.0</td><td>31.0</td><td>25.0</td><td>6.0</td><td>10.0</td><td>18.0</td><td>60.0</td><td>12.0</td><td>30.0</td><td>35.0</td><td>10.0</td><td>11.0</td><td>20.0</td><td>...</td><td>null</td><td>null</td><td>null</td><td>null</td><td>null</td><td>null</td><td>null</td><td>null</td><td>null</td><td>null</td><td>null</td><td>null</td><td>null</td><td>null</td><td>null</td><td>null</td><td>null</td><td>null</td><td>null</td><td>null</td><td>null</td><td>null</td><td>null</td><td>null</td><td>null</td><td>null</td><td>null</td><td>null</td><td>null</td><td>null</td><td>null</td><td>null</td><td>null</td><td>null</td><td>null</td><td>null</td><td>null</td></tr><tr><td>117132</td><td>null</td><td>null</td><td>null</td><td>null</td><td>null</td><td>null</td><td>null</td><td>null</td><td>null</td><td>null</td><td>null</td><td>null</td><td>null</td><td>null</td><td>null</td><td>null</td><td>null</td><td>null</td><td>null</td><td>null</td><td>null</td><td>null</td><td>null</td><td>null</td><td>null</td><td>null</td><td>null</td><td>null</td><td>null</td><td>null</td><td>null</td><td>null</td><td>null</td><td>null</td><td>null</td><td>null</td><td>...</td><td>null</td><td>null</td><td>null</td><td>null</td><td>null</td><td>null</td><td>null</td><td>null</td><td>null</td><td>null</td><td>null</td><td>null</td><td>null</td><td>null</td><td>null</td><td>null</td><td>null</td><td>null</td><td>null</td><td>null</td><td>null</td><td>null</td><td>null</td><td>null</td><td>null</td><td>null</td><td>null</td><td>null</td><td>null</td><td>null</td><td>null</td><td>null</td><td>null</td><td>null</td><td>null</td><td>null</td><td>null</td></tr><tr><td>79395</td><td>null</td><td>null</td><td>null</td><td>null</td><td>null</td><td>null</td><td>null</td><td>null</td><td>null</td><td>null</td><td>null</td><td>null</td><td>null</td><td>null</td><td>null</td><td>null</td><td>null</td><td>null</td><td>null</td><td>null</td><td>null</td><td>null</td><td>null</td><td>null</td><td>null</td><td>null</td><td>null</td><td>null</td><td>null</td><td>null</td><td>null</td><td>null</td><td>null</td><td>null</td><td>null</td><td>null</td><td>...</td><td>null</td><td>null</td><td>null</td><td>null</td><td>null</td><td>null</td><td>null</td><td>null</td><td>null</td><td>null</td><td>null</td><td>null</td><td>null</td><td>null</td><td>null</td><td>null</td><td>null</td><td>null</td><td>null</td><td>null</td><td>null</td><td>null</td><td>null</td><td>null</td><td>null</td><td>null</td><td>null</td><td>null</td><td>null</td><td>null</td><td>null</td><td>null</td><td>null</td><td>null</td><td>null</td><td>null</td><td>null</td></tr><tr><td>91294</td><td>null</td><td>3.0</td><td>1.0</td><td>20.0</td><td>4.0</td><td>22.0</td><td>9.0</td><td>22.0</td><td>2.0</td><td>2.0</td><td>63.0</td><td>5.0</td><td>11.0</td><td>14.0</td><td>7.0</td><td>13.0</td><td>5.0</td><td>12.0</td><td>13.0</td><td>1.0</td><td>15.0</td><td>62.0</td><td>31.0</td><td>59.0</td><td>3.0</td><td>8.0</td><td>105.0</td><td>11.0</td><td>25.0</td><td>3.0</td><td>null</td><td>1.0</td><td>8.0</td><td>38.0</td><td>11.0</td><td>4.0</td><td>...</td><td>null</td><td>null</td><td>null</td><td>null</td><td>null</td><td>null</td><td>null</td><td>null</td><td>null</td><td>null</td><td>null</td><td>null</td><td>null</td><td>null</td><td>null</td><td>null</td><td>null</td><td>null</td><td>null</td><td>null</td><td>null</td><td>null</td><td>null</td><td>null</td><td>null</td><td>null</td><td>null</td><td>null</td><td>null</td><td>null</td><td>null</td><td>null</td><td>null</td><td>null</td><td>null</td><td>null</td><td>null</td></tr><tr><td>161323</td><td>null</td><td>null</td><td>null</td><td>null</td><td>null</td><td>null</td><td>null</td><td>null</td><td>null</td><td>null</td><td>null</td><td>null</td><td>null</td><td>null</td><td>null</td><td>null</td><td>null</td><td>null</td><td>null</td><td>null</td><td>null</td><td>null</td><td>null</td><td>null</td><td>null</td><td>null</td><td>null</td><td>null</td><td>null</td><td>null</td><td>null</td><td>null</td><td>null</td><td>null</td><td>null</td><td>null</td><td>...</td><td>null</td><td>null</td><td>null</td><td>null</td><td>null</td><td>null</td><td>null</td><td>null</td><td>null</td><td>null</td><td>null</td><td>null</td><td>null</td><td>null</td><td>null</td><td>null</td><td>null</td><td>null</td><td>null</td><td>null</td><td>null</td><td>null</td><td>null</td><td>null</td><td>null</td><td>null</td><td>null</td><td>null</td><td>null</td><td>null</td><td>null</td><td>null</td><td>null</td><td>null</td><td>null</td><td>null</td><td>null</td></tr></tbody></table></div>"
      ],
      "text/plain": [
       "shape: (5, 397)\n",
       "┌─────────┬────────────┬──────────────┬──────────────┬─────┬──────────────┬──────────────┬──────────────┬──────────────┐\n",
       "│ user_id ┆ 2022-06-15 ┆ 2022-06-19   ┆ 2022-06-12   ┆ ... ┆ 2022-10-30   ┆ 2022-10-17   ┆ 2022-10-23   ┆ 2022-10-10   │\n",
       "│ ---     ┆ 00:00:00.0 ┆ 00:00:00.000 ┆ 00:00:00.000 ┆     ┆ 00:00:00.000 ┆ 00:00:00.000 ┆ 00:00:00.000 ┆ 00:00:00.000 │\n",
       "│ i32     ┆ 00000000   ┆ 000000       ┆ 000000       ┆     ┆ 000000       ┆ 000000       ┆ 000000       ┆ 000000       │\n",
       "│         ┆ ---        ┆ ---          ┆ ---          ┆     ┆ ---          ┆ ---          ┆ ---          ┆ ---          │\n",
       "│         ┆ f64        ┆ f64          ┆ f64          ┆     ┆ f64          ┆ f64          ┆ f64          ┆ f64          │\n",
       "╞═════════╪════════════╪══════════════╪══════════════╪═════╪══════════════╪══════════════╪══════════════╪══════════════╡\n",
       "│ 45098   ┆ 26.0       ┆ 20.0         ┆ 24.0         ┆ ... ┆ null         ┆ null         ┆ null         ┆ null         │\n",
       "│ 117132  ┆ null       ┆ null         ┆ null         ┆ ... ┆ null         ┆ null         ┆ null         ┆ null         │\n",
       "│ 79395   ┆ null       ┆ null         ┆ null         ┆ ... ┆ null         ┆ null         ┆ null         ┆ null         │\n",
       "│ 91294   ┆ null       ┆ 3.0          ┆ 1.0          ┆ ... ┆ null         ┆ null         ┆ null         ┆ null         │\n",
       "│ 161323  ┆ null       ┆ null         ┆ null         ┆ ... ┆ null         ┆ null         ┆ null         ┆ null         │\n",
       "└─────────┴────────────┴──────────────┴──────────────┴─────┴──────────────┴──────────────┴──────────────┴──────────────┘"
      ]
     },
     "execution_count": 5,
     "metadata": {},
     "output_type": "execute_result"
    }
   ],
   "source": [
    "data_date_activity.head()"
   ]
  },
  {
   "cell_type": "code",
   "execution_count": 6,
   "id": "3394f1ba",
   "metadata": {},
   "outputs": [],
   "source": [
    "data_date_activity = data_date_activity.fill_null(0)"
   ]
  },
  {
   "cell_type": "code",
   "execution_count": 7,
   "id": "9fbb47f5",
   "metadata": {},
   "outputs": [],
   "source": [
    "for name in data_date_activity.columns[1:]:\n",
    "    data_date_activity = data_date_activity.with_columns(pl.col(name).cast(pl.Float32))"
   ]
  },
  {
   "cell_type": "code",
   "execution_count": 8,
   "id": "49400a9c",
   "metadata": {},
   "outputs": [
    {
     "data": {
      "text/html": [
       "<div><style>\n",
       ".dataframe > thead > tr > th,\n",
       ".dataframe > tbody > tr > td {\n",
       "  text-align: right;\n",
       "}\n",
       "</style>\n",
       "<small>shape: (5, 397)</small><table border=\"1\" class=\"dataframe\"><thead><tr><th>user_id</th><th>2022-06-15 00:00:00.000000000</th><th>2022-06-19 00:00:00.000000000</th><th>2022-06-12 00:00:00.000000000</th><th>2022-05-16 00:00:00.000000000</th><th>2022-05-30 00:00:00.000000000</th><th>2022-03-29 00:00:00.000000000</th><th>2022-03-17 00:00:00.000000000</th><th>2022-05-19 00:00:00.000000000</th><th>2022-06-16 00:00:00.000000000</th><th>2022-03-02 00:00:00.000000000</th><th>2022-02-28 00:00:00.000000000</th><th>2022-02-26 00:00:00.000000000</th><th>2022-03-07 00:00:00.000000000</th><th>2022-03-24 00:00:00.000000000</th><th>2022-03-28 00:00:00.000000000</th><th>2022-04-05 00:00:00.000000000</th><th>2022-05-02 00:00:00.000000000</th><th>2022-03-25 00:00:00.000000000</th><th>2022-04-27 00:00:00.000000000</th><th>2022-05-31 00:00:00.000000000</th><th>2022-03-06 00:00:00.000000000</th><th>2022-04-13 00:00:00.000000000</th><th>2022-03-30 00:00:00.000000000</th><th>2022-04-14 00:00:00.000000000</th><th>2022-04-09 00:00:00.000000000</th><th>2022-06-11 00:00:00.000000000</th><th>2022-03-16 00:00:00.000000000</th><th>2022-05-18 00:00:00.000000000</th><th>2022-06-18 00:00:00.000000000</th><th>2022-06-09 00:00:00.000000000</th><th>2022-04-28 00:00:00.000000000</th><th>2022-04-10 00:00:00.000000000</th><th>2022-06-07 00:00:00.000000000</th><th>2022-03-01 00:00:00.000000000</th><th>2022-04-16 00:00:00.000000000</th><th>2022-05-22 00:00:00.000000000</th><th>...</th><th>2021-12-21 00:00:00.000000000</th><th>2022-01-20 00:00:00.000000000</th><th>2022-01-22 00:00:00.000000000</th><th>2021-11-10 00:00:00.000000000</th><th>2021-12-31 00:00:00.000000000</th><th>2022-01-26 00:00:00.000000000</th><th>2021-11-09 00:00:00.000000000</th><th>2022-01-21 00:00:00.000000000</th><th>2021-12-23 00:00:00.000000000</th><th>2021-11-14 00:00:00.000000000</th><th>2022-10-15 00:00:00.000000000</th><th>2022-10-13 00:00:00.000000000</th><th>2022-10-09 00:00:00.000000000</th><th>2022-10-06 00:00:00.000000000</th><th>2022-10-14 00:00:00.000000000</th><th>2022-10-12 00:00:00.000000000</th><th>2022-10-28 00:00:00.000000000</th><th>2022-10-19 00:00:00.000000000</th><th>2022-10-07 00:00:00.000000000</th><th>2022-10-20 00:00:00.000000000</th><th>2022-10-18 00:00:00.000000000</th><th>2022-11-01 00:00:00.000000000</th><th>2022-10-27 00:00:00.000000000</th><th>2022-10-22 00:00:00.000000000</th><th>2022-10-31 00:00:00.000000000</th><th>2022-10-29 00:00:00.000000000</th><th>2022-10-21 00:00:00.000000000</th><th>2022-10-26 00:00:00.000000000</th><th>2022-10-11 00:00:00.000000000</th><th>2022-10-08 00:00:00.000000000</th><th>2022-10-16 00:00:00.000000000</th><th>2022-10-25 00:00:00.000000000</th><th>2022-10-24 00:00:00.000000000</th><th>2022-10-30 00:00:00.000000000</th><th>2022-10-17 00:00:00.000000000</th><th>2022-10-23 00:00:00.000000000</th><th>2022-10-10 00:00:00.000000000</th></tr><tr><td>i32</td><td>f32</td><td>f32</td><td>f32</td><td>f32</td><td>f32</td><td>f32</td><td>f32</td><td>f32</td><td>f32</td><td>f32</td><td>f32</td><td>f32</td><td>f32</td><td>f32</td><td>f32</td><td>f32</td><td>f32</td><td>f32</td><td>f32</td><td>f32</td><td>f32</td><td>f32</td><td>f32</td><td>f32</td><td>f32</td><td>f32</td><td>f32</td><td>f32</td><td>f32</td><td>f32</td><td>f32</td><td>f32</td><td>f32</td><td>f32</td><td>f32</td><td>f32</td><td>...</td><td>f32</td><td>f32</td><td>f32</td><td>f32</td><td>f32</td><td>f32</td><td>f32</td><td>f32</td><td>f32</td><td>f32</td><td>f32</td><td>f32</td><td>f32</td><td>f32</td><td>f32</td><td>f32</td><td>f32</td><td>f32</td><td>f32</td><td>f32</td><td>f32</td><td>f32</td><td>f32</td><td>f32</td><td>f32</td><td>f32</td><td>f32</td><td>f32</td><td>f32</td><td>f32</td><td>f32</td><td>f32</td><td>f32</td><td>f32</td><td>f32</td><td>f32</td><td>f32</td></tr></thead><tbody><tr><td>45098</td><td>26.0</td><td>20.0</td><td>24.0</td><td>29.0</td><td>26.0</td><td>61.0</td><td>7.0</td><td>7.0</td><td>42.0</td><td>32.0</td><td>14.0</td><td>32.0</td><td>33.0</td><td>52.0</td><td>22.0</td><td>17.0</td><td>23.0</td><td>25.0</td><td>37.0</td><td>26.0</td><td>20.0</td><td>18.0</td><td>19.0</td><td>12.0</td><td>31.0</td><td>25.0</td><td>6.0</td><td>10.0</td><td>18.0</td><td>60.0</td><td>12.0</td><td>30.0</td><td>35.0</td><td>10.0</td><td>11.0</td><td>20.0</td><td>...</td><td>0.0</td><td>0.0</td><td>0.0</td><td>0.0</td><td>0.0</td><td>0.0</td><td>0.0</td><td>0.0</td><td>0.0</td><td>0.0</td><td>0.0</td><td>0.0</td><td>0.0</td><td>0.0</td><td>0.0</td><td>0.0</td><td>0.0</td><td>0.0</td><td>0.0</td><td>0.0</td><td>0.0</td><td>0.0</td><td>0.0</td><td>0.0</td><td>0.0</td><td>0.0</td><td>0.0</td><td>0.0</td><td>0.0</td><td>0.0</td><td>0.0</td><td>0.0</td><td>0.0</td><td>0.0</td><td>0.0</td><td>0.0</td><td>0.0</td></tr><tr><td>117132</td><td>0.0</td><td>0.0</td><td>0.0</td><td>0.0</td><td>0.0</td><td>0.0</td><td>0.0</td><td>0.0</td><td>0.0</td><td>0.0</td><td>0.0</td><td>0.0</td><td>0.0</td><td>0.0</td><td>0.0</td><td>0.0</td><td>0.0</td><td>0.0</td><td>0.0</td><td>0.0</td><td>0.0</td><td>0.0</td><td>0.0</td><td>0.0</td><td>0.0</td><td>0.0</td><td>0.0</td><td>0.0</td><td>0.0</td><td>0.0</td><td>0.0</td><td>0.0</td><td>0.0</td><td>0.0</td><td>0.0</td><td>0.0</td><td>...</td><td>0.0</td><td>0.0</td><td>0.0</td><td>0.0</td><td>0.0</td><td>0.0</td><td>0.0</td><td>0.0</td><td>0.0</td><td>0.0</td><td>0.0</td><td>0.0</td><td>0.0</td><td>0.0</td><td>0.0</td><td>0.0</td><td>0.0</td><td>0.0</td><td>0.0</td><td>0.0</td><td>0.0</td><td>0.0</td><td>0.0</td><td>0.0</td><td>0.0</td><td>0.0</td><td>0.0</td><td>0.0</td><td>0.0</td><td>0.0</td><td>0.0</td><td>0.0</td><td>0.0</td><td>0.0</td><td>0.0</td><td>0.0</td><td>0.0</td></tr><tr><td>79395</td><td>0.0</td><td>0.0</td><td>0.0</td><td>0.0</td><td>0.0</td><td>0.0</td><td>0.0</td><td>0.0</td><td>0.0</td><td>0.0</td><td>0.0</td><td>0.0</td><td>0.0</td><td>0.0</td><td>0.0</td><td>0.0</td><td>0.0</td><td>0.0</td><td>0.0</td><td>0.0</td><td>0.0</td><td>0.0</td><td>0.0</td><td>0.0</td><td>0.0</td><td>0.0</td><td>0.0</td><td>0.0</td><td>0.0</td><td>0.0</td><td>0.0</td><td>0.0</td><td>0.0</td><td>0.0</td><td>0.0</td><td>0.0</td><td>...</td><td>0.0</td><td>0.0</td><td>0.0</td><td>0.0</td><td>0.0</td><td>0.0</td><td>0.0</td><td>0.0</td><td>0.0</td><td>0.0</td><td>0.0</td><td>0.0</td><td>0.0</td><td>0.0</td><td>0.0</td><td>0.0</td><td>0.0</td><td>0.0</td><td>0.0</td><td>0.0</td><td>0.0</td><td>0.0</td><td>0.0</td><td>0.0</td><td>0.0</td><td>0.0</td><td>0.0</td><td>0.0</td><td>0.0</td><td>0.0</td><td>0.0</td><td>0.0</td><td>0.0</td><td>0.0</td><td>0.0</td><td>0.0</td><td>0.0</td></tr><tr><td>91294</td><td>0.0</td><td>3.0</td><td>1.0</td><td>20.0</td><td>4.0</td><td>22.0</td><td>9.0</td><td>22.0</td><td>2.0</td><td>2.0</td><td>63.0</td><td>5.0</td><td>11.0</td><td>14.0</td><td>7.0</td><td>13.0</td><td>5.0</td><td>12.0</td><td>13.0</td><td>1.0</td><td>15.0</td><td>62.0</td><td>31.0</td><td>59.0</td><td>3.0</td><td>8.0</td><td>105.0</td><td>11.0</td><td>25.0</td><td>3.0</td><td>0.0</td><td>1.0</td><td>8.0</td><td>38.0</td><td>11.0</td><td>4.0</td><td>...</td><td>0.0</td><td>0.0</td><td>0.0</td><td>0.0</td><td>0.0</td><td>0.0</td><td>0.0</td><td>0.0</td><td>0.0</td><td>0.0</td><td>0.0</td><td>0.0</td><td>0.0</td><td>0.0</td><td>0.0</td><td>0.0</td><td>0.0</td><td>0.0</td><td>0.0</td><td>0.0</td><td>0.0</td><td>0.0</td><td>0.0</td><td>0.0</td><td>0.0</td><td>0.0</td><td>0.0</td><td>0.0</td><td>0.0</td><td>0.0</td><td>0.0</td><td>0.0</td><td>0.0</td><td>0.0</td><td>0.0</td><td>0.0</td><td>0.0</td></tr><tr><td>161323</td><td>0.0</td><td>0.0</td><td>0.0</td><td>0.0</td><td>0.0</td><td>0.0</td><td>0.0</td><td>0.0</td><td>0.0</td><td>0.0</td><td>0.0</td><td>0.0</td><td>0.0</td><td>0.0</td><td>0.0</td><td>0.0</td><td>0.0</td><td>0.0</td><td>0.0</td><td>0.0</td><td>0.0</td><td>0.0</td><td>0.0</td><td>0.0</td><td>0.0</td><td>0.0</td><td>0.0</td><td>0.0</td><td>0.0</td><td>0.0</td><td>0.0</td><td>0.0</td><td>0.0</td><td>0.0</td><td>0.0</td><td>0.0</td><td>...</td><td>0.0</td><td>0.0</td><td>0.0</td><td>0.0</td><td>0.0</td><td>0.0</td><td>0.0</td><td>0.0</td><td>0.0</td><td>0.0</td><td>0.0</td><td>0.0</td><td>0.0</td><td>0.0</td><td>0.0</td><td>0.0</td><td>0.0</td><td>0.0</td><td>0.0</td><td>0.0</td><td>0.0</td><td>0.0</td><td>0.0</td><td>0.0</td><td>0.0</td><td>0.0</td><td>0.0</td><td>0.0</td><td>0.0</td><td>0.0</td><td>0.0</td><td>0.0</td><td>0.0</td><td>0.0</td><td>0.0</td><td>0.0</td><td>0.0</td></tr></tbody></table></div>"
      ],
      "text/plain": [
       "shape: (5, 397)\n",
       "┌─────────┬────────────┬──────────────┬──────────────┬─────┬──────────────┬──────────────┬──────────────┬──────────────┐\n",
       "│ user_id ┆ 2022-06-15 ┆ 2022-06-19   ┆ 2022-06-12   ┆ ... ┆ 2022-10-30   ┆ 2022-10-17   ┆ 2022-10-23   ┆ 2022-10-10   │\n",
       "│ ---     ┆ 00:00:00.0 ┆ 00:00:00.000 ┆ 00:00:00.000 ┆     ┆ 00:00:00.000 ┆ 00:00:00.000 ┆ 00:00:00.000 ┆ 00:00:00.000 │\n",
       "│ i32     ┆ 00000000   ┆ 000000       ┆ 000000       ┆     ┆ 000000       ┆ 000000       ┆ 000000       ┆ 000000       │\n",
       "│         ┆ ---        ┆ ---          ┆ ---          ┆     ┆ ---          ┆ ---          ┆ ---          ┆ ---          │\n",
       "│         ┆ f32        ┆ f32          ┆ f32          ┆     ┆ f32          ┆ f32          ┆ f32          ┆ f32          │\n",
       "╞═════════╪════════════╪══════════════╪══════════════╪═════╪══════════════╪══════════════╪══════════════╪══════════════╡\n",
       "│ 45098   ┆ 26.0       ┆ 20.0         ┆ 24.0         ┆ ... ┆ 0.0          ┆ 0.0          ┆ 0.0          ┆ 0.0          │\n",
       "│ 117132  ┆ 0.0        ┆ 0.0          ┆ 0.0          ┆ ... ┆ 0.0          ┆ 0.0          ┆ 0.0          ┆ 0.0          │\n",
       "│ 79395   ┆ 0.0        ┆ 0.0          ┆ 0.0          ┆ ... ┆ 0.0          ┆ 0.0          ┆ 0.0          ┆ 0.0          │\n",
       "│ 91294   ┆ 0.0        ┆ 3.0          ┆ 1.0          ┆ ... ┆ 0.0          ┆ 0.0          ┆ 0.0          ┆ 0.0          │\n",
       "│ 161323  ┆ 0.0        ┆ 0.0          ┆ 0.0          ┆ ... ┆ 0.0          ┆ 0.0          ┆ 0.0          ┆ 0.0          │\n",
       "└─────────┴────────────┴──────────────┴──────────────┴─────┴──────────────┴──────────────┴──────────────┴──────────────┘"
      ]
     },
     "execution_count": 8,
     "metadata": {},
     "output_type": "execute_result"
    }
   ],
   "source": [
    "data_date_activity.head()"
   ]
  },
  {
   "cell_type": "code",
   "execution_count": 9,
   "id": "682dda74",
   "metadata": {},
   "outputs": [],
   "source": [
    "cat_list = ['user_id',\n",
    "            'cpe_manufacturer_name',\n",
    "            'cpe_type_cd',\n",
    "            'cpe_model_os_type',\n",
    "            'price',\n",
    "           'request_cnt']"
   ]
  },
  {
   "cell_type": "code",
   "execution_count": 10,
   "id": "74d690c3",
   "metadata": {},
   "outputs": [],
   "source": [
    "data_cat = pl.from_arrow(read_arrow.select(cat_list))"
   ]
  },
  {
   "cell_type": "code",
   "execution_count": 11,
   "id": "17a453f9",
   "metadata": {},
   "outputs": [
    {
     "data": {
      "text/html": [
       "<div><style>\n",
       ".dataframe > thead > tr > th,\n",
       ".dataframe > tbody > tr > td {\n",
       "  text-align: right;\n",
       "}\n",
       "</style>\n",
       "<small>shape: (322899435, 6)</small><table border=\"1\" class=\"dataframe\"><thead><tr><th>user_id</th><th>cpe_manufacturer_name</th><th>cpe_type_cd</th><th>cpe_model_os_type</th><th>price</th><th>request_cnt</th></tr><tr><td>i32</td><td>cat</td><td>cat</td><td>cat</td><td>f32</td><td>i8</td></tr></thead><tbody><tr><td>45098</td><td>&quot;Apple&quot;</td><td>&quot;smartphone&quot;</td><td>&quot;iOS&quot;</td><td>20368.0</td><td>1</td></tr><tr><td>45098</td><td>&quot;Apple&quot;</td><td>&quot;smartphone&quot;</td><td>&quot;iOS&quot;</td><td>20368.0</td><td>1</td></tr><tr><td>45098</td><td>&quot;Apple&quot;</td><td>&quot;smartphone&quot;</td><td>&quot;iOS&quot;</td><td>20368.0</td><td>1</td></tr><tr><td>45098</td><td>&quot;Apple&quot;</td><td>&quot;smartphone&quot;</td><td>&quot;iOS&quot;</td><td>20368.0</td><td>1</td></tr><tr><td>45098</td><td>&quot;Apple&quot;</td><td>&quot;smartphone&quot;</td><td>&quot;iOS&quot;</td><td>20368.0</td><td>1</td></tr><tr><td>45098</td><td>&quot;Apple&quot;</td><td>&quot;smartphone&quot;</td><td>&quot;iOS&quot;</td><td>20368.0</td><td>2</td></tr><tr><td>45098</td><td>&quot;Apple&quot;</td><td>&quot;smartphone&quot;</td><td>&quot;iOS&quot;</td><td>20368.0</td><td>1</td></tr><tr><td>45098</td><td>&quot;Apple&quot;</td><td>&quot;smartphone&quot;</td><td>&quot;iOS&quot;</td><td>20368.0</td><td>1</td></tr><tr><td>45098</td><td>&quot;Apple&quot;</td><td>&quot;smartphone&quot;</td><td>&quot;iOS&quot;</td><td>20368.0</td><td>1</td></tr><tr><td>45098</td><td>&quot;Apple&quot;</td><td>&quot;smartphone&quot;</td><td>&quot;iOS&quot;</td><td>20368.0</td><td>1</td></tr><tr><td>45098</td><td>&quot;Apple&quot;</td><td>&quot;smartphone&quot;</td><td>&quot;iOS&quot;</td><td>20368.0</td><td>1</td></tr><tr><td>45098</td><td>&quot;Apple&quot;</td><td>&quot;smartphone&quot;</td><td>&quot;iOS&quot;</td><td>20368.0</td><td>1</td></tr><tr><td>...</td><td>...</td><td>...</td><td>...</td><td>...</td><td>...</td></tr><tr><td>300964</td><td>&quot;Samsung&quot;</td><td>&quot;smartphone&quot;</td><td>&quot;Android&quot;</td><td>16376.0</td><td>1</td></tr><tr><td>300964</td><td>&quot;Samsung&quot;</td><td>&quot;smartphone&quot;</td><td>&quot;Android&quot;</td><td>16376.0</td><td>1</td></tr><tr><td>300964</td><td>&quot;Samsung&quot;</td><td>&quot;smartphone&quot;</td><td>&quot;Android&quot;</td><td>16376.0</td><td>1</td></tr><tr><td>300964</td><td>&quot;Samsung&quot;</td><td>&quot;smartphone&quot;</td><td>&quot;Android&quot;</td><td>16376.0</td><td>1</td></tr><tr><td>300964</td><td>&quot;Samsung&quot;</td><td>&quot;smartphone&quot;</td><td>&quot;Android&quot;</td><td>16376.0</td><td>1</td></tr><tr><td>300964</td><td>&quot;Samsung&quot;</td><td>&quot;smartphone&quot;</td><td>&quot;Android&quot;</td><td>16376.0</td><td>1</td></tr><tr><td>300964</td><td>&quot;Samsung&quot;</td><td>&quot;smartphone&quot;</td><td>&quot;Android&quot;</td><td>16376.0</td><td>1</td></tr><tr><td>300964</td><td>&quot;Samsung&quot;</td><td>&quot;smartphone&quot;</td><td>&quot;Android&quot;</td><td>16376.0</td><td>1</td></tr><tr><td>300964</td><td>&quot;Samsung&quot;</td><td>&quot;smartphone&quot;</td><td>&quot;Android&quot;</td><td>16376.0</td><td>1</td></tr><tr><td>300964</td><td>&quot;Samsung&quot;</td><td>&quot;smartphone&quot;</td><td>&quot;Android&quot;</td><td>16376.0</td><td>1</td></tr><tr><td>300964</td><td>&quot;Samsung&quot;</td><td>&quot;smartphone&quot;</td><td>&quot;Android&quot;</td><td>16376.0</td><td>1</td></tr><tr><td>300964</td><td>&quot;Samsung&quot;</td><td>&quot;smartphone&quot;</td><td>&quot;Android&quot;</td><td>16376.0</td><td>1</td></tr></tbody></table></div>"
      ],
      "text/plain": [
       "shape: (322899435, 6)\n",
       "┌─────────┬───────────────────────┬─────────────┬───────────────────┬─────────┬─────────────┐\n",
       "│ user_id ┆ cpe_manufacturer_name ┆ cpe_type_cd ┆ cpe_model_os_type ┆ price   ┆ request_cnt │\n",
       "│ ---     ┆ ---                   ┆ ---         ┆ ---               ┆ ---     ┆ ---         │\n",
       "│ i32     ┆ cat                   ┆ cat         ┆ cat               ┆ f32     ┆ i8          │\n",
       "╞═════════╪═══════════════════════╪═════════════╪═══════════════════╪═════════╪═════════════╡\n",
       "│ 45098   ┆ Apple                 ┆ smartphone  ┆ iOS               ┆ 20368.0 ┆ 1           │\n",
       "│ 45098   ┆ Apple                 ┆ smartphone  ┆ iOS               ┆ 20368.0 ┆ 1           │\n",
       "│ 45098   ┆ Apple                 ┆ smartphone  ┆ iOS               ┆ 20368.0 ┆ 1           │\n",
       "│ 45098   ┆ Apple                 ┆ smartphone  ┆ iOS               ┆ 20368.0 ┆ 1           │\n",
       "│ ...     ┆ ...                   ┆ ...         ┆ ...               ┆ ...     ┆ ...         │\n",
       "│ 300964  ┆ Samsung               ┆ smartphone  ┆ Android           ┆ 16376.0 ┆ 1           │\n",
       "│ 300964  ┆ Samsung               ┆ smartphone  ┆ Android           ┆ 16376.0 ┆ 1           │\n",
       "│ 300964  ┆ Samsung               ┆ smartphone  ┆ Android           ┆ 16376.0 ┆ 1           │\n",
       "│ 300964  ┆ Samsung               ┆ smartphone  ┆ Android           ┆ 16376.0 ┆ 1           │\n",
       "└─────────┴───────────────────────┴─────────────┴───────────────────┴─────────┴─────────────┘"
      ]
     },
     "execution_count": 11,
     "metadata": {},
     "output_type": "execute_result"
    }
   ],
   "source": [
    "data_cat"
   ]
  },
  {
   "cell_type": "code",
   "execution_count": 12,
   "id": "7c300673",
   "metadata": {},
   "outputs": [],
   "source": [
    "data_cat_pl = data_cat.groupby(\"user_id\").agg([\n",
    "                                                pl.last('cpe_manufacturer_name'),\n",
    "                                                pl.last('cpe_type_cd'),\n",
    "                                                pl.last('cpe_model_os_type'),\n",
    "                                                pl.last('price'),\n",
    "                                                pl.col('request_cnt').sum()\n",
    "                                            ]\n",
    ")"
   ]
  },
  {
   "cell_type": "code",
   "execution_count": 13,
   "id": "d4d54ec6",
   "metadata": {},
   "outputs": [
    {
     "data": {
      "text/html": [
       "<div><style>\n",
       ".dataframe > thead > tr > th,\n",
       ".dataframe > tbody > tr > td {\n",
       "  text-align: right;\n",
       "}\n",
       "</style>\n",
       "<small>shape: (5, 6)</small><table border=\"1\" class=\"dataframe\"><thead><tr><th>user_id</th><th>cpe_manufacturer_name</th><th>cpe_type_cd</th><th>cpe_model_os_type</th><th>price</th><th>request_cnt</th></tr><tr><td>i32</td><td>cat</td><td>cat</td><td>cat</td><td>f32</td><td>i64</td></tr></thead><tbody><tr><td>254752</td><td>&quot;Huawei&quot;</td><td>&quot;smartphone&quot;</td><td>&quot;Android&quot;</td><td>11860.0</td><td>350</td></tr><tr><td>151184</td><td>&quot;Xiaomi&quot;</td><td>&quot;smartphone&quot;</td><td>&quot;Android&quot;</td><td>20405.0</td><td>700</td></tr><tr><td>213616</td><td>&quot;Huawei&quot;</td><td>&quot;smartphone&quot;</td><td>&quot;Android&quot;</td><td>8990.0</td><td>65</td></tr><tr><td>34352</td><td>&quot;Xiaomi&quot;</td><td>&quot;smartphone&quot;</td><td>&quot;Android&quot;</td><td>10221.0</td><td>1694</td></tr><tr><td>320304</td><td>&quot;Apple&quot;</td><td>&quot;smartphone&quot;</td><td>&quot;iOS&quot;</td><td>116323.0</td><td>3026</td></tr></tbody></table></div>"
      ],
      "text/plain": [
       "shape: (5, 6)\n",
       "┌─────────┬───────────────────────┬─────────────┬───────────────────┬──────────┬─────────────┐\n",
       "│ user_id ┆ cpe_manufacturer_name ┆ cpe_type_cd ┆ cpe_model_os_type ┆ price    ┆ request_cnt │\n",
       "│ ---     ┆ ---                   ┆ ---         ┆ ---               ┆ ---      ┆ ---         │\n",
       "│ i32     ┆ cat                   ┆ cat         ┆ cat               ┆ f32      ┆ i64         │\n",
       "╞═════════╪═══════════════════════╪═════════════╪═══════════════════╪══════════╪═════════════╡\n",
       "│ 254752  ┆ Huawei                ┆ smartphone  ┆ Android           ┆ 11860.0  ┆ 350         │\n",
       "│ 151184  ┆ Xiaomi                ┆ smartphone  ┆ Android           ┆ 20405.0  ┆ 700         │\n",
       "│ 213616  ┆ Huawei                ┆ smartphone  ┆ Android           ┆ 8990.0   ┆ 65          │\n",
       "│ 34352   ┆ Xiaomi                ┆ smartphone  ┆ Android           ┆ 10221.0  ┆ 1694        │\n",
       "│ 320304  ┆ Apple                 ┆ smartphone  ┆ iOS               ┆ 116323.0 ┆ 3026        │\n",
       "└─────────┴───────────────────────┴─────────────┴───────────────────┴──────────┴─────────────┘"
      ]
     },
     "execution_count": 13,
     "metadata": {},
     "output_type": "execute_result"
    }
   ],
   "source": [
    "data_cat_pl.head()"
   ]
  },
  {
   "cell_type": "code",
   "execution_count": 14,
   "id": "b0665432",
   "metadata": {},
   "outputs": [],
   "source": [
    "day_part_pl = pl.from_arrow(read_arrow.select(['user_id', 'part_of_day', 'request_cnt']).\\\n",
    "                            group_by(['user_id', 'part_of_day']).aggregate([('request_cnt', \"sum\")]))\\\n",
    "                            .pivot(index='user_id', columns='part_of_day', values='request_cnt_sum')"
   ]
  },
  {
   "cell_type": "code",
   "execution_count": 15,
   "id": "95d3583d",
   "metadata": {},
   "outputs": [],
   "source": [
    "for name in day_part_pl.columns:   \n",
    "    day_part_pl = day_part_pl.with_columns(pl.col(name).cast(pl.Int32))"
   ]
  },
  {
   "cell_type": "code",
   "execution_count": 16,
   "id": "f8797c0f",
   "metadata": {},
   "outputs": [
    {
     "data": {
      "text/html": [
       "<div><style>\n",
       ".dataframe > thead > tr > th,\n",
       ".dataframe > tbody > tr > td {\n",
       "  text-align: right;\n",
       "}\n",
       "</style>\n",
       "<small>shape: (5, 5)</small><table border=\"1\" class=\"dataframe\"><thead><tr><th>user_id</th><th>morning</th><th>day</th><th>evening</th><th>night</th></tr><tr><td>i32</td><td>i32</td><td>i32</td><td>i32</td><td>i32</td></tr></thead><tbody><tr><td>45098</td><td>610</td><td>770</td><td>624</td><td>257</td></tr><tr><td>117132</td><td>238</td><td>614</td><td>430</td><td>4</td></tr><tr><td>79395</td><td>638</td><td>1239</td><td>1001</td><td>428</td></tr><tr><td>91294</td><td>511</td><td>833</td><td>836</td><td>257</td></tr><tr><td>161323</td><td>243</td><td>99</td><td>91</td><td>8</td></tr></tbody></table></div>"
      ],
      "text/plain": [
       "shape: (5, 5)\n",
       "┌─────────┬─────────┬──────┬─────────┬───────┐\n",
       "│ user_id ┆ morning ┆ day  ┆ evening ┆ night │\n",
       "│ ---     ┆ ---     ┆ ---  ┆ ---     ┆ ---   │\n",
       "│ i32     ┆ i32     ┆ i32  ┆ i32     ┆ i32   │\n",
       "╞═════════╪═════════╪══════╪═════════╪═══════╡\n",
       "│ 45098   ┆ 610     ┆ 770  ┆ 624     ┆ 257   │\n",
       "│ 117132  ┆ 238     ┆ 614  ┆ 430     ┆ 4     │\n",
       "│ 79395   ┆ 638     ┆ 1239 ┆ 1001    ┆ 428   │\n",
       "│ 91294   ┆ 511     ┆ 833  ┆ 836     ┆ 257   │\n",
       "│ 161323  ┆ 243     ┆ 99   ┆ 91      ┆ 8     │\n",
       "└─────────┴─────────┴──────┴─────────┴───────┘"
      ]
     },
     "execution_count": 16,
     "metadata": {},
     "output_type": "execute_result"
    }
   ],
   "source": [
    "day_part_pl.head()"
   ]
  },
  {
   "cell_type": "code",
   "execution_count": 17,
   "id": "6e9655ac",
   "metadata": {},
   "outputs": [],
   "source": [
    "day_region_name_pl = pl.from_arrow(read_arrow.select(['user_id', 'region_name', 'request_cnt']).\\\n",
    "                            group_by(['user_id', 'region_name']).aggregate([('request_cnt', \"sum\")]))\\\n",
    "                            .pivot(index='user_id', columns='region_name', values='request_cnt_sum')"
   ]
  },
  {
   "cell_type": "code",
   "execution_count": 18,
   "id": "5cc3117d",
   "metadata": {},
   "outputs": [],
   "source": [
    "for name in day_region_name_pl.columns:   \n",
    "    day_region_name_pl = day_region_name_pl.with_columns(pl.col(name).cast(pl.Int32))"
   ]
  },
  {
   "cell_type": "code",
   "execution_count": 19,
   "id": "343b844f",
   "metadata": {},
   "outputs": [],
   "source": [
    "day_region_name_pl = day_region_name_pl.fill_null(0)"
   ]
  },
  {
   "cell_type": "code",
   "execution_count": 20,
   "id": "0ff9746a",
   "metadata": {},
   "outputs": [
    {
     "data": {
      "text/html": [
       "<div><style>\n",
       ".dataframe > thead > tr > th,\n",
       ".dataframe > tbody > tr > td {\n",
       "  text-align: right;\n",
       "}\n",
       "</style>\n",
       "<small>shape: (415317, 82)</small><table border=\"1\" class=\"dataframe\"><thead><tr><th>user_id</th><th>Краснодарский край</th><th>Ставропольский край</th><th>Республика Адыгея</th><th>Санкт-Петербург</th><th>Калининградская область</th><th>Тюменская область</th><th>Свердловская область</th><th>Ханты-Мансийский АО — Югра</th><th>Пермский край</th><th>Челябинская область</th><th>Мурманская область</th><th>Томская область</th><th>Красноярский край</th><th>Новосибирская область</th><th>Кемеровская область - Кузбасс</th><th>Республика Алтай</th><th>Республика Татарстан</th><th>Самарская область</th><th>Республика Коми</th><th>Кировская область</th><th>Республика Марий Эл</th><th>Республика Башкортостан</th><th>Алтайский край</th><th>Тверская область</th><th>Хабаровский край</th><th>Приморский край</th><th>Республика Саха (Якутия)</th><th>Московская область</th><th>Москва</th><th>Ярославская область</th><th>Орловская область</th><th>Ивановская область</th><th>Тамбовская область</th><th>Ростовская область</th><th>Воронежская область</th><th>Владимирская область</th><th>...</th><th>Пензенская область</th><th>Ненецкий АО</th><th>Новгородская область</th><th>Вологодская область</th><th>Псковская область</th><th>Республика Мордовия</th><th>Ульяновская область</th><th>Липецкая область</th><th>Архангельская область</th><th>Омская область</th><th>Республика Хакасия</th><th>Нижегородская область</th><th>Саратовская область</th><th>Оренбургская область</th><th>Республика Северная Осетия — Алания</th><th>Карачаево-Черкесская Республика</th><th>Удмуртская Республика</th><th>Чувашская Республика</th><th>Амурская область</th><th>Камчатский край</th><th>Курганская область</th><th>Брянская область</th><th>Белгородская область</th><th>Костромская область</th><th>Кабардино-Балкарская Республика</th><th>Еврейская АО</th><th>Республика Калмыкия</th><th>Курская область</th><th>Чеченская Республика</th><th>Астраханская область</th><th>Сахалинская область</th><th>Республика Ингушетия</th><th>Республика Тыва</th><th>Ямало-Ненецкий АО</th><th>Магаданская область</th><th>Чукотский АО</th><th>Иркутская область</th></tr><tr><td>i32</td><td>i32</td><td>i32</td><td>i32</td><td>i32</td><td>i32</td><td>i32</td><td>i32</td><td>i32</td><td>i32</td><td>i32</td><td>i32</td><td>i32</td><td>i32</td><td>i32</td><td>i32</td><td>i32</td><td>i32</td><td>i32</td><td>i32</td><td>i32</td><td>i32</td><td>i32</td><td>i32</td><td>i32</td><td>i32</td><td>i32</td><td>i32</td><td>i32</td><td>i32</td><td>i32</td><td>i32</td><td>i32</td><td>i32</td><td>i32</td><td>i32</td><td>i32</td><td>...</td><td>i32</td><td>i32</td><td>i32</td><td>i32</td><td>i32</td><td>i32</td><td>i32</td><td>i32</td><td>i32</td><td>i32</td><td>i32</td><td>i32</td><td>i32</td><td>i32</td><td>i32</td><td>i32</td><td>i32</td><td>i32</td><td>i32</td><td>i32</td><td>i32</td><td>i32</td><td>i32</td><td>i32</td><td>i32</td><td>i32</td><td>i32</td><td>i32</td><td>i32</td><td>i32</td><td>i32</td><td>i32</td><td>i32</td><td>i32</td><td>i32</td><td>i32</td><td>i32</td></tr></thead><tbody><tr><td>45098</td><td>2254</td><td>6</td><td>1</td><td>0</td><td>0</td><td>0</td><td>0</td><td>0</td><td>0</td><td>0</td><td>0</td><td>0</td><td>0</td><td>0</td><td>0</td><td>0</td><td>0</td><td>0</td><td>0</td><td>0</td><td>0</td><td>0</td><td>0</td><td>0</td><td>0</td><td>0</td><td>0</td><td>0</td><td>0</td><td>0</td><td>0</td><td>0</td><td>0</td><td>0</td><td>0</td><td>0</td><td>...</td><td>0</td><td>0</td><td>0</td><td>0</td><td>0</td><td>0</td><td>0</td><td>0</td><td>0</td><td>0</td><td>0</td><td>0</td><td>0</td><td>0</td><td>0</td><td>0</td><td>0</td><td>0</td><td>0</td><td>0</td><td>0</td><td>0</td><td>0</td><td>0</td><td>0</td><td>0</td><td>0</td><td>0</td><td>0</td><td>0</td><td>0</td><td>0</td><td>0</td><td>0</td><td>0</td><td>0</td><td>0</td></tr><tr><td>117132</td><td>0</td><td>0</td><td>0</td><td>1286</td><td>0</td><td>0</td><td>0</td><td>0</td><td>0</td><td>0</td><td>0</td><td>0</td><td>0</td><td>0</td><td>0</td><td>0</td><td>0</td><td>0</td><td>0</td><td>0</td><td>0</td><td>0</td><td>0</td><td>0</td><td>0</td><td>0</td><td>0</td><td>0</td><td>0</td><td>0</td><td>0</td><td>0</td><td>0</td><td>0</td><td>0</td><td>0</td><td>...</td><td>0</td><td>0</td><td>0</td><td>0</td><td>0</td><td>0</td><td>0</td><td>0</td><td>0</td><td>0</td><td>0</td><td>0</td><td>0</td><td>0</td><td>0</td><td>0</td><td>0</td><td>0</td><td>0</td><td>0</td><td>0</td><td>0</td><td>0</td><td>0</td><td>0</td><td>0</td><td>0</td><td>0</td><td>0</td><td>0</td><td>0</td><td>0</td><td>0</td><td>0</td><td>0</td><td>0</td><td>0</td></tr><tr><td>79395</td><td>0</td><td>0</td><td>0</td><td>3167</td><td>139</td><td>0</td><td>0</td><td>0</td><td>0</td><td>0</td><td>0</td><td>0</td><td>0</td><td>0</td><td>0</td><td>0</td><td>0</td><td>0</td><td>0</td><td>0</td><td>0</td><td>0</td><td>0</td><td>0</td><td>0</td><td>0</td><td>0</td><td>0</td><td>0</td><td>0</td><td>0</td><td>0</td><td>0</td><td>0</td><td>0</td><td>0</td><td>...</td><td>0</td><td>0</td><td>0</td><td>0</td><td>0</td><td>0</td><td>0</td><td>0</td><td>0</td><td>0</td><td>0</td><td>0</td><td>0</td><td>0</td><td>0</td><td>0</td><td>0</td><td>0</td><td>0</td><td>0</td><td>0</td><td>0</td><td>0</td><td>0</td><td>0</td><td>0</td><td>0</td><td>0</td><td>0</td><td>0</td><td>0</td><td>0</td><td>0</td><td>0</td><td>0</td><td>0</td><td>0</td></tr><tr><td>91294</td><td>2437</td><td>0</td><td>0</td><td>0</td><td>0</td><td>0</td><td>0</td><td>0</td><td>0</td><td>0</td><td>0</td><td>0</td><td>0</td><td>0</td><td>0</td><td>0</td><td>0</td><td>0</td><td>0</td><td>0</td><td>0</td><td>0</td><td>0</td><td>0</td><td>0</td><td>0</td><td>0</td><td>0</td><td>0</td><td>0</td><td>0</td><td>0</td><td>0</td><td>0</td><td>0</td><td>0</td><td>...</td><td>0</td><td>0</td><td>0</td><td>0</td><td>0</td><td>0</td><td>0</td><td>0</td><td>0</td><td>0</td><td>0</td><td>0</td><td>0</td><td>0</td><td>0</td><td>0</td><td>0</td><td>0</td><td>0</td><td>0</td><td>0</td><td>0</td><td>0</td><td>0</td><td>0</td><td>0</td><td>0</td><td>0</td><td>0</td><td>0</td><td>0</td><td>0</td><td>0</td><td>0</td><td>0</td><td>0</td><td>0</td></tr><tr><td>161323</td><td>0</td><td>0</td><td>0</td><td>0</td><td>0</td><td>439</td><td>2</td><td>0</td><td>0</td><td>0</td><td>0</td><td>0</td><td>0</td><td>0</td><td>0</td><td>0</td><td>0</td><td>0</td><td>0</td><td>0</td><td>0</td><td>0</td><td>0</td><td>0</td><td>0</td><td>0</td><td>0</td><td>0</td><td>0</td><td>0</td><td>0</td><td>0</td><td>0</td><td>0</td><td>0</td><td>0</td><td>...</td><td>0</td><td>0</td><td>0</td><td>0</td><td>0</td><td>0</td><td>0</td><td>0</td><td>0</td><td>0</td><td>0</td><td>0</td><td>0</td><td>0</td><td>0</td><td>0</td><td>0</td><td>0</td><td>0</td><td>0</td><td>0</td><td>0</td><td>0</td><td>0</td><td>0</td><td>0</td><td>0</td><td>0</td><td>0</td><td>0</td><td>0</td><td>0</td><td>0</td><td>0</td><td>0</td><td>0</td><td>0</td></tr><tr><td>304574</td><td>0</td><td>0</td><td>0</td><td>0</td><td>0</td><td>0</td><td>0</td><td>198</td><td>0</td><td>0</td><td>0</td><td>0</td><td>0</td><td>0</td><td>0</td><td>0</td><td>0</td><td>0</td><td>0</td><td>0</td><td>0</td><td>0</td><td>0</td><td>0</td><td>0</td><td>0</td><td>0</td><td>0</td><td>0</td><td>0</td><td>0</td><td>0</td><td>0</td><td>0</td><td>0</td><td>0</td><td>...</td><td>0</td><td>0</td><td>0</td><td>0</td><td>0</td><td>0</td><td>0</td><td>0</td><td>0</td><td>0</td><td>0</td><td>0</td><td>0</td><td>0</td><td>0</td><td>0</td><td>0</td><td>0</td><td>0</td><td>0</td><td>0</td><td>0</td><td>0</td><td>0</td><td>0</td><td>0</td><td>0</td><td>0</td><td>0</td><td>0</td><td>0</td><td>0</td><td>0</td><td>0</td><td>0</td><td>0</td><td>0</td></tr><tr><td>204489</td><td>0</td><td>0</td><td>0</td><td>0</td><td>0</td><td>0</td><td>1014</td><td>0</td><td>0</td><td>0</td><td>0</td><td>0</td><td>0</td><td>0</td><td>0</td><td>0</td><td>0</td><td>0</td><td>0</td><td>0</td><td>0</td><td>0</td><td>0</td><td>0</td><td>0</td><td>0</td><td>0</td><td>0</td><td>0</td><td>0</td><td>0</td><td>0</td><td>0</td><td>0</td><td>0</td><td>0</td><td>...</td><td>0</td><td>0</td><td>0</td><td>0</td><td>0</td><td>0</td><td>0</td><td>0</td><td>0</td><td>0</td><td>0</td><td>0</td><td>0</td><td>0</td><td>0</td><td>0</td><td>0</td><td>0</td><td>0</td><td>0</td><td>0</td><td>0</td><td>0</td><td>0</td><td>0</td><td>0</td><td>0</td><td>0</td><td>0</td><td>0</td><td>0</td><td>0</td><td>0</td><td>0</td><td>0</td><td>0</td><td>0</td></tr><tr><td>148545</td><td>0</td><td>0</td><td>0</td><td>0</td><td>0</td><td>4906</td><td>127</td><td>0</td><td>0</td><td>0</td><td>0</td><td>0</td><td>0</td><td>0</td><td>0</td><td>0</td><td>0</td><td>0</td><td>0</td><td>0</td><td>0</td><td>0</td><td>0</td><td>0</td><td>0</td><td>0</td><td>0</td><td>0</td><td>0</td><td>0</td><td>0</td><td>0</td><td>0</td><td>0</td><td>0</td><td>0</td><td>...</td><td>0</td><td>0</td><td>0</td><td>0</td><td>0</td><td>0</td><td>0</td><td>0</td><td>0</td><td>0</td><td>0</td><td>0</td><td>0</td><td>0</td><td>0</td><td>0</td><td>0</td><td>0</td><td>0</td><td>0</td><td>0</td><td>0</td><td>0</td><td>0</td><td>0</td><td>0</td><td>0</td><td>0</td><td>0</td><td>0</td><td>0</td><td>0</td><td>0</td><td>0</td><td>0</td><td>0</td><td>0</td></tr><tr><td>16874</td><td>0</td><td>0</td><td>0</td><td>0</td><td>0</td><td>0</td><td>0</td><td>0</td><td>2849</td><td>0</td><td>0</td><td>0</td><td>0</td><td>0</td><td>0</td><td>0</td><td>0</td><td>0</td><td>0</td><td>0</td><td>0</td><td>0</td><td>0</td><td>0</td><td>0</td><td>0</td><td>0</td><td>0</td><td>0</td><td>0</td><td>0</td><td>0</td><td>0</td><td>0</td><td>0</td><td>0</td><td>...</td><td>0</td><td>0</td><td>0</td><td>0</td><td>0</td><td>0</td><td>0</td><td>0</td><td>0</td><td>0</td><td>0</td><td>0</td><td>0</td><td>0</td><td>0</td><td>0</td><td>0</td><td>0</td><td>0</td><td>0</td><td>0</td><td>0</td><td>0</td><td>0</td><td>0</td><td>0</td><td>0</td><td>0</td><td>0</td><td>0</td><td>0</td><td>0</td><td>0</td><td>0</td><td>0</td><td>0</td><td>0</td></tr><tr><td>316847</td><td>0</td><td>0</td><td>0</td><td>0</td><td>0</td><td>0</td><td>0</td><td>0</td><td>0</td><td>3295</td><td>0</td><td>0</td><td>0</td><td>0</td><td>0</td><td>0</td><td>0</td><td>0</td><td>0</td><td>0</td><td>0</td><td>0</td><td>0</td><td>0</td><td>0</td><td>0</td><td>0</td><td>0</td><td>0</td><td>0</td><td>0</td><td>0</td><td>0</td><td>0</td><td>0</td><td>0</td><td>...</td><td>0</td><td>0</td><td>0</td><td>0</td><td>0</td><td>0</td><td>0</td><td>0</td><td>0</td><td>0</td><td>0</td><td>0</td><td>0</td><td>0</td><td>0</td><td>0</td><td>0</td><td>0</td><td>0</td><td>0</td><td>0</td><td>0</td><td>0</td><td>0</td><td>0</td><td>0</td><td>0</td><td>0</td><td>0</td><td>0</td><td>0</td><td>0</td><td>0</td><td>0</td><td>0</td><td>0</td><td>0</td></tr><tr><td>310327</td><td>0</td><td>0</td><td>0</td><td>0</td><td>0</td><td>0</td><td>0</td><td>0</td><td>0</td><td>0</td><td>16146</td><td>0</td><td>0</td><td>0</td><td>0</td><td>0</td><td>0</td><td>0</td><td>0</td><td>0</td><td>0</td><td>0</td><td>0</td><td>0</td><td>0</td><td>0</td><td>0</td><td>0</td><td>0</td><td>0</td><td>0</td><td>0</td><td>0</td><td>0</td><td>0</td><td>0</td><td>...</td><td>0</td><td>0</td><td>0</td><td>0</td><td>0</td><td>0</td><td>0</td><td>0</td><td>0</td><td>0</td><td>0</td><td>0</td><td>0</td><td>0</td><td>0</td><td>0</td><td>0</td><td>0</td><td>0</td><td>0</td><td>0</td><td>0</td><td>0</td><td>0</td><td>0</td><td>0</td><td>0</td><td>0</td><td>0</td><td>0</td><td>0</td><td>0</td><td>0</td><td>0</td><td>0</td><td>0</td><td>0</td></tr><tr><td>69797</td><td>0</td><td>0</td><td>0</td><td>0</td><td>0</td><td>0</td><td>0</td><td>0</td><td>0</td><td>0</td><td>0</td><td>2942</td><td>0</td><td>0</td><td>0</td><td>0</td><td>0</td><td>0</td><td>0</td><td>0</td><td>0</td><td>0</td><td>0</td><td>0</td><td>0</td><td>0</td><td>0</td><td>0</td><td>0</td><td>0</td><td>0</td><td>0</td><td>0</td><td>0</td><td>0</td><td>0</td><td>...</td><td>0</td><td>0</td><td>0</td><td>0</td><td>0</td><td>0</td><td>0</td><td>0</td><td>0</td><td>0</td><td>0</td><td>0</td><td>0</td><td>0</td><td>0</td><td>0</td><td>0</td><td>0</td><td>0</td><td>0</td><td>0</td><td>0</td><td>0</td><td>0</td><td>0</td><td>0</td><td>0</td><td>0</td><td>0</td><td>0</td><td>0</td><td>0</td><td>0</td><td>0</td><td>0</td><td>0</td><td>0</td></tr><tr><td>...</td><td>...</td><td>...</td><td>...</td><td>...</td><td>...</td><td>...</td><td>...</td><td>...</td><td>...</td><td>...</td><td>...</td><td>...</td><td>...</td><td>...</td><td>...</td><td>...</td><td>...</td><td>...</td><td>...</td><td>...</td><td>...</td><td>...</td><td>...</td><td>...</td><td>...</td><td>...</td><td>...</td><td>...</td><td>...</td><td>...</td><td>...</td><td>...</td><td>...</td><td>...</td><td>...</td><td>...</td><td>...</td><td>...</td><td>...</td><td>...</td><td>...</td><td>...</td><td>...</td><td>...</td><td>...</td><td>...</td><td>...</td><td>...</td><td>...</td><td>...</td><td>...</td><td>...</td><td>...</td><td>...</td><td>...</td><td>...</td><td>...</td><td>...</td><td>...</td><td>...</td><td>...</td><td>...</td><td>...</td><td>...</td><td>...</td><td>...</td><td>...</td><td>...</td><td>...</td><td>...</td><td>...</td><td>...</td><td>...</td><td>...</td></tr><tr><td>166501</td><td>0</td><td>0</td><td>0</td><td>0</td><td>0</td><td>0</td><td>0</td><td>0</td><td>0</td><td>0</td><td>0</td><td>0</td><td>0</td><td>0</td><td>0</td><td>0</td><td>0</td><td>0</td><td>0</td><td>0</td><td>0</td><td>0</td><td>0</td><td>0</td><td>0</td><td>0</td><td>0</td><td>0</td><td>0</td><td>0</td><td>0</td><td>0</td><td>0</td><td>0</td><td>0</td><td>0</td><td>...</td><td>0</td><td>0</td><td>0</td><td>0</td><td>0</td><td>0</td><td>0</td><td>0</td><td>0</td><td>0</td><td>0</td><td>0</td><td>0</td><td>0</td><td>0</td><td>0</td><td>0</td><td>0</td><td>0</td><td>0</td><td>0</td><td>0</td><td>0</td><td>0</td><td>0</td><td>0</td><td>0</td><td>6701</td><td>0</td><td>0</td><td>0</td><td>0</td><td>0</td><td>0</td><td>0</td><td>0</td><td>0</td></tr><tr><td>68383</td><td>0</td><td>0</td><td>0</td><td>0</td><td>0</td><td>0</td><td>0</td><td>0</td><td>0</td><td>0</td><td>0</td><td>0</td><td>0</td><td>0</td><td>0</td><td>0</td><td>0</td><td>0</td><td>0</td><td>0</td><td>0</td><td>0</td><td>0</td><td>0</td><td>0</td><td>0</td><td>0</td><td>0</td><td>1057</td><td>0</td><td>0</td><td>0</td><td>0</td><td>0</td><td>0</td><td>0</td><td>...</td><td>0</td><td>0</td><td>0</td><td>0</td><td>0</td><td>602</td><td>0</td><td>0</td><td>0</td><td>0</td><td>0</td><td>0</td><td>0</td><td>0</td><td>0</td><td>0</td><td>0</td><td>0</td><td>0</td><td>0</td><td>0</td><td>0</td><td>0</td><td>0</td><td>0</td><td>0</td><td>0</td><td>0</td><td>0</td><td>0</td><td>0</td><td>0</td><td>0</td><td>0</td><td>0</td><td>0</td><td>0</td></tr><tr><td>360784</td><td>0</td><td>0</td><td>0</td><td>0</td><td>0</td><td>0</td><td>0</td><td>0</td><td>0</td><td>0</td><td>0</td><td>0</td><td>0</td><td>0</td><td>0</td><td>0</td><td>0</td><td>0</td><td>0</td><td>0</td><td>0</td><td>0</td><td>0</td><td>0</td><td>0</td><td>0</td><td>0</td><td>0</td><td>0</td><td>0</td><td>0</td><td>1283</td><td>0</td><td>0</td><td>0</td><td>0</td><td>...</td><td>0</td><td>0</td><td>0</td><td>0</td><td>0</td><td>0</td><td>0</td><td>0</td><td>0</td><td>0</td><td>0</td><td>0</td><td>0</td><td>0</td><td>0</td><td>0</td><td>0</td><td>0</td><td>0</td><td>0</td><td>0</td><td>0</td><td>0</td><td>0</td><td>0</td><td>0</td><td>0</td><td>0</td><td>0</td><td>0</td><td>0</td><td>0</td><td>0</td><td>0</td><td>0</td><td>0</td><td>0</td></tr><tr><td>98082</td><td>0</td><td>0</td><td>0</td><td>0</td><td>0</td><td>0</td><td>0</td><td>0</td><td>0</td><td>0</td><td>0</td><td>0</td><td>0</td><td>0</td><td>0</td><td>0</td><td>0</td><td>0</td><td>0</td><td>0</td><td>0</td><td>0</td><td>0</td><td>0</td><td>0</td><td>0</td><td>0</td><td>225</td><td>141</td><td>0</td><td>0</td><td>0</td><td>0</td><td>0</td><td>0</td><td>0</td><td>...</td><td>0</td><td>0</td><td>0</td><td>0</td><td>0</td><td>0</td><td>0</td><td>0</td><td>0</td><td>0</td><td>0</td><td>0</td><td>0</td><td>0</td><td>0</td><td>0</td><td>0</td><td>0</td><td>0</td><td>0</td><td>0</td><td>0</td><td>0</td><td>0</td><td>0</td><td>0</td><td>0</td><td>0</td><td>0</td><td>0</td><td>0</td><td>0</td><td>0</td><td>0</td><td>0</td><td>0</td><td>0</td></tr><tr><td>403319</td><td>0</td><td>0</td><td>0</td><td>0</td><td>0</td><td>0</td><td>0</td><td>0</td><td>0</td><td>0</td><td>0</td><td>0</td><td>0</td><td>0</td><td>0</td><td>0</td><td>0</td><td>0</td><td>0</td><td>0</td><td>0</td><td>0</td><td>0</td><td>0</td><td>0</td><td>0</td><td>0</td><td>0</td><td>92</td><td>0</td><td>0</td><td>0</td><td>0</td><td>0</td><td>0</td><td>0</td><td>...</td><td>0</td><td>0</td><td>0</td><td>0</td><td>0</td><td>0</td><td>0</td><td>0</td><td>0</td><td>0</td><td>0</td><td>0</td><td>0</td><td>0</td><td>0</td><td>0</td><td>0</td><td>0</td><td>0</td><td>0</td><td>0</td><td>0</td><td>0</td><td>0</td><td>0</td><td>0</td><td>0</td><td>0</td><td>0</td><td>0</td><td>0</td><td>0</td><td>0</td><td>0</td><td>0</td><td>0</td><td>0</td></tr><tr><td>173577</td><td>0</td><td>0</td><td>0</td><td>0</td><td>0</td><td>0</td><td>0</td><td>0</td><td>0</td><td>0</td><td>0</td><td>0</td><td>0</td><td>0</td><td>0</td><td>0</td><td>0</td><td>0</td><td>0</td><td>0</td><td>0</td><td>0</td><td>0</td><td>0</td><td>0</td><td>0</td><td>0</td><td>0</td><td>1548</td><td>0</td><td>0</td><td>0</td><td>0</td><td>0</td><td>0</td><td>0</td><td>...</td><td>0</td><td>0</td><td>0</td><td>0</td><td>0</td><td>0</td><td>0</td><td>0</td><td>0</td><td>0</td><td>0</td><td>0</td><td>0</td><td>0</td><td>0</td><td>0</td><td>0</td><td>0</td><td>0</td><td>0</td><td>0</td><td>0</td><td>0</td><td>0</td><td>0</td><td>0</td><td>0</td><td>0</td><td>0</td><td>0</td><td>0</td><td>0</td><td>0</td><td>0</td><td>0</td><td>0</td><td>0</td></tr><tr><td>74976</td><td>0</td><td>0</td><td>0</td><td>0</td><td>0</td><td>0</td><td>24</td><td>0</td><td>0</td><td>17</td><td>0</td><td>0</td><td>4</td><td>4</td><td>7</td><td>0</td><td>0</td><td>37</td><td>0</td><td>0</td><td>0</td><td>3</td><td>0</td><td>0</td><td>0</td><td>0</td><td>0</td><td>0</td><td>0</td><td>0</td><td>1026</td><td>0</td><td>36</td><td>0</td><td>1</td><td>0</td><td>...</td><td>14</td><td>0</td><td>0</td><td>0</td><td>0</td><td>0</td><td>0</td><td>9</td><td>0</td><td>3</td><td>0</td><td>0</td><td>0</td><td>0</td><td>0</td><td>0</td><td>0</td><td>0</td><td>0</td><td>0</td><td>8</td><td>0</td><td>0</td><td>0</td><td>0</td><td>0</td><td>0</td><td>0</td><td>0</td><td>0</td><td>0</td><td>0</td><td>0</td><td>0</td><td>0</td><td>0</td><td>0</td></tr><tr><td>375972</td><td>0</td><td>0</td><td>0</td><td>0</td><td>0</td><td>0</td><td>0</td><td>0</td><td>0</td><td>0</td><td>0</td><td>0</td><td>0</td><td>0</td><td>0</td><td>0</td><td>0</td><td>260</td><td>0</td><td>0</td><td>0</td><td>0</td><td>0</td><td>0</td><td>0</td><td>0</td><td>0</td><td>25</td><td>549</td><td>0</td><td>0</td><td>0</td><td>0</td><td>0</td><td>0</td><td>0</td><td>...</td><td>0</td><td>0</td><td>0</td><td>0</td><td>0</td><td>0</td><td>0</td><td>0</td><td>0</td><td>0</td><td>0</td><td>0</td><td>0</td><td>0</td><td>0</td><td>0</td><td>0</td><td>0</td><td>0</td><td>0</td><td>0</td><td>0</td><td>0</td><td>0</td><td>0</td><td>0</td><td>0</td><td>0</td><td>0</td><td>0</td><td>0</td><td>0</td><td>0</td><td>0</td><td>0</td><td>0</td><td>0</td></tr><tr><td>160996</td><td>0</td><td>0</td><td>0</td><td>0</td><td>0</td><td>0</td><td>0</td><td>0</td><td>0</td><td>0</td><td>0</td><td>0</td><td>0</td><td>3</td><td>0</td><td>0</td><td>0</td><td>0</td><td>0</td><td>0</td><td>0</td><td>0</td><td>0</td><td>0</td><td>0</td><td>0</td><td>0</td><td>0</td><td>791</td><td>0</td><td>0</td><td>0</td><td>0</td><td>0</td><td>0</td><td>0</td><td>...</td><td>0</td><td>0</td><td>0</td><td>0</td><td>0</td><td>0</td><td>0</td><td>0</td><td>0</td><td>0</td><td>0</td><td>0</td><td>0</td><td>0</td><td>0</td><td>0</td><td>0</td><td>0</td><td>0</td><td>0</td><td>0</td><td>0</td><td>0</td><td>0</td><td>0</td><td>0</td><td>0</td><td>0</td><td>0</td><td>0</td><td>0</td><td>0</td><td>0</td><td>0</td><td>0</td><td>0</td><td>0</td></tr><tr><td>5505</td><td>0</td><td>0</td><td>0</td><td>0</td><td>0</td><td>0</td><td>0</td><td>0</td><td>0</td><td>0</td><td>0</td><td>0</td><td>0</td><td>0</td><td>0</td><td>0</td><td>0</td><td>0</td><td>0</td><td>0</td><td>0</td><td>0</td><td>0</td><td>0</td><td>0</td><td>0</td><td>0</td><td>0</td><td>0</td><td>124</td><td>0</td><td>0</td><td>0</td><td>0</td><td>0</td><td>0</td><td>...</td><td>0</td><td>0</td><td>0</td><td>0</td><td>0</td><td>0</td><td>0</td><td>0</td><td>0</td><td>0</td><td>0</td><td>0</td><td>0</td><td>0</td><td>0</td><td>0</td><td>0</td><td>0</td><td>0</td><td>0</td><td>0</td><td>0</td><td>0</td><td>0</td><td>0</td><td>0</td><td>0</td><td>0</td><td>0</td><td>0</td><td>0</td><td>0</td><td>0</td><td>0</td><td>0</td><td>0</td><td>0</td></tr><tr><td>260127</td><td>0</td><td>0</td><td>0</td><td>0</td><td>0</td><td>0</td><td>0</td><td>0</td><td>0</td><td>0</td><td>0</td><td>0</td><td>0</td><td>0</td><td>0</td><td>0</td><td>0</td><td>0</td><td>0</td><td>0</td><td>0</td><td>0</td><td>0</td><td>0</td><td>0</td><td>0</td><td>0</td><td>0</td><td>0</td><td>0</td><td>0</td><td>0</td><td>0</td><td>0</td><td>0</td><td>0</td><td>...</td><td>0</td><td>0</td><td>0</td><td>0</td><td>0</td><td>0</td><td>0</td><td>0</td><td>0</td><td>0</td><td>0</td><td>0</td><td>0</td><td>0</td><td>0</td><td>0</td><td>0</td><td>0</td><td>0</td><td>0</td><td>0</td><td>0</td><td>969</td><td>0</td><td>0</td><td>0</td><td>0</td><td>336</td><td>0</td><td>0</td><td>0</td><td>0</td><td>0</td><td>0</td><td>0</td><td>0</td><td>0</td></tr><tr><td>300964</td><td>0</td><td>0</td><td>0</td><td>0</td><td>0</td><td>0</td><td>0</td><td>0</td><td>0</td><td>0</td><td>0</td><td>0</td><td>0</td><td>0</td><td>0</td><td>0</td><td>0</td><td>0</td><td>0</td><td>0</td><td>0</td><td>0</td><td>0</td><td>0</td><td>0</td><td>0</td><td>0</td><td>0</td><td>4</td><td>0</td><td>0</td><td>0</td><td>0</td><td>0</td><td>0</td><td>0</td><td>...</td><td>0</td><td>0</td><td>0</td><td>0</td><td>0</td><td>0</td><td>0</td><td>0</td><td>0</td><td>0</td><td>0</td><td>0</td><td>0</td><td>0</td><td>0</td><td>0</td><td>0</td><td>0</td><td>0</td><td>0</td><td>0</td><td>0</td><td>0</td><td>0</td><td>0</td><td>0</td><td>0</td><td>0</td><td>0</td><td>0</td><td>0</td><td>0</td><td>0</td><td>0</td><td>0</td><td>0</td><td>0</td></tr></tbody></table></div>"
      ],
      "text/plain": [
       "shape: (415317, 82)\n",
       "┌─────────┬────────────┬───────────────┬───────────────┬─────┬───────────────┬──────────────┬──────────────┬───────────┐\n",
       "│ user_id ┆ Краснодарс ┆ Ставропольски ┆ Республика    ┆ ... ┆ Ямало-Ненецки ┆ Магаданская  ┆ Чукотский АО ┆ Иркутская │\n",
       "│ ---     ┆ кий край   ┆ й край        ┆ Адыгея        ┆     ┆ й АО          ┆ область      ┆ ---          ┆ область   │\n",
       "│ i32     ┆ ---        ┆ ---           ┆ ---           ┆     ┆ ---           ┆ ---          ┆ i32          ┆ ---       │\n",
       "│         ┆ i32        ┆ i32           ┆ i32           ┆     ┆ i32           ┆ i32          ┆              ┆ i32       │\n",
       "╞═════════╪════════════╪═══════════════╪═══════════════╪═════╪═══════════════╪══════════════╪══════════════╪═══════════╡\n",
       "│ 45098   ┆ 2254       ┆ 6             ┆ 1             ┆ ... ┆ 0             ┆ 0            ┆ 0            ┆ 0         │\n",
       "│ 117132  ┆ 0          ┆ 0             ┆ 0             ┆ ... ┆ 0             ┆ 0            ┆ 0            ┆ 0         │\n",
       "│ 79395   ┆ 0          ┆ 0             ┆ 0             ┆ ... ┆ 0             ┆ 0            ┆ 0            ┆ 0         │\n",
       "│ 91294   ┆ 2437       ┆ 0             ┆ 0             ┆ ... ┆ 0             ┆ 0            ┆ 0            ┆ 0         │\n",
       "│ ...     ┆ ...        ┆ ...           ┆ ...           ┆ ... ┆ ...           ┆ ...          ┆ ...          ┆ ...       │\n",
       "│ 160996  ┆ 0          ┆ 0             ┆ 0             ┆ ... ┆ 0             ┆ 0            ┆ 0            ┆ 0         │\n",
       "│ 5505    ┆ 0          ┆ 0             ┆ 0             ┆ ... ┆ 0             ┆ 0            ┆ 0            ┆ 0         │\n",
       "│ 260127  ┆ 0          ┆ 0             ┆ 0             ┆ ... ┆ 0             ┆ 0            ┆ 0            ┆ 0         │\n",
       "│ 300964  ┆ 0          ┆ 0             ┆ 0             ┆ ... ┆ 0             ┆ 0            ┆ 0            ┆ 0         │\n",
       "└─────────┴────────────┴───────────────┴───────────────┴─────┴───────────────┴──────────────┴──────────────┴───────────┘"
      ]
     },
     "execution_count": 20,
     "metadata": {},
     "output_type": "execute_result"
    }
   ],
   "source": [
    "day_region_name_pl"
   ]
  },
  {
   "cell_type": "code",
   "execution_count": 21,
   "id": "180e013a",
   "metadata": {},
   "outputs": [],
   "source": [
    "day_city_name_pl = pl.from_arrow(read_arrow.select(['user_id', 'city_name', 'request_cnt']).\\\n",
    "                            group_by(['user_id', 'city_name']).aggregate([('request_cnt', \"sum\")]))\\\n",
    "                            .pivot(index='user_id', columns='city_name', values='request_cnt_sum')"
   ]
  },
  {
   "cell_type": "code",
   "execution_count": 22,
   "id": "62a41f03",
   "metadata": {},
   "outputs": [],
   "source": [
    "for name in day_city_name_pl.columns:   \n",
    "    day_city_name_pl = day_city_name_pl.with_columns(pl.col(name).cast(pl.Int32))"
   ]
  },
  {
   "cell_type": "code",
   "execution_count": 23,
   "id": "8d36473f",
   "metadata": {},
   "outputs": [],
   "source": [
    "day_city_name_pl = day_city_name_pl.fill_null(0)"
   ]
  },
  {
   "cell_type": "code",
   "execution_count": 24,
   "id": "ee4cc193",
   "metadata": {},
   "outputs": [
    {
     "data": {
      "text/html": [
       "<div><style>\n",
       ".dataframe > thead > tr > th,\n",
       ".dataframe > tbody > tr > td {\n",
       "  text-align: right;\n",
       "}\n",
       "</style>\n",
       "<small>shape: (415317, 986)</small><table border=\"1\" class=\"dataframe\"><thead><tr><th>user_id</th><th>Краснодар</th><th>Ставрополь</th><th>Адыгейск</th><th>Изобильный</th><th>Новоалександровск</th><th>Санкт-Петербург</th><th>Калининград</th><th>Новороссийск</th><th>Тюмень</th><th>Екатеринбург</th><th>Нефтеюганск</th><th>Пыть-Ях</th><th>Каменск-Уральский</th><th>Тобольск</th><th>Камышлов</th><th>Пермь</th><th>Челябинск</th><th>Копейск</th><th>Мурманск</th><th>Северск</th><th>Томск</th><th>Лесосибирск</th><th>Енисейск</th><th>Красноярск</th><th>Шарыпово</th><th>Назарово</th><th>Иланский</th><th>Ачинск</th><th>Новосибирск</th><th>Юрга</th><th>Горно-Алтайск</th><th>Обь</th><th>Набережные Челны</th><th>Нижнекамск</th><th>Новокуйбышевск</th><th>Самара</th><th>...</th><th>Вуктыл</th><th>Каменногорск</th><th>Спас-Клепики</th><th>Куртамыш</th><th>Александровск</th><th>Тетюши</th><th>Дальнегорск</th><th>Злынка</th><th>Нарткала</th><th>Устюжна</th><th>Урай</th><th>Юрьевец</th><th>Сенгилей</th><th>Николаевск-на-Амуре</th><th>Надым</th><th>Пыталово</th><th>Спас-Деменск</th><th>Асино</th><th>Онега</th><th>Южа</th><th>Урюпинск</th><th>Нолинск</th><th>Углегорск</th><th>Сурск</th><th>Эртиль</th><th>Ивангород</th><th>Темников</th><th>Мглин</th><th>Короча</th><th>Макаров</th><th>Наволоки</th><th>Бирюсинск</th><th>Дмитровск</th><th>Комсомольск</th><th>Никольск</th><th>Каргополь</th><th>Тара</th></tr><tr><td>i32</td><td>i32</td><td>i32</td><td>i32</td><td>i32</td><td>i32</td><td>i32</td><td>i32</td><td>i32</td><td>i32</td><td>i32</td><td>i32</td><td>i32</td><td>i32</td><td>i32</td><td>i32</td><td>i32</td><td>i32</td><td>i32</td><td>i32</td><td>i32</td><td>i32</td><td>i32</td><td>i32</td><td>i32</td><td>i32</td><td>i32</td><td>i32</td><td>i32</td><td>i32</td><td>i32</td><td>i32</td><td>i32</td><td>i32</td><td>i32</td><td>i32</td><td>i32</td><td>...</td><td>i32</td><td>i32</td><td>i32</td><td>i32</td><td>i32</td><td>i32</td><td>i32</td><td>i32</td><td>i32</td><td>i32</td><td>i32</td><td>i32</td><td>i32</td><td>i32</td><td>i32</td><td>i32</td><td>i32</td><td>i32</td><td>i32</td><td>i32</td><td>i32</td><td>i32</td><td>i32</td><td>i32</td><td>i32</td><td>i32</td><td>i32</td><td>i32</td><td>i32</td><td>i32</td><td>i32</td><td>i32</td><td>i32</td><td>i32</td><td>i32</td><td>i32</td><td>i32</td></tr></thead><tbody><tr><td>45098</td><td>2254</td><td>4</td><td>1</td><td>1</td><td>1</td><td>0</td><td>0</td><td>0</td><td>0</td><td>0</td><td>0</td><td>0</td><td>0</td><td>0</td><td>0</td><td>0</td><td>0</td><td>0</td><td>0</td><td>0</td><td>0</td><td>0</td><td>0</td><td>0</td><td>0</td><td>0</td><td>0</td><td>0</td><td>0</td><td>0</td><td>0</td><td>0</td><td>0</td><td>0</td><td>0</td><td>0</td><td>...</td><td>0</td><td>0</td><td>0</td><td>0</td><td>0</td><td>0</td><td>0</td><td>0</td><td>0</td><td>0</td><td>0</td><td>0</td><td>0</td><td>0</td><td>0</td><td>0</td><td>0</td><td>0</td><td>0</td><td>0</td><td>0</td><td>0</td><td>0</td><td>0</td><td>0</td><td>0</td><td>0</td><td>0</td><td>0</td><td>0</td><td>0</td><td>0</td><td>0</td><td>0</td><td>0</td><td>0</td><td>0</td></tr><tr><td>117132</td><td>0</td><td>0</td><td>0</td><td>0</td><td>0</td><td>1286</td><td>0</td><td>0</td><td>0</td><td>0</td><td>0</td><td>0</td><td>0</td><td>0</td><td>0</td><td>0</td><td>0</td><td>0</td><td>0</td><td>0</td><td>0</td><td>0</td><td>0</td><td>0</td><td>0</td><td>0</td><td>0</td><td>0</td><td>0</td><td>0</td><td>0</td><td>0</td><td>0</td><td>0</td><td>0</td><td>0</td><td>...</td><td>0</td><td>0</td><td>0</td><td>0</td><td>0</td><td>0</td><td>0</td><td>0</td><td>0</td><td>0</td><td>0</td><td>0</td><td>0</td><td>0</td><td>0</td><td>0</td><td>0</td><td>0</td><td>0</td><td>0</td><td>0</td><td>0</td><td>0</td><td>0</td><td>0</td><td>0</td><td>0</td><td>0</td><td>0</td><td>0</td><td>0</td><td>0</td><td>0</td><td>0</td><td>0</td><td>0</td><td>0</td></tr><tr><td>79395</td><td>0</td><td>0</td><td>0</td><td>0</td><td>0</td><td>3167</td><td>139</td><td>0</td><td>0</td><td>0</td><td>0</td><td>0</td><td>0</td><td>0</td><td>0</td><td>0</td><td>0</td><td>0</td><td>0</td><td>0</td><td>0</td><td>0</td><td>0</td><td>0</td><td>0</td><td>0</td><td>0</td><td>0</td><td>0</td><td>0</td><td>0</td><td>0</td><td>0</td><td>0</td><td>0</td><td>0</td><td>...</td><td>0</td><td>0</td><td>0</td><td>0</td><td>0</td><td>0</td><td>0</td><td>0</td><td>0</td><td>0</td><td>0</td><td>0</td><td>0</td><td>0</td><td>0</td><td>0</td><td>0</td><td>0</td><td>0</td><td>0</td><td>0</td><td>0</td><td>0</td><td>0</td><td>0</td><td>0</td><td>0</td><td>0</td><td>0</td><td>0</td><td>0</td><td>0</td><td>0</td><td>0</td><td>0</td><td>0</td><td>0</td></tr><tr><td>91294</td><td>0</td><td>0</td><td>0</td><td>0</td><td>0</td><td>0</td><td>0</td><td>2437</td><td>0</td><td>0</td><td>0</td><td>0</td><td>0</td><td>0</td><td>0</td><td>0</td><td>0</td><td>0</td><td>0</td><td>0</td><td>0</td><td>0</td><td>0</td><td>0</td><td>0</td><td>0</td><td>0</td><td>0</td><td>0</td><td>0</td><td>0</td><td>0</td><td>0</td><td>0</td><td>0</td><td>0</td><td>...</td><td>0</td><td>0</td><td>0</td><td>0</td><td>0</td><td>0</td><td>0</td><td>0</td><td>0</td><td>0</td><td>0</td><td>0</td><td>0</td><td>0</td><td>0</td><td>0</td><td>0</td><td>0</td><td>0</td><td>0</td><td>0</td><td>0</td><td>0</td><td>0</td><td>0</td><td>0</td><td>0</td><td>0</td><td>0</td><td>0</td><td>0</td><td>0</td><td>0</td><td>0</td><td>0</td><td>0</td><td>0</td></tr><tr><td>161323</td><td>0</td><td>0</td><td>0</td><td>0</td><td>0</td><td>0</td><td>0</td><td>0</td><td>439</td><td>2</td><td>0</td><td>0</td><td>0</td><td>0</td><td>0</td><td>0</td><td>0</td><td>0</td><td>0</td><td>0</td><td>0</td><td>0</td><td>0</td><td>0</td><td>0</td><td>0</td><td>0</td><td>0</td><td>0</td><td>0</td><td>0</td><td>0</td><td>0</td><td>0</td><td>0</td><td>0</td><td>...</td><td>0</td><td>0</td><td>0</td><td>0</td><td>0</td><td>0</td><td>0</td><td>0</td><td>0</td><td>0</td><td>0</td><td>0</td><td>0</td><td>0</td><td>0</td><td>0</td><td>0</td><td>0</td><td>0</td><td>0</td><td>0</td><td>0</td><td>0</td><td>0</td><td>0</td><td>0</td><td>0</td><td>0</td><td>0</td><td>0</td><td>0</td><td>0</td><td>0</td><td>0</td><td>0</td><td>0</td><td>0</td></tr><tr><td>304574</td><td>0</td><td>0</td><td>0</td><td>0</td><td>0</td><td>0</td><td>0</td><td>0</td><td>0</td><td>0</td><td>197</td><td>1</td><td>0</td><td>0</td><td>0</td><td>0</td><td>0</td><td>0</td><td>0</td><td>0</td><td>0</td><td>0</td><td>0</td><td>0</td><td>0</td><td>0</td><td>0</td><td>0</td><td>0</td><td>0</td><td>0</td><td>0</td><td>0</td><td>0</td><td>0</td><td>0</td><td>...</td><td>0</td><td>0</td><td>0</td><td>0</td><td>0</td><td>0</td><td>0</td><td>0</td><td>0</td><td>0</td><td>0</td><td>0</td><td>0</td><td>0</td><td>0</td><td>0</td><td>0</td><td>0</td><td>0</td><td>0</td><td>0</td><td>0</td><td>0</td><td>0</td><td>0</td><td>0</td><td>0</td><td>0</td><td>0</td><td>0</td><td>0</td><td>0</td><td>0</td><td>0</td><td>0</td><td>0</td><td>0</td></tr><tr><td>204489</td><td>0</td><td>0</td><td>0</td><td>0</td><td>0</td><td>0</td><td>0</td><td>0</td><td>0</td><td>373</td><td>0</td><td>0</td><td>641</td><td>0</td><td>0</td><td>0</td><td>0</td><td>0</td><td>0</td><td>0</td><td>0</td><td>0</td><td>0</td><td>0</td><td>0</td><td>0</td><td>0</td><td>0</td><td>0</td><td>0</td><td>0</td><td>0</td><td>0</td><td>0</td><td>0</td><td>0</td><td>...</td><td>0</td><td>0</td><td>0</td><td>0</td><td>0</td><td>0</td><td>0</td><td>0</td><td>0</td><td>0</td><td>0</td><td>0</td><td>0</td><td>0</td><td>0</td><td>0</td><td>0</td><td>0</td><td>0</td><td>0</td><td>0</td><td>0</td><td>0</td><td>0</td><td>0</td><td>0</td><td>0</td><td>0</td><td>0</td><td>0</td><td>0</td><td>0</td><td>0</td><td>0</td><td>0</td><td>0</td><td>0</td></tr><tr><td>148545</td><td>0</td><td>0</td><td>0</td><td>0</td><td>0</td><td>0</td><td>0</td><td>0</td><td>0</td><td>124</td><td>0</td><td>0</td><td>0</td><td>4906</td><td>3</td><td>0</td><td>0</td><td>0</td><td>0</td><td>0</td><td>0</td><td>0</td><td>0</td><td>0</td><td>0</td><td>0</td><td>0</td><td>0</td><td>0</td><td>0</td><td>0</td><td>0</td><td>0</td><td>0</td><td>0</td><td>0</td><td>...</td><td>0</td><td>0</td><td>0</td><td>0</td><td>0</td><td>0</td><td>0</td><td>0</td><td>0</td><td>0</td><td>0</td><td>0</td><td>0</td><td>0</td><td>0</td><td>0</td><td>0</td><td>0</td><td>0</td><td>0</td><td>0</td><td>0</td><td>0</td><td>0</td><td>0</td><td>0</td><td>0</td><td>0</td><td>0</td><td>0</td><td>0</td><td>0</td><td>0</td><td>0</td><td>0</td><td>0</td><td>0</td></tr><tr><td>16874</td><td>0</td><td>0</td><td>0</td><td>0</td><td>0</td><td>0</td><td>0</td><td>0</td><td>0</td><td>0</td><td>0</td><td>0</td><td>0</td><td>0</td><td>0</td><td>2849</td><td>0</td><td>0</td><td>0</td><td>0</td><td>0</td><td>0</td><td>0</td><td>0</td><td>0</td><td>0</td><td>0</td><td>0</td><td>0</td><td>0</td><td>0</td><td>0</td><td>0</td><td>0</td><td>0</td><td>0</td><td>...</td><td>0</td><td>0</td><td>0</td><td>0</td><td>0</td><td>0</td><td>0</td><td>0</td><td>0</td><td>0</td><td>0</td><td>0</td><td>0</td><td>0</td><td>0</td><td>0</td><td>0</td><td>0</td><td>0</td><td>0</td><td>0</td><td>0</td><td>0</td><td>0</td><td>0</td><td>0</td><td>0</td><td>0</td><td>0</td><td>0</td><td>0</td><td>0</td><td>0</td><td>0</td><td>0</td><td>0</td><td>0</td></tr><tr><td>316847</td><td>0</td><td>0</td><td>0</td><td>0</td><td>0</td><td>0</td><td>0</td><td>0</td><td>0</td><td>0</td><td>0</td><td>0</td><td>0</td><td>0</td><td>0</td><td>0</td><td>3272</td><td>23</td><td>0</td><td>0</td><td>0</td><td>0</td><td>0</td><td>0</td><td>0</td><td>0</td><td>0</td><td>0</td><td>0</td><td>0</td><td>0</td><td>0</td><td>0</td><td>0</td><td>0</td><td>0</td><td>...</td><td>0</td><td>0</td><td>0</td><td>0</td><td>0</td><td>0</td><td>0</td><td>0</td><td>0</td><td>0</td><td>0</td><td>0</td><td>0</td><td>0</td><td>0</td><td>0</td><td>0</td><td>0</td><td>0</td><td>0</td><td>0</td><td>0</td><td>0</td><td>0</td><td>0</td><td>0</td><td>0</td><td>0</td><td>0</td><td>0</td><td>0</td><td>0</td><td>0</td><td>0</td><td>0</td><td>0</td><td>0</td></tr><tr><td>310327</td><td>0</td><td>0</td><td>0</td><td>0</td><td>0</td><td>0</td><td>0</td><td>0</td><td>0</td><td>0</td><td>0</td><td>0</td><td>0</td><td>0</td><td>0</td><td>0</td><td>0</td><td>0</td><td>16146</td><td>0</td><td>0</td><td>0</td><td>0</td><td>0</td><td>0</td><td>0</td><td>0</td><td>0</td><td>0</td><td>0</td><td>0</td><td>0</td><td>0</td><td>0</td><td>0</td><td>0</td><td>...</td><td>0</td><td>0</td><td>0</td><td>0</td><td>0</td><td>0</td><td>0</td><td>0</td><td>0</td><td>0</td><td>0</td><td>0</td><td>0</td><td>0</td><td>0</td><td>0</td><td>0</td><td>0</td><td>0</td><td>0</td><td>0</td><td>0</td><td>0</td><td>0</td><td>0</td><td>0</td><td>0</td><td>0</td><td>0</td><td>0</td><td>0</td><td>0</td><td>0</td><td>0</td><td>0</td><td>0</td><td>0</td></tr><tr><td>69797</td><td>0</td><td>0</td><td>0</td><td>0</td><td>0</td><td>0</td><td>0</td><td>0</td><td>0</td><td>0</td><td>0</td><td>0</td><td>0</td><td>0</td><td>0</td><td>0</td><td>0</td><td>0</td><td>0</td><td>2911</td><td>31</td><td>0</td><td>0</td><td>0</td><td>0</td><td>0</td><td>0</td><td>0</td><td>0</td><td>0</td><td>0</td><td>0</td><td>0</td><td>0</td><td>0</td><td>0</td><td>...</td><td>0</td><td>0</td><td>0</td><td>0</td><td>0</td><td>0</td><td>0</td><td>0</td><td>0</td><td>0</td><td>0</td><td>0</td><td>0</td><td>0</td><td>0</td><td>0</td><td>0</td><td>0</td><td>0</td><td>0</td><td>0</td><td>0</td><td>0</td><td>0</td><td>0</td><td>0</td><td>0</td><td>0</td><td>0</td><td>0</td><td>0</td><td>0</td><td>0</td><td>0</td><td>0</td><td>0</td><td>0</td></tr><tr><td>...</td><td>...</td><td>...</td><td>...</td><td>...</td><td>...</td><td>...</td><td>...</td><td>...</td><td>...</td><td>...</td><td>...</td><td>...</td><td>...</td><td>...</td><td>...</td><td>...</td><td>...</td><td>...</td><td>...</td><td>...</td><td>...</td><td>...</td><td>...</td><td>...</td><td>...</td><td>...</td><td>...</td><td>...</td><td>...</td><td>...</td><td>...</td><td>...</td><td>...</td><td>...</td><td>...</td><td>...</td><td>...</td><td>...</td><td>...</td><td>...</td><td>...</td><td>...</td><td>...</td><td>...</td><td>...</td><td>...</td><td>...</td><td>...</td><td>...</td><td>...</td><td>...</td><td>...</td><td>...</td><td>...</td><td>...</td><td>...</td><td>...</td><td>...</td><td>...</td><td>...</td><td>...</td><td>...</td><td>...</td><td>...</td><td>...</td><td>...</td><td>...</td><td>...</td><td>...</td><td>...</td><td>...</td><td>...</td><td>...</td><td>...</td></tr><tr><td>166501</td><td>0</td><td>0</td><td>0</td><td>0</td><td>0</td><td>0</td><td>0</td><td>0</td><td>0</td><td>0</td><td>0</td><td>0</td><td>0</td><td>0</td><td>0</td><td>0</td><td>0</td><td>0</td><td>0</td><td>0</td><td>0</td><td>0</td><td>0</td><td>0</td><td>0</td><td>0</td><td>0</td><td>0</td><td>0</td><td>0</td><td>0</td><td>0</td><td>0</td><td>0</td><td>0</td><td>0</td><td>...</td><td>0</td><td>0</td><td>0</td><td>0</td><td>0</td><td>0</td><td>0</td><td>0</td><td>0</td><td>0</td><td>0</td><td>0</td><td>0</td><td>0</td><td>0</td><td>0</td><td>0</td><td>0</td><td>0</td><td>0</td><td>0</td><td>0</td><td>0</td><td>0</td><td>0</td><td>0</td><td>0</td><td>0</td><td>0</td><td>0</td><td>0</td><td>0</td><td>0</td><td>0</td><td>0</td><td>0</td><td>0</td></tr><tr><td>68383</td><td>0</td><td>0</td><td>0</td><td>0</td><td>0</td><td>0</td><td>0</td><td>0</td><td>0</td><td>0</td><td>0</td><td>0</td><td>0</td><td>0</td><td>0</td><td>0</td><td>0</td><td>0</td><td>0</td><td>0</td><td>0</td><td>0</td><td>0</td><td>0</td><td>0</td><td>0</td><td>0</td><td>0</td><td>0</td><td>0</td><td>0</td><td>0</td><td>0</td><td>0</td><td>0</td><td>0</td><td>...</td><td>0</td><td>0</td><td>0</td><td>0</td><td>0</td><td>0</td><td>0</td><td>0</td><td>0</td><td>0</td><td>0</td><td>0</td><td>0</td><td>0</td><td>0</td><td>0</td><td>0</td><td>0</td><td>0</td><td>0</td><td>0</td><td>0</td><td>0</td><td>0</td><td>0</td><td>0</td><td>0</td><td>0</td><td>0</td><td>0</td><td>0</td><td>0</td><td>0</td><td>0</td><td>0</td><td>0</td><td>0</td></tr><tr><td>360784</td><td>0</td><td>0</td><td>0</td><td>0</td><td>0</td><td>0</td><td>0</td><td>0</td><td>0</td><td>0</td><td>0</td><td>0</td><td>0</td><td>0</td><td>0</td><td>0</td><td>0</td><td>0</td><td>0</td><td>0</td><td>0</td><td>0</td><td>0</td><td>0</td><td>0</td><td>0</td><td>0</td><td>0</td><td>0</td><td>0</td><td>0</td><td>0</td><td>0</td><td>0</td><td>0</td><td>0</td><td>...</td><td>0</td><td>0</td><td>0</td><td>0</td><td>0</td><td>0</td><td>0</td><td>0</td><td>0</td><td>0</td><td>0</td><td>0</td><td>0</td><td>0</td><td>0</td><td>0</td><td>0</td><td>0</td><td>0</td><td>0</td><td>0</td><td>0</td><td>0</td><td>0</td><td>0</td><td>0</td><td>0</td><td>0</td><td>0</td><td>0</td><td>0</td><td>0</td><td>0</td><td>0</td><td>0</td><td>0</td><td>0</td></tr><tr><td>98082</td><td>0</td><td>0</td><td>0</td><td>0</td><td>0</td><td>0</td><td>0</td><td>0</td><td>0</td><td>0</td><td>0</td><td>0</td><td>0</td><td>0</td><td>0</td><td>0</td><td>0</td><td>0</td><td>0</td><td>0</td><td>0</td><td>0</td><td>0</td><td>0</td><td>0</td><td>0</td><td>0</td><td>0</td><td>0</td><td>0</td><td>0</td><td>0</td><td>0</td><td>0</td><td>0</td><td>0</td><td>...</td><td>0</td><td>0</td><td>0</td><td>0</td><td>0</td><td>0</td><td>0</td><td>0</td><td>0</td><td>0</td><td>0</td><td>0</td><td>0</td><td>0</td><td>0</td><td>0</td><td>0</td><td>0</td><td>0</td><td>0</td><td>0</td><td>0</td><td>0</td><td>0</td><td>0</td><td>0</td><td>0</td><td>0</td><td>0</td><td>0</td><td>0</td><td>0</td><td>0</td><td>0</td><td>0</td><td>0</td><td>0</td></tr><tr><td>403319</td><td>0</td><td>0</td><td>0</td><td>0</td><td>0</td><td>0</td><td>0</td><td>0</td><td>0</td><td>0</td><td>0</td><td>0</td><td>0</td><td>0</td><td>0</td><td>0</td><td>0</td><td>0</td><td>0</td><td>0</td><td>0</td><td>0</td><td>0</td><td>0</td><td>0</td><td>0</td><td>0</td><td>0</td><td>0</td><td>0</td><td>0</td><td>0</td><td>0</td><td>0</td><td>0</td><td>0</td><td>...</td><td>0</td><td>0</td><td>0</td><td>0</td><td>0</td><td>0</td><td>0</td><td>0</td><td>0</td><td>0</td><td>0</td><td>0</td><td>0</td><td>0</td><td>0</td><td>0</td><td>0</td><td>0</td><td>0</td><td>0</td><td>0</td><td>0</td><td>0</td><td>0</td><td>0</td><td>0</td><td>0</td><td>0</td><td>0</td><td>0</td><td>0</td><td>0</td><td>0</td><td>0</td><td>0</td><td>0</td><td>0</td></tr><tr><td>173577</td><td>0</td><td>0</td><td>0</td><td>0</td><td>0</td><td>0</td><td>0</td><td>0</td><td>0</td><td>0</td><td>0</td><td>0</td><td>0</td><td>0</td><td>0</td><td>0</td><td>0</td><td>0</td><td>0</td><td>0</td><td>0</td><td>0</td><td>0</td><td>0</td><td>0</td><td>0</td><td>0</td><td>0</td><td>0</td><td>0</td><td>0</td><td>0</td><td>0</td><td>0</td><td>0</td><td>0</td><td>...</td><td>0</td><td>0</td><td>0</td><td>0</td><td>0</td><td>0</td><td>0</td><td>0</td><td>0</td><td>0</td><td>0</td><td>0</td><td>0</td><td>0</td><td>0</td><td>0</td><td>0</td><td>0</td><td>0</td><td>0</td><td>0</td><td>0</td><td>0</td><td>0</td><td>0</td><td>0</td><td>0</td><td>0</td><td>0</td><td>0</td><td>0</td><td>0</td><td>0</td><td>0</td><td>0</td><td>0</td><td>0</td></tr><tr><td>74976</td><td>0</td><td>0</td><td>0</td><td>0</td><td>0</td><td>0</td><td>0</td><td>0</td><td>0</td><td>12</td><td>0</td><td>0</td><td>0</td><td>0</td><td>0</td><td>0</td><td>0</td><td>1</td><td>0</td><td>0</td><td>0</td><td>0</td><td>0</td><td>0</td><td>0</td><td>0</td><td>1</td><td>1</td><td>1</td><td>0</td><td>0</td><td>0</td><td>0</td><td>0</td><td>0</td><td>33</td><td>...</td><td>0</td><td>0</td><td>0</td><td>0</td><td>0</td><td>0</td><td>0</td><td>0</td><td>0</td><td>0</td><td>0</td><td>0</td><td>0</td><td>0</td><td>0</td><td>0</td><td>0</td><td>0</td><td>0</td><td>0</td><td>0</td><td>0</td><td>0</td><td>0</td><td>0</td><td>0</td><td>0</td><td>0</td><td>0</td><td>0</td><td>0</td><td>0</td><td>0</td><td>0</td><td>0</td><td>0</td><td>0</td></tr><tr><td>375972</td><td>0</td><td>0</td><td>0</td><td>0</td><td>0</td><td>0</td><td>0</td><td>0</td><td>0</td><td>0</td><td>0</td><td>0</td><td>0</td><td>0</td><td>0</td><td>0</td><td>0</td><td>0</td><td>0</td><td>0</td><td>0</td><td>0</td><td>0</td><td>0</td><td>0</td><td>0</td><td>0</td><td>0</td><td>0</td><td>0</td><td>0</td><td>0</td><td>0</td><td>0</td><td>2</td><td>254</td><td>...</td><td>0</td><td>0</td><td>0</td><td>0</td><td>0</td><td>0</td><td>0</td><td>0</td><td>0</td><td>0</td><td>0</td><td>0</td><td>0</td><td>0</td><td>0</td><td>0</td><td>0</td><td>0</td><td>0</td><td>0</td><td>0</td><td>0</td><td>0</td><td>0</td><td>0</td><td>0</td><td>0</td><td>0</td><td>0</td><td>0</td><td>0</td><td>0</td><td>0</td><td>0</td><td>0</td><td>0</td><td>0</td></tr><tr><td>160996</td><td>0</td><td>0</td><td>0</td><td>0</td><td>0</td><td>0</td><td>0</td><td>0</td><td>0</td><td>0</td><td>0</td><td>0</td><td>0</td><td>0</td><td>0</td><td>0</td><td>0</td><td>0</td><td>0</td><td>0</td><td>0</td><td>0</td><td>0</td><td>0</td><td>0</td><td>0</td><td>0</td><td>0</td><td>0</td><td>0</td><td>0</td><td>3</td><td>0</td><td>0</td><td>0</td><td>0</td><td>...</td><td>0</td><td>0</td><td>0</td><td>0</td><td>0</td><td>0</td><td>0</td><td>0</td><td>0</td><td>0</td><td>0</td><td>0</td><td>0</td><td>0</td><td>0</td><td>0</td><td>0</td><td>0</td><td>0</td><td>0</td><td>0</td><td>0</td><td>0</td><td>0</td><td>0</td><td>0</td><td>0</td><td>0</td><td>0</td><td>0</td><td>0</td><td>0</td><td>0</td><td>0</td><td>0</td><td>0</td><td>0</td></tr><tr><td>5505</td><td>0</td><td>0</td><td>0</td><td>0</td><td>0</td><td>0</td><td>0</td><td>0</td><td>0</td><td>0</td><td>0</td><td>0</td><td>0</td><td>0</td><td>0</td><td>0</td><td>0</td><td>0</td><td>0</td><td>0</td><td>0</td><td>0</td><td>0</td><td>0</td><td>0</td><td>0</td><td>0</td><td>0</td><td>0</td><td>0</td><td>0</td><td>0</td><td>0</td><td>0</td><td>0</td><td>0</td><td>...</td><td>0</td><td>0</td><td>0</td><td>0</td><td>0</td><td>0</td><td>0</td><td>0</td><td>0</td><td>0</td><td>0</td><td>0</td><td>0</td><td>0</td><td>0</td><td>0</td><td>0</td><td>0</td><td>0</td><td>0</td><td>0</td><td>0</td><td>0</td><td>0</td><td>0</td><td>0</td><td>0</td><td>0</td><td>0</td><td>0</td><td>0</td><td>0</td><td>0</td><td>0</td><td>0</td><td>0</td><td>0</td></tr><tr><td>260127</td><td>0</td><td>0</td><td>0</td><td>0</td><td>0</td><td>0</td><td>0</td><td>0</td><td>0</td><td>0</td><td>0</td><td>0</td><td>0</td><td>0</td><td>0</td><td>0</td><td>0</td><td>0</td><td>0</td><td>0</td><td>0</td><td>0</td><td>0</td><td>0</td><td>0</td><td>0</td><td>0</td><td>0</td><td>0</td><td>0</td><td>0</td><td>0</td><td>0</td><td>0</td><td>0</td><td>0</td><td>...</td><td>0</td><td>0</td><td>0</td><td>0</td><td>0</td><td>0</td><td>0</td><td>0</td><td>0</td><td>0</td><td>0</td><td>0</td><td>0</td><td>0</td><td>0</td><td>0</td><td>0</td><td>0</td><td>0</td><td>0</td><td>0</td><td>0</td><td>0</td><td>0</td><td>0</td><td>0</td><td>0</td><td>0</td><td>0</td><td>0</td><td>0</td><td>0</td><td>0</td><td>0</td><td>0</td><td>0</td><td>0</td></tr><tr><td>300964</td><td>0</td><td>0</td><td>0</td><td>0</td><td>0</td><td>0</td><td>0</td><td>0</td><td>0</td><td>0</td><td>0</td><td>0</td><td>0</td><td>0</td><td>0</td><td>0</td><td>0</td><td>0</td><td>0</td><td>0</td><td>0</td><td>0</td><td>0</td><td>0</td><td>0</td><td>0</td><td>0</td><td>0</td><td>0</td><td>0</td><td>0</td><td>0</td><td>0</td><td>0</td><td>0</td><td>0</td><td>...</td><td>0</td><td>0</td><td>0</td><td>0</td><td>0</td><td>0</td><td>0</td><td>0</td><td>0</td><td>0</td><td>0</td><td>0</td><td>0</td><td>0</td><td>0</td><td>0</td><td>0</td><td>0</td><td>0</td><td>0</td><td>0</td><td>0</td><td>0</td><td>0</td><td>0</td><td>0</td><td>0</td><td>0</td><td>0</td><td>0</td><td>0</td><td>0</td><td>0</td><td>0</td><td>0</td><td>0</td><td>0</td></tr></tbody></table></div>"
      ],
      "text/plain": [
       "shape: (415317, 986)\n",
       "┌─────────┬────────────┬────────────┬────────────┬─────┬─────────────┬────────────┬────────────┬────────┐\n",
       "│ user_id ┆ Краснодар  ┆ Ставрополь ┆ Адыгейск   ┆ ... ┆ Комсомольск ┆ Никольск   ┆ Каргополь  ┆ Тара   │\n",
       "│ ---     ┆ ---        ┆ ---        ┆ ---        ┆     ┆ ---         ┆ ---        ┆ ---        ┆ ---    │\n",
       "│ i32     ┆ i32        ┆ i32        ┆ i32        ┆     ┆ i32         ┆ i32        ┆ i32        ┆ i32    │\n",
       "╞═════════╪════════════╪════════════╪════════════╪═════╪═════════════╪════════════╪════════════╪════════╡\n",
       "│ 45098   ┆ 2254       ┆ 4          ┆ 1          ┆ ... ┆ 0           ┆ 0          ┆ 0          ┆ 0      │\n",
       "│ 117132  ┆ 0          ┆ 0          ┆ 0          ┆ ... ┆ 0           ┆ 0          ┆ 0          ┆ 0      │\n",
       "│ 79395   ┆ 0          ┆ 0          ┆ 0          ┆ ... ┆ 0           ┆ 0          ┆ 0          ┆ 0      │\n",
       "│ 91294   ┆ 0          ┆ 0          ┆ 0          ┆ ... ┆ 0           ┆ 0          ┆ 0          ┆ 0      │\n",
       "│ ...     ┆ ...        ┆ ...        ┆ ...        ┆ ... ┆ ...         ┆ ...        ┆ ...        ┆ ...    │\n",
       "│ 160996  ┆ 0          ┆ 0          ┆ 0          ┆ ... ┆ 0           ┆ 0          ┆ 0          ┆ 0      │\n",
       "│ 5505    ┆ 0          ┆ 0          ┆ 0          ┆ ... ┆ 0           ┆ 0          ┆ 0          ┆ 0      │\n",
       "│ 260127  ┆ 0          ┆ 0          ┆ 0          ┆ ... ┆ 0           ┆ 0          ┆ 0          ┆ 0      │\n",
       "│ 300964  ┆ 0          ┆ 0          ┆ 0          ┆ ... ┆ 0           ┆ 0          ┆ 0          ┆ 0      │\n",
       "└─────────┴────────────┴────────────┴────────────┴─────┴─────────────┴────────────┴────────────┴────────┘"
      ]
     },
     "execution_count": 24,
     "metadata": {},
     "output_type": "execute_result"
    }
   ],
   "source": [
    "day_city_name_pl"
   ]
  },
  {
   "cell_type": "code",
   "execution_count": 25,
   "id": "dd2a1de7",
   "metadata": {},
   "outputs": [],
   "source": [
    "day_model_name_pl = pl.from_arrow(read_arrow.select(['user_id', 'cpe_model_name', 'request_cnt']).\\\n",
    "                            group_by(['user_id', 'cpe_model_name']).aggregate([('request_cnt', \"sum\")]))\\\n",
    "                            .pivot(index='user_id', columns='cpe_model_name', values='request_cnt_sum')"
   ]
  },
  {
   "cell_type": "code",
   "execution_count": 26,
   "id": "46fe7d3d",
   "metadata": {},
   "outputs": [],
   "source": [
    "for name in day_model_name_pl.columns:   \n",
    "    day_model_name_pl = day_model_name_pl.with_columns(pl.col(name).cast(pl.Int32))"
   ]
  },
  {
   "cell_type": "code",
   "execution_count": 27,
   "id": "2c070a6f",
   "metadata": {},
   "outputs": [],
   "source": [
    "day_model_name_pl = day_model_name_pl.fill_null(0)"
   ]
  },
  {
   "cell_type": "code",
   "execution_count": 28,
   "id": "afe85cea",
   "metadata": {},
   "outputs": [
    {
     "data": {
      "text/html": [
       "<div><style>\n",
       ".dataframe > thead > tr > th,\n",
       ".dataframe > tbody > tr > td {\n",
       "  text-align: right;\n",
       "}\n",
       "</style>\n",
       "<small>shape: (415317, 600)</small><table border=\"1\" class=\"dataframe\"><thead><tr><th>user_id</th><th>iPhone 7</th><th>Redmi 5 Plus</th><th>Galaxy S20+</th><th>Poco X3 Pro</th><th>Redmi Note 8 Pro</th><th>Honor 10</th><th>Galaxy A6 Plus 2018 Dual</th><th>Galaxy A52</th><th>Galaxy A40 Dual</th><th>iPhone 11 Pro</th><th>P Smart Z</th><th>Honor 10 Lite</th><th>Honor 20 Pro</th><th>Honor 9 Lite</th><th>iPhone 6S</th><th>Galaxy A5 2017 Dual</th><th>iPhone XR</th><th>Honor 7S Dual</th><th>Redmi 8A</th><th>Redmi 8</th><th>Honor 10X Lite</th><th>iPhone X</th><th>Honor 7X</th><th>iPhone 12 Pro Max</th><th>iPhone 11 Pro Max</th><th>Galaxy A30 Dual</th><th>Galaxy A6 2018 Dual</th><th>iPhone 8 Plus</th><th>Galaxy A51 Dual</th><th>Y5 Lite</th><th>Redmi Note 9 Pro</th><th>6i</th><th>iPhone 7 Plus</th><th>Redmi 7A</th><th>iPhone 11</th><th>Galaxy A10 Dual</th><th>...</th><th>S68Pro</th><th>BV9600 Pro</th><th>G20</th><th>Mi Mix 3</th><th>A74</th><th>ZenFone 6</th><th>SPARK 4</th><th>MI MIX2</th><th>Y5II 3G Dual</th><th>Blade A610</th><th>2 Dual</th><th>ZenFone 3 ZE520KL</th><th>Galaxy Note 3 4G</th><th>F5 Youth</th><th>Galaxy S4</th><th>Redmi Note 8 2021</th><th>3.1 Plus</th><th>Huawei Mate 40 Pro</th><th>16</th><th>Moto G9 Plus</th><th>Blade A6 Lite</th><th>Galaxy Fold</th><th>Galaxy A03 Core</th><th>Honor 8A Pro</th><th>Pixel 4</th><th>Xiaomi Poco M4 PRO</th><th>2.2</th><th>BV9500</th><th>Galaxy S7</th><th>Pixel 5</th><th>V430</th><th>9 5G</th><th>BV6100</th><th>Moto G5S Dual</th><th>GT Master</th><th>Galaxy Tab A7 10.4 2020</th><th>Power Five Max</th></tr><tr><td>i32</td><td>i32</td><td>i32</td><td>i32</td><td>i32</td><td>i32</td><td>i32</td><td>i32</td><td>i32</td><td>i32</td><td>i32</td><td>i32</td><td>i32</td><td>i32</td><td>i32</td><td>i32</td><td>i32</td><td>i32</td><td>i32</td><td>i32</td><td>i32</td><td>i32</td><td>i32</td><td>i32</td><td>i32</td><td>i32</td><td>i32</td><td>i32</td><td>i32</td><td>i32</td><td>i32</td><td>i32</td><td>i32</td><td>i32</td><td>i32</td><td>i32</td><td>i32</td><td>...</td><td>i32</td><td>i32</td><td>i32</td><td>i32</td><td>i32</td><td>i32</td><td>i32</td><td>i32</td><td>i32</td><td>i32</td><td>i32</td><td>i32</td><td>i32</td><td>i32</td><td>i32</td><td>i32</td><td>i32</td><td>i32</td><td>i32</td><td>i32</td><td>i32</td><td>i32</td><td>i32</td><td>i32</td><td>i32</td><td>i32</td><td>i32</td><td>i32</td><td>i32</td><td>i32</td><td>i32</td><td>i32</td><td>i32</td><td>i32</td><td>i32</td><td>i32</td><td>i32</td></tr></thead><tbody><tr><td>45098</td><td>2261</td><td>0</td><td>0</td><td>0</td><td>0</td><td>0</td><td>0</td><td>0</td><td>0</td><td>0</td><td>0</td><td>0</td><td>0</td><td>0</td><td>0</td><td>0</td><td>0</td><td>0</td><td>0</td><td>0</td><td>0</td><td>0</td><td>0</td><td>0</td><td>0</td><td>0</td><td>0</td><td>0</td><td>0</td><td>0</td><td>0</td><td>0</td><td>0</td><td>0</td><td>0</td><td>0</td><td>...</td><td>0</td><td>0</td><td>0</td><td>0</td><td>0</td><td>0</td><td>0</td><td>0</td><td>0</td><td>0</td><td>0</td><td>0</td><td>0</td><td>0</td><td>0</td><td>0</td><td>0</td><td>0</td><td>0</td><td>0</td><td>0</td><td>0</td><td>0</td><td>0</td><td>0</td><td>0</td><td>0</td><td>0</td><td>0</td><td>0</td><td>0</td><td>0</td><td>0</td><td>0</td><td>0</td><td>0</td><td>0</td></tr><tr><td>117132</td><td>0</td><td>1286</td><td>0</td><td>0</td><td>0</td><td>0</td><td>0</td><td>0</td><td>0</td><td>0</td><td>0</td><td>0</td><td>0</td><td>0</td><td>0</td><td>0</td><td>0</td><td>0</td><td>0</td><td>0</td><td>0</td><td>0</td><td>0</td><td>0</td><td>0</td><td>0</td><td>0</td><td>0</td><td>0</td><td>0</td><td>0</td><td>0</td><td>0</td><td>0</td><td>0</td><td>0</td><td>...</td><td>0</td><td>0</td><td>0</td><td>0</td><td>0</td><td>0</td><td>0</td><td>0</td><td>0</td><td>0</td><td>0</td><td>0</td><td>0</td><td>0</td><td>0</td><td>0</td><td>0</td><td>0</td><td>0</td><td>0</td><td>0</td><td>0</td><td>0</td><td>0</td><td>0</td><td>0</td><td>0</td><td>0</td><td>0</td><td>0</td><td>0</td><td>0</td><td>0</td><td>0</td><td>0</td><td>0</td><td>0</td></tr><tr><td>79395</td><td>0</td><td>0</td><td>3306</td><td>0</td><td>0</td><td>0</td><td>0</td><td>0</td><td>0</td><td>0</td><td>0</td><td>0</td><td>0</td><td>0</td><td>0</td><td>0</td><td>0</td><td>0</td><td>0</td><td>0</td><td>0</td><td>0</td><td>0</td><td>0</td><td>0</td><td>0</td><td>0</td><td>0</td><td>0</td><td>0</td><td>0</td><td>0</td><td>0</td><td>0</td><td>0</td><td>0</td><td>...</td><td>0</td><td>0</td><td>0</td><td>0</td><td>0</td><td>0</td><td>0</td><td>0</td><td>0</td><td>0</td><td>0</td><td>0</td><td>0</td><td>0</td><td>0</td><td>0</td><td>0</td><td>0</td><td>0</td><td>0</td><td>0</td><td>0</td><td>0</td><td>0</td><td>0</td><td>0</td><td>0</td><td>0</td><td>0</td><td>0</td><td>0</td><td>0</td><td>0</td><td>0</td><td>0</td><td>0</td><td>0</td></tr><tr><td>91294</td><td>0</td><td>0</td><td>0</td><td>2437</td><td>0</td><td>0</td><td>0</td><td>0</td><td>0</td><td>0</td><td>0</td><td>0</td><td>0</td><td>0</td><td>0</td><td>0</td><td>0</td><td>0</td><td>0</td><td>0</td><td>0</td><td>0</td><td>0</td><td>0</td><td>0</td><td>0</td><td>0</td><td>0</td><td>0</td><td>0</td><td>0</td><td>0</td><td>0</td><td>0</td><td>0</td><td>0</td><td>...</td><td>0</td><td>0</td><td>0</td><td>0</td><td>0</td><td>0</td><td>0</td><td>0</td><td>0</td><td>0</td><td>0</td><td>0</td><td>0</td><td>0</td><td>0</td><td>0</td><td>0</td><td>0</td><td>0</td><td>0</td><td>0</td><td>0</td><td>0</td><td>0</td><td>0</td><td>0</td><td>0</td><td>0</td><td>0</td><td>0</td><td>0</td><td>0</td><td>0</td><td>0</td><td>0</td><td>0</td><td>0</td></tr><tr><td>161323</td><td>0</td><td>0</td><td>0</td><td>0</td><td>441</td><td>0</td><td>0</td><td>0</td><td>0</td><td>0</td><td>0</td><td>0</td><td>0</td><td>0</td><td>0</td><td>0</td><td>0</td><td>0</td><td>0</td><td>0</td><td>0</td><td>0</td><td>0</td><td>0</td><td>0</td><td>0</td><td>0</td><td>0</td><td>0</td><td>0</td><td>0</td><td>0</td><td>0</td><td>0</td><td>0</td><td>0</td><td>...</td><td>0</td><td>0</td><td>0</td><td>0</td><td>0</td><td>0</td><td>0</td><td>0</td><td>0</td><td>0</td><td>0</td><td>0</td><td>0</td><td>0</td><td>0</td><td>0</td><td>0</td><td>0</td><td>0</td><td>0</td><td>0</td><td>0</td><td>0</td><td>0</td><td>0</td><td>0</td><td>0</td><td>0</td><td>0</td><td>0</td><td>0</td><td>0</td><td>0</td><td>0</td><td>0</td><td>0</td><td>0</td></tr><tr><td>304574</td><td>0</td><td>0</td><td>0</td><td>0</td><td>0</td><td>198</td><td>0</td><td>0</td><td>0</td><td>0</td><td>0</td><td>0</td><td>0</td><td>0</td><td>0</td><td>0</td><td>0</td><td>0</td><td>0</td><td>0</td><td>0</td><td>0</td><td>0</td><td>0</td><td>0</td><td>0</td><td>0</td><td>0</td><td>0</td><td>0</td><td>0</td><td>0</td><td>0</td><td>0</td><td>0</td><td>0</td><td>...</td><td>0</td><td>0</td><td>0</td><td>0</td><td>0</td><td>0</td><td>0</td><td>0</td><td>0</td><td>0</td><td>0</td><td>0</td><td>0</td><td>0</td><td>0</td><td>0</td><td>0</td><td>0</td><td>0</td><td>0</td><td>0</td><td>0</td><td>0</td><td>0</td><td>0</td><td>0</td><td>0</td><td>0</td><td>0</td><td>0</td><td>0</td><td>0</td><td>0</td><td>0</td><td>0</td><td>0</td><td>0</td></tr><tr><td>204489</td><td>0</td><td>0</td><td>0</td><td>0</td><td>0</td><td>0</td><td>1014</td><td>0</td><td>0</td><td>0</td><td>0</td><td>0</td><td>0</td><td>0</td><td>0</td><td>0</td><td>0</td><td>0</td><td>0</td><td>0</td><td>0</td><td>0</td><td>0</td><td>0</td><td>0</td><td>0</td><td>0</td><td>0</td><td>0</td><td>0</td><td>0</td><td>0</td><td>0</td><td>0</td><td>0</td><td>0</td><td>...</td><td>0</td><td>0</td><td>0</td><td>0</td><td>0</td><td>0</td><td>0</td><td>0</td><td>0</td><td>0</td><td>0</td><td>0</td><td>0</td><td>0</td><td>0</td><td>0</td><td>0</td><td>0</td><td>0</td><td>0</td><td>0</td><td>0</td><td>0</td><td>0</td><td>0</td><td>0</td><td>0</td><td>0</td><td>0</td><td>0</td><td>0</td><td>0</td><td>0</td><td>0</td><td>0</td><td>0</td><td>0</td></tr><tr><td>148545</td><td>0</td><td>0</td><td>0</td><td>0</td><td>0</td><td>0</td><td>0</td><td>5033</td><td>0</td><td>0</td><td>0</td><td>0</td><td>0</td><td>0</td><td>0</td><td>0</td><td>0</td><td>0</td><td>0</td><td>0</td><td>0</td><td>0</td><td>0</td><td>0</td><td>0</td><td>0</td><td>0</td><td>0</td><td>0</td><td>0</td><td>0</td><td>0</td><td>0</td><td>0</td><td>0</td><td>0</td><td>...</td><td>0</td><td>0</td><td>0</td><td>0</td><td>0</td><td>0</td><td>0</td><td>0</td><td>0</td><td>0</td><td>0</td><td>0</td><td>0</td><td>0</td><td>0</td><td>0</td><td>0</td><td>0</td><td>0</td><td>0</td><td>0</td><td>0</td><td>0</td><td>0</td><td>0</td><td>0</td><td>0</td><td>0</td><td>0</td><td>0</td><td>0</td><td>0</td><td>0</td><td>0</td><td>0</td><td>0</td><td>0</td></tr><tr><td>16874</td><td>0</td><td>0</td><td>0</td><td>0</td><td>0</td><td>0</td><td>0</td><td>0</td><td>2849</td><td>0</td><td>0</td><td>0</td><td>0</td><td>0</td><td>0</td><td>0</td><td>0</td><td>0</td><td>0</td><td>0</td><td>0</td><td>0</td><td>0</td><td>0</td><td>0</td><td>0</td><td>0</td><td>0</td><td>0</td><td>0</td><td>0</td><td>0</td><td>0</td><td>0</td><td>0</td><td>0</td><td>...</td><td>0</td><td>0</td><td>0</td><td>0</td><td>0</td><td>0</td><td>0</td><td>0</td><td>0</td><td>0</td><td>0</td><td>0</td><td>0</td><td>0</td><td>0</td><td>0</td><td>0</td><td>0</td><td>0</td><td>0</td><td>0</td><td>0</td><td>0</td><td>0</td><td>0</td><td>0</td><td>0</td><td>0</td><td>0</td><td>0</td><td>0</td><td>0</td><td>0</td><td>0</td><td>0</td><td>0</td><td>0</td></tr><tr><td>316847</td><td>0</td><td>0</td><td>0</td><td>0</td><td>3295</td><td>0</td><td>0</td><td>0</td><td>0</td><td>0</td><td>0</td><td>0</td><td>0</td><td>0</td><td>0</td><td>0</td><td>0</td><td>0</td><td>0</td><td>0</td><td>0</td><td>0</td><td>0</td><td>0</td><td>0</td><td>0</td><td>0</td><td>0</td><td>0</td><td>0</td><td>0</td><td>0</td><td>0</td><td>0</td><td>0</td><td>0</td><td>...</td><td>0</td><td>0</td><td>0</td><td>0</td><td>0</td><td>0</td><td>0</td><td>0</td><td>0</td><td>0</td><td>0</td><td>0</td><td>0</td><td>0</td><td>0</td><td>0</td><td>0</td><td>0</td><td>0</td><td>0</td><td>0</td><td>0</td><td>0</td><td>0</td><td>0</td><td>0</td><td>0</td><td>0</td><td>0</td><td>0</td><td>0</td><td>0</td><td>0</td><td>0</td><td>0</td><td>0</td><td>0</td></tr><tr><td>310327</td><td>0</td><td>0</td><td>0</td><td>0</td><td>0</td><td>0</td><td>0</td><td>0</td><td>0</td><td>16146</td><td>0</td><td>0</td><td>0</td><td>0</td><td>0</td><td>0</td><td>0</td><td>0</td><td>0</td><td>0</td><td>0</td><td>0</td><td>0</td><td>0</td><td>0</td><td>0</td><td>0</td><td>0</td><td>0</td><td>0</td><td>0</td><td>0</td><td>0</td><td>0</td><td>0</td><td>0</td><td>...</td><td>0</td><td>0</td><td>0</td><td>0</td><td>0</td><td>0</td><td>0</td><td>0</td><td>0</td><td>0</td><td>0</td><td>0</td><td>0</td><td>0</td><td>0</td><td>0</td><td>0</td><td>0</td><td>0</td><td>0</td><td>0</td><td>0</td><td>0</td><td>0</td><td>0</td><td>0</td><td>0</td><td>0</td><td>0</td><td>0</td><td>0</td><td>0</td><td>0</td><td>0</td><td>0</td><td>0</td><td>0</td></tr><tr><td>69797</td><td>0</td><td>0</td><td>0</td><td>0</td><td>2942</td><td>0</td><td>0</td><td>0</td><td>0</td><td>0</td><td>0</td><td>0</td><td>0</td><td>0</td><td>0</td><td>0</td><td>0</td><td>0</td><td>0</td><td>0</td><td>0</td><td>0</td><td>0</td><td>0</td><td>0</td><td>0</td><td>0</td><td>0</td><td>0</td><td>0</td><td>0</td><td>0</td><td>0</td><td>0</td><td>0</td><td>0</td><td>...</td><td>0</td><td>0</td><td>0</td><td>0</td><td>0</td><td>0</td><td>0</td><td>0</td><td>0</td><td>0</td><td>0</td><td>0</td><td>0</td><td>0</td><td>0</td><td>0</td><td>0</td><td>0</td><td>0</td><td>0</td><td>0</td><td>0</td><td>0</td><td>0</td><td>0</td><td>0</td><td>0</td><td>0</td><td>0</td><td>0</td><td>0</td><td>0</td><td>0</td><td>0</td><td>0</td><td>0</td><td>0</td></tr><tr><td>...</td><td>...</td><td>...</td><td>...</td><td>...</td><td>...</td><td>...</td><td>...</td><td>...</td><td>...</td><td>...</td><td>...</td><td>...</td><td>...</td><td>...</td><td>...</td><td>...</td><td>...</td><td>...</td><td>...</td><td>...</td><td>...</td><td>...</td><td>...</td><td>...</td><td>...</td><td>...</td><td>...</td><td>...</td><td>...</td><td>...</td><td>...</td><td>...</td><td>...</td><td>...</td><td>...</td><td>...</td><td>...</td><td>...</td><td>...</td><td>...</td><td>...</td><td>...</td><td>...</td><td>...</td><td>...</td><td>...</td><td>...</td><td>...</td><td>...</td><td>...</td><td>...</td><td>...</td><td>...</td><td>...</td><td>...</td><td>...</td><td>...</td><td>...</td><td>...</td><td>...</td><td>...</td><td>...</td><td>...</td><td>...</td><td>...</td><td>...</td><td>...</td><td>...</td><td>...</td><td>...</td><td>...</td><td>...</td><td>...</td><td>...</td></tr><tr><td>166501</td><td>0</td><td>0</td><td>0</td><td>0</td><td>0</td><td>0</td><td>0</td><td>0</td><td>0</td><td>0</td><td>0</td><td>0</td><td>0</td><td>0</td><td>0</td><td>0</td><td>0</td><td>0</td><td>0</td><td>0</td><td>0</td><td>0</td><td>0</td><td>0</td><td>0</td><td>0</td><td>0</td><td>0</td><td>0</td><td>0</td><td>0</td><td>0</td><td>0</td><td>0</td><td>0</td><td>0</td><td>...</td><td>0</td><td>0</td><td>0</td><td>0</td><td>0</td><td>0</td><td>0</td><td>0</td><td>0</td><td>0</td><td>0</td><td>0</td><td>0</td><td>0</td><td>0</td><td>0</td><td>0</td><td>0</td><td>0</td><td>0</td><td>0</td><td>0</td><td>0</td><td>0</td><td>0</td><td>0</td><td>0</td><td>0</td><td>0</td><td>0</td><td>0</td><td>0</td><td>0</td><td>0</td><td>0</td><td>0</td><td>0</td></tr><tr><td>68383</td><td>0</td><td>0</td><td>0</td><td>0</td><td>0</td><td>0</td><td>0</td><td>0</td><td>0</td><td>0</td><td>0</td><td>0</td><td>0</td><td>0</td><td>0</td><td>0</td><td>0</td><td>0</td><td>0</td><td>0</td><td>0</td><td>0</td><td>0</td><td>0</td><td>0</td><td>0</td><td>1659</td><td>0</td><td>0</td><td>0</td><td>0</td><td>0</td><td>0</td><td>0</td><td>0</td><td>0</td><td>...</td><td>0</td><td>0</td><td>0</td><td>0</td><td>0</td><td>0</td><td>0</td><td>0</td><td>0</td><td>0</td><td>0</td><td>0</td><td>0</td><td>0</td><td>0</td><td>0</td><td>0</td><td>0</td><td>0</td><td>0</td><td>0</td><td>0</td><td>0</td><td>0</td><td>0</td><td>0</td><td>0</td><td>0</td><td>0</td><td>0</td><td>0</td><td>0</td><td>0</td><td>0</td><td>0</td><td>0</td><td>0</td></tr><tr><td>360784</td><td>0</td><td>0</td><td>0</td><td>0</td><td>0</td><td>0</td><td>0</td><td>0</td><td>0</td><td>0</td><td>0</td><td>0</td><td>0</td><td>0</td><td>0</td><td>0</td><td>0</td><td>0</td><td>0</td><td>0</td><td>0</td><td>0</td><td>0</td><td>0</td><td>0</td><td>0</td><td>0</td><td>0</td><td>0</td><td>0</td><td>0</td><td>0</td><td>0</td><td>0</td><td>0</td><td>0</td><td>...</td><td>0</td><td>0</td><td>0</td><td>0</td><td>0</td><td>0</td><td>0</td><td>0</td><td>0</td><td>0</td><td>0</td><td>0</td><td>0</td><td>0</td><td>0</td><td>0</td><td>0</td><td>0</td><td>0</td><td>0</td><td>0</td><td>0</td><td>0</td><td>0</td><td>0</td><td>0</td><td>0</td><td>0</td><td>0</td><td>0</td><td>0</td><td>0</td><td>0</td><td>0</td><td>0</td><td>0</td><td>0</td></tr><tr><td>98082</td><td>0</td><td>0</td><td>0</td><td>0</td><td>0</td><td>0</td><td>0</td><td>0</td><td>0</td><td>0</td><td>0</td><td>0</td><td>0</td><td>0</td><td>0</td><td>0</td><td>0</td><td>0</td><td>0</td><td>0</td><td>0</td><td>0</td><td>0</td><td>0</td><td>0</td><td>0</td><td>0</td><td>0</td><td>0</td><td>0</td><td>0</td><td>0</td><td>0</td><td>0</td><td>0</td><td>0</td><td>...</td><td>0</td><td>0</td><td>0</td><td>0</td><td>0</td><td>0</td><td>0</td><td>0</td><td>0</td><td>0</td><td>0</td><td>0</td><td>0</td><td>0</td><td>0</td><td>0</td><td>0</td><td>0</td><td>0</td><td>0</td><td>0</td><td>0</td><td>0</td><td>0</td><td>0</td><td>0</td><td>0</td><td>0</td><td>0</td><td>0</td><td>0</td><td>0</td><td>0</td><td>0</td><td>0</td><td>0</td><td>0</td></tr><tr><td>403319</td><td>0</td><td>0</td><td>0</td><td>0</td><td>0</td><td>0</td><td>0</td><td>0</td><td>0</td><td>0</td><td>0</td><td>0</td><td>0</td><td>0</td><td>0</td><td>0</td><td>0</td><td>0</td><td>0</td><td>0</td><td>0</td><td>0</td><td>0</td><td>0</td><td>0</td><td>0</td><td>0</td><td>0</td><td>0</td><td>0</td><td>0</td><td>0</td><td>0</td><td>0</td><td>0</td><td>0</td><td>...</td><td>0</td><td>0</td><td>0</td><td>0</td><td>0</td><td>0</td><td>0</td><td>0</td><td>0</td><td>0</td><td>0</td><td>0</td><td>0</td><td>0</td><td>0</td><td>0</td><td>0</td><td>0</td><td>0</td><td>0</td><td>0</td><td>0</td><td>0</td><td>0</td><td>0</td><td>0</td><td>0</td><td>0</td><td>0</td><td>0</td><td>0</td><td>0</td><td>0</td><td>0</td><td>0</td><td>0</td><td>0</td></tr><tr><td>173577</td><td>0</td><td>0</td><td>0</td><td>0</td><td>0</td><td>0</td><td>0</td><td>0</td><td>0</td><td>0</td><td>0</td><td>0</td><td>0</td><td>0</td><td>0</td><td>0</td><td>0</td><td>0</td><td>0</td><td>0</td><td>0</td><td>0</td><td>0</td><td>0</td><td>0</td><td>0</td><td>0</td><td>0</td><td>0</td><td>0</td><td>0</td><td>0</td><td>0</td><td>0</td><td>0</td><td>0</td><td>...</td><td>0</td><td>0</td><td>0</td><td>0</td><td>0</td><td>0</td><td>0</td><td>0</td><td>0</td><td>0</td><td>0</td><td>0</td><td>0</td><td>0</td><td>0</td><td>0</td><td>0</td><td>0</td><td>0</td><td>0</td><td>0</td><td>0</td><td>0</td><td>0</td><td>0</td><td>0</td><td>0</td><td>0</td><td>0</td><td>0</td><td>0</td><td>0</td><td>0</td><td>0</td><td>0</td><td>0</td><td>0</td></tr><tr><td>74976</td><td>0</td><td>0</td><td>0</td><td>0</td><td>0</td><td>1197</td><td>0</td><td>0</td><td>0</td><td>0</td><td>0</td><td>0</td><td>0</td><td>0</td><td>0</td><td>0</td><td>0</td><td>0</td><td>0</td><td>0</td><td>0</td><td>0</td><td>0</td><td>0</td><td>0</td><td>0</td><td>0</td><td>0</td><td>0</td><td>0</td><td>0</td><td>0</td><td>0</td><td>0</td><td>0</td><td>0</td><td>...</td><td>0</td><td>0</td><td>0</td><td>0</td><td>0</td><td>0</td><td>0</td><td>0</td><td>0</td><td>0</td><td>0</td><td>0</td><td>0</td><td>0</td><td>0</td><td>0</td><td>0</td><td>0</td><td>0</td><td>0</td><td>0</td><td>0</td><td>0</td><td>0</td><td>0</td><td>0</td><td>0</td><td>0</td><td>0</td><td>0</td><td>0</td><td>0</td><td>0</td><td>0</td><td>0</td><td>0</td><td>0</td></tr><tr><td>375972</td><td>0</td><td>0</td><td>0</td><td>0</td><td>0</td><td>0</td><td>0</td><td>0</td><td>0</td><td>0</td><td>0</td><td>0</td><td>0</td><td>0</td><td>0</td><td>0</td><td>0</td><td>0</td><td>0</td><td>0</td><td>0</td><td>836</td><td>0</td><td>0</td><td>0</td><td>0</td><td>0</td><td>0</td><td>0</td><td>0</td><td>0</td><td>0</td><td>0</td><td>0</td><td>0</td><td>0</td><td>...</td><td>0</td><td>0</td><td>0</td><td>0</td><td>0</td><td>0</td><td>0</td><td>0</td><td>0</td><td>0</td><td>0</td><td>0</td><td>0</td><td>0</td><td>0</td><td>0</td><td>0</td><td>0</td><td>0</td><td>0</td><td>0</td><td>0</td><td>0</td><td>0</td><td>0</td><td>0</td><td>0</td><td>0</td><td>0</td><td>0</td><td>0</td><td>0</td><td>0</td><td>0</td><td>0</td><td>0</td><td>0</td></tr><tr><td>160996</td><td>794</td><td>0</td><td>0</td><td>0</td><td>0</td><td>0</td><td>0</td><td>0</td><td>0</td><td>0</td><td>0</td><td>0</td><td>0</td><td>0</td><td>0</td><td>0</td><td>0</td><td>0</td><td>0</td><td>0</td><td>0</td><td>0</td><td>0</td><td>0</td><td>0</td><td>0</td><td>0</td><td>0</td><td>0</td><td>0</td><td>0</td><td>0</td><td>0</td><td>0</td><td>0</td><td>0</td><td>...</td><td>0</td><td>0</td><td>0</td><td>0</td><td>0</td><td>0</td><td>0</td><td>0</td><td>0</td><td>0</td><td>0</td><td>0</td><td>0</td><td>0</td><td>0</td><td>0</td><td>0</td><td>0</td><td>0</td><td>0</td><td>0</td><td>0</td><td>0</td><td>0</td><td>0</td><td>0</td><td>0</td><td>0</td><td>0</td><td>0</td><td>0</td><td>0</td><td>0</td><td>0</td><td>0</td><td>0</td><td>0</td></tr><tr><td>5505</td><td>0</td><td>0</td><td>0</td><td>0</td><td>0</td><td>0</td><td>0</td><td>0</td><td>0</td><td>0</td><td>124</td><td>0</td><td>0</td><td>0</td><td>0</td><td>0</td><td>0</td><td>0</td><td>0</td><td>0</td><td>0</td><td>0</td><td>0</td><td>0</td><td>0</td><td>0</td><td>0</td><td>0</td><td>0</td><td>0</td><td>0</td><td>0</td><td>0</td><td>0</td><td>0</td><td>0</td><td>...</td><td>0</td><td>0</td><td>0</td><td>0</td><td>0</td><td>0</td><td>0</td><td>0</td><td>0</td><td>0</td><td>0</td><td>0</td><td>0</td><td>0</td><td>0</td><td>0</td><td>0</td><td>0</td><td>0</td><td>0</td><td>0</td><td>0</td><td>0</td><td>0</td><td>0</td><td>0</td><td>0</td><td>0</td><td>0</td><td>0</td><td>0</td><td>0</td><td>0</td><td>0</td><td>0</td><td>0</td><td>0</td></tr><tr><td>260127</td><td>0</td><td>0</td><td>0</td><td>0</td><td>0</td><td>0</td><td>0</td><td>0</td><td>0</td><td>0</td><td>0</td><td>0</td><td>0</td><td>0</td><td>0</td><td>0</td><td>0</td><td>0</td><td>0</td><td>0</td><td>0</td><td>0</td><td>0</td><td>0</td><td>0</td><td>0</td><td>0</td><td>0</td><td>0</td><td>0</td><td>0</td><td>0</td><td>0</td><td>0</td><td>0</td><td>0</td><td>...</td><td>0</td><td>0</td><td>0</td><td>0</td><td>0</td><td>0</td><td>0</td><td>0</td><td>0</td><td>0</td><td>0</td><td>0</td><td>0</td><td>0</td><td>0</td><td>0</td><td>0</td><td>0</td><td>0</td><td>0</td><td>0</td><td>0</td><td>0</td><td>0</td><td>0</td><td>0</td><td>0</td><td>0</td><td>0</td><td>0</td><td>0</td><td>0</td><td>0</td><td>0</td><td>0</td><td>0</td><td>0</td></tr><tr><td>300964</td><td>0</td><td>0</td><td>0</td><td>0</td><td>0</td><td>0</td><td>0</td><td>0</td><td>0</td><td>0</td><td>0</td><td>0</td><td>0</td><td>0</td><td>0</td><td>0</td><td>0</td><td>0</td><td>0</td><td>0</td><td>0</td><td>0</td><td>0</td><td>0</td><td>0</td><td>0</td><td>0</td><td>0</td><td>0</td><td>0</td><td>0</td><td>0</td><td>0</td><td>0</td><td>0</td><td>0</td><td>...</td><td>0</td><td>0</td><td>0</td><td>0</td><td>0</td><td>0</td><td>0</td><td>0</td><td>0</td><td>0</td><td>0</td><td>0</td><td>0</td><td>0</td><td>0</td><td>0</td><td>0</td><td>0</td><td>0</td><td>0</td><td>0</td><td>0</td><td>0</td><td>0</td><td>0</td><td>0</td><td>0</td><td>0</td><td>0</td><td>0</td><td>0</td><td>0</td><td>0</td><td>0</td><td>0</td><td>0</td><td>0</td></tr></tbody></table></div>"
      ],
      "text/plain": [
       "shape: (415317, 600)\n",
       "┌─────────┬──────────┬──────────────┬─────────────┬─────┬───────────────┬───────────┬─────────────────┬────────────────┐\n",
       "│ user_id ┆ iPhone 7 ┆ Redmi 5 Plus ┆ Galaxy S20+ ┆ ... ┆ Moto G5S Dual ┆ GT Master ┆ Galaxy Tab A7   ┆ Power Five Max │\n",
       "│ ---     ┆ ---      ┆ ---          ┆ ---         ┆     ┆ ---           ┆ ---       ┆ 10.4 2020       ┆ ---            │\n",
       "│ i32     ┆ i32      ┆ i32          ┆ i32         ┆     ┆ i32           ┆ i32       ┆ ---             ┆ i32            │\n",
       "│         ┆          ┆              ┆             ┆     ┆               ┆           ┆ i32             ┆                │\n",
       "╞═════════╪══════════╪══════════════╪═════════════╪═════╪═══════════════╪═══════════╪═════════════════╪════════════════╡\n",
       "│ 45098   ┆ 2261     ┆ 0            ┆ 0           ┆ ... ┆ 0             ┆ 0         ┆ 0               ┆ 0              │\n",
       "│ 117132  ┆ 0        ┆ 1286         ┆ 0           ┆ ... ┆ 0             ┆ 0         ┆ 0               ┆ 0              │\n",
       "│ 79395   ┆ 0        ┆ 0            ┆ 3306        ┆ ... ┆ 0             ┆ 0         ┆ 0               ┆ 0              │\n",
       "│ 91294   ┆ 0        ┆ 0            ┆ 0           ┆ ... ┆ 0             ┆ 0         ┆ 0               ┆ 0              │\n",
       "│ ...     ┆ ...      ┆ ...          ┆ ...         ┆ ... ┆ ...           ┆ ...       ┆ ...             ┆ ...            │\n",
       "│ 160996  ┆ 794      ┆ 0            ┆ 0           ┆ ... ┆ 0             ┆ 0         ┆ 0               ┆ 0              │\n",
       "│ 5505    ┆ 0        ┆ 0            ┆ 0           ┆ ... ┆ 0             ┆ 0         ┆ 0               ┆ 0              │\n",
       "│ 260127  ┆ 0        ┆ 0            ┆ 0           ┆ ... ┆ 0             ┆ 0         ┆ 0               ┆ 0              │\n",
       "│ 300964  ┆ 0        ┆ 0            ┆ 0           ┆ ... ┆ 0             ┆ 0         ┆ 0               ┆ 0              │\n",
       "└─────────┴──────────┴──────────────┴─────────────┴─────┴───────────────┴───────────┴─────────────────┴────────────────┘"
      ]
     },
     "execution_count": 28,
     "metadata": {},
     "output_type": "execute_result"
    }
   ],
   "source": [
    "day_model_name_pl"
   ]
  },
  {
   "cell_type": "code",
   "execution_count": 29,
   "id": "093abf07",
   "metadata": {},
   "outputs": [],
   "source": [
    "data = data_cat_pl.join(day_part_pl, left_on='user_id', right_on='user_id')"
   ]
  },
  {
   "cell_type": "code",
   "execution_count": 30,
   "id": "76008697",
   "metadata": {},
   "outputs": [],
   "source": [
    "data = data.join(day_region_name_pl, left_on='user_id', right_on='user_id')"
   ]
  },
  {
   "cell_type": "code",
   "execution_count": 31,
   "id": "4a4d6546",
   "metadata": {},
   "outputs": [],
   "source": [
    "data = data.join(day_city_name_pl, left_on='user_id', right_on='user_id')"
   ]
  },
  {
   "cell_type": "code",
   "execution_count": 32,
   "id": "0f62e367",
   "metadata": {},
   "outputs": [],
   "source": [
    "data = data.join(day_model_name_pl, left_on='user_id', right_on='user_id')"
   ]
  },
  {
   "cell_type": "code",
   "execution_count": 33,
   "id": "aeb3e807",
   "metadata": {},
   "outputs": [],
   "source": [
    "data = data.join(data_date_activity, left_on='user_id', right_on='user_id')"
   ]
  },
  {
   "cell_type": "code",
   "execution_count": 34,
   "id": "a63b9dcb",
   "metadata": {},
   "outputs": [],
   "source": [
    "data.write_parquet('data_category.parquet') "
   ]
  }
 ],
 "metadata": {
  "kernelspec": {
   "display_name": "Python 3 (ipykernel)",
   "language": "python",
   "name": "python3"
  },
  "language_info": {
   "codemirror_mode": {
    "name": "ipython",
    "version": 3
   },
   "file_extension": ".py",
   "mimetype": "text/x-python",
   "name": "python",
   "nbconvert_exporter": "python",
   "pygments_lexer": "ipython3",
   "version": "3.9.12"
  },
  "toc": {
   "base_numbering": 1,
   "nav_menu": {},
   "number_sections": true,
   "sideBar": true,
   "skip_h1_title": true,
   "title_cell": "Table of Contents",
   "title_sidebar": "Contents",
   "toc_cell": true,
   "toc_position": {},
   "toc_section_display": true,
   "toc_window_display": false
  }
 },
 "nbformat": 4,
 "nbformat_minor": 5
}
