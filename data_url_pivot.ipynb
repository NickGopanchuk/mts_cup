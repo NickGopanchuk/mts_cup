{
 "cells": [
  {
   "cell_type": "markdown",
   "id": "26f10527",
   "metadata": {
    "toc": true
   },
   "source": [
    "<h1>Table of Contents<span class=\"tocSkip\"></span></h1>\n",
    "<div class=\"toc\"><ul class=\"toc-item\"></ul></div>"
   ]
  },
  {
   "cell_type": "markdown",
   "id": "ce3968d3",
   "metadata": {},
   "source": [
    "***Создание таблица по ТОП сайтам с просмотрами более 1000 просмотров***"
   ]
  },
  {
   "cell_type": "code",
   "execution_count": 1,
   "id": "60902050",
   "metadata": {},
   "outputs": [],
   "source": [
    "import pandas as pd\n",
    "import pyarrow as pa\n",
    "import pyarrow.feather as feather\n",
    "import pyarrow.compute  as pc\n",
    "import polars as pl\n",
    "import numpy as np"
   ]
  },
  {
   "cell_type": "code",
   "execution_count": 2,
   "id": "5292d3ab",
   "metadata": {},
   "outputs": [],
   "source": [
    "read_arrow = feather.read_table('dataset_full.feather')"
   ]
  },
  {
   "cell_type": "code",
   "execution_count": 3,
   "id": "c9cef3ae",
   "metadata": {},
   "outputs": [
    {
     "name": "stdout",
     "output_type": "stream",
     "text": [
      "CPU times: total: 12.8 s\n",
      "Wall time: 13.5 s\n"
     ]
    }
   ],
   "source": [
    "%%time\n",
    "data_agg = read_arrow.select(['user_id', 'url_host', 'request_cnt']).\\\n",
    "    group_by(['user_id', 'url_host']).aggregate([('request_cnt', \"sum\")])"
   ]
  },
  {
   "cell_type": "code",
   "execution_count": 4,
   "id": "6666e32e",
   "metadata": {},
   "outputs": [
    {
     "name": "stdout",
     "output_type": "stream",
     "text": [
      "CPU times: total: 4.02 s\n",
      "Wall time: 4.23 s\n"
     ]
    }
   ],
   "source": [
    "%%time\n",
    "top_url = read_arrow.select(['url_host', 'request_cnt']).\\\n",
    "    group_by(['url_host']).aggregate([('request_cnt', \"sum\")]).filter(pc.field('request_cnt_sum') >= 1000)"
   ]
  },
  {
   "cell_type": "code",
   "execution_count": 5,
   "id": "75d1fbc3",
   "metadata": {},
   "outputs": [],
   "source": [
    "list_url = list(pl.from_arrow(top_url['url_host']))"
   ]
  },
  {
   "cell_type": "code",
   "execution_count": 6,
   "id": "d39cb53d",
   "metadata": {},
   "outputs": [
    {
     "name": "stdout",
     "output_type": "stream",
     "text": [
      "3436 сайтов с просмотрами более 1000\n"
     ]
    }
   ],
   "source": [
    "print(f'{len(list_url)} сайтов с просмотрами более 1000')"
   ]
  },
  {
   "cell_type": "code",
   "execution_count": 7,
   "id": "d98e6db8",
   "metadata": {},
   "outputs": [],
   "source": [
    "top_url_data = data_agg.filter(pc.field('url_host').isin(list_url))"
   ]
  },
  {
   "cell_type": "code",
   "execution_count": 8,
   "id": "681a8950",
   "metadata": {},
   "outputs": [],
   "source": [
    "data = pl.from_arrow(top_url_data)"
   ]
  },
  {
   "cell_type": "code",
   "execution_count": 9,
   "id": "aab2f5b2",
   "metadata": {},
   "outputs": [
    {
     "data": {
      "text/html": [
       "<div><style>\n",
       ".dataframe > thead > tr > th,\n",
       ".dataframe > tbody > tr > td {\n",
       "  text-align: right;\n",
       "}\n",
       "</style>\n",
       "<small>shape: (5, 3)</small><table border=\"1\" class=\"dataframe\"><thead><tr><th>request_cnt_sum</th><th>user_id</th><th>url_host</th></tr><tr><td>i64</td><td>i32</td><td>cat</td></tr></thead><tbody><tr><td>12</td><td>45098</td><td>&quot;ad.adriver.ru&quot;</td></tr><tr><td>491</td><td>45098</td><td>&quot;apple.com&quot;</td></tr><tr><td>174</td><td>45098</td><td>&quot;avatars.mds.ya...</td></tr><tr><td>305</td><td>45098</td><td>&quot;googleads.g.do...</td></tr><tr><td>446</td><td>45098</td><td>&quot;i.ytimg.com&quot;</td></tr></tbody></table></div>"
      ],
      "text/plain": [
       "shape: (5, 3)\n",
       "┌─────────────────┬─────────┬─────────────────────────────┐\n",
       "│ request_cnt_sum ┆ user_id ┆ url_host                    │\n",
       "│ ---             ┆ ---     ┆ ---                         │\n",
       "│ i64             ┆ i32     ┆ cat                         │\n",
       "╞═════════════════╪═════════╪═════════════════════════════╡\n",
       "│ 12              ┆ 45098   ┆ ad.adriver.ru               │\n",
       "│ 491             ┆ 45098   ┆ apple.com                   │\n",
       "│ 174             ┆ 45098   ┆ avatars.mds.yandex.net      │\n",
       "│ 305             ┆ 45098   ┆ googleads.g.doubleclick.net │\n",
       "│ 446             ┆ 45098   ┆ i.ytimg.com                 │\n",
       "└─────────────────┴─────────┴─────────────────────────────┘"
      ]
     },
     "execution_count": 9,
     "metadata": {},
     "output_type": "execute_result"
    }
   ],
   "source": [
    "data.head()"
   ]
  },
  {
   "cell_type": "code",
   "execution_count": 10,
   "id": "3ecb1b73",
   "metadata": {},
   "outputs": [],
   "source": [
    "data = data.with_columns(pl.col('request_cnt_sum').cast(pl.Int32))"
   ]
  },
  {
   "cell_type": "code",
   "execution_count": 11,
   "id": "acfa5bab",
   "metadata": {},
   "outputs": [
    {
     "data": {
      "text/html": [
       "<div><style>\n",
       ".dataframe > thead > tr > th,\n",
       ".dataframe > tbody > tr > td {\n",
       "  text-align: right;\n",
       "}\n",
       "</style>\n",
       "<small>shape: (1, 3)</small><table border=\"1\" class=\"dataframe\"><thead><tr><th>request_cnt_sum</th><th>user_id</th><th>url_host</th></tr><tr><td>i32</td><td>i32</td><td>cat</td></tr></thead><tbody><tr><td>12</td><td>45098</td><td>&quot;ad.adriver.ru&quot;</td></tr></tbody></table></div>"
      ],
      "text/plain": [
       "shape: (1, 3)\n",
       "┌─────────────────┬─────────┬───────────────┐\n",
       "│ request_cnt_sum ┆ user_id ┆ url_host      │\n",
       "│ ---             ┆ ---     ┆ ---           │\n",
       "│ i32             ┆ i32     ┆ cat           │\n",
       "╞═════════════════╪═════════╪═══════════════╡\n",
       "│ 12              ┆ 45098   ┆ ad.adriver.ru │\n",
       "└─────────────────┴─────────┴───────────────┘"
      ]
     },
     "execution_count": 11,
     "metadata": {},
     "output_type": "execute_result"
    }
   ],
   "source": [
    "data.head(1)"
   ]
  },
  {
   "cell_type": "code",
   "execution_count": 12,
   "id": "b5ba333a",
   "metadata": {},
   "outputs": [],
   "source": [
    "del top_url, data_agg, top_url_data, read_arrow"
   ]
  },
  {
   "cell_type": "code",
   "execution_count": 13,
   "id": "a95cd29b",
   "metadata": {},
   "outputs": [],
   "source": [
    "data = data.pivot(index='user_id', columns='url_host', values='request_cnt_sum')"
   ]
  },
  {
   "cell_type": "code",
   "execution_count": 14,
   "id": "8b15e418",
   "metadata": {},
   "outputs": [
    {
     "data": {
      "text/html": [
       "<div><style>\n",
       ".dataframe > thead > tr > th,\n",
       ".dataframe > tbody > tr > td {\n",
       "  text-align: right;\n",
       "}\n",
       "</style>\n",
       "<small>shape: (1, 3437)</small><table border=\"1\" class=\"dataframe\"><thead><tr><th>user_id</th><th>ad.adriver.ru</th><th>apple.com</th><th>avatars.mds.yandex.net</th><th>googleads.g.doubleclick.net</th><th>i.ytimg.com</th><th>icloud.com</th><th>m.avito.ru</th><th>relap.io</th><th>sun9-5.userapi.com</th><th>ads.adfox.ru</th><th>banners.adfox.ru</th><th>mail.yandex.ru</th><th>syndication.realsrv.com</th><th>ad.mail.ru</th><th>vk.com</th><th>ssp.otm-r.com</th><th>ads.betweendigital.com</th><th>s.optnx.com</th><th>yastatic.net</th><th>dsp.rtb.mts.ru</th><th>tpc.googlesyndication.com</th><th>festima.ru</th><th>sun9-85.userapi.com</th><th>s.viiadr.com</th><th>login.mts.ru</th><th>sun9-77.userapi.com</th><th>aliexpress.ru</th><th>t.me</th><th>yandex.ru</th><th>rtb.com.ru</th><th>onlinetours.ru</th><th>mamba.ru</th><th>exchange.buzzoola.com</th><th>forms.yandex.ru</th><th>sun9-80.userapi.com</th><th>rt.bongacams14.com</th><th>...</th><th>hawk.live</th><th>radiopiterfm.ru</th><th>dh-online.ru</th><th>seasonhit.tk</th><th>sudoku.com</th><th>merojax.me</th><th>gotovim-online.ru</th><th>w3m.huawei.com</th><th>zvukiknig.net</th><th>transphoto.org</th><th>online.anidub.com</th><th>forum.omskmama.ru</th><th>xiaomi.com</th><th>huawei.fotostrana.ru</th><th>news-show.online</th><th>wordle.belousov.one</th><th>part-kom.ru</th><th>rusanime.ru</th><th>v-5ka.ru</th><th>hmn.ru</th><th>x5.advantum.ru</th><th>jaomix.ru</th><th>ladys-room.ru</th><th>info.flyredwings.com</th><th>wap1.3101010.ru</th><th>ranobes.com</th><th>doctorhouse.tv</th><th>v01.ru</th><th>d3.taxinonstop.ru</th><th>avalon.antorgps.com</th><th>tatarlove.ru</th><th>dengi-white.ru</th><th>a-kniga.online</th><th>mixmuz.ru</th><th>loveplanet.cc</th><th>online.cheboko.com</th><th>murdrum.net</th></tr><tr><td>i32</td><td>i32</td><td>i32</td><td>i32</td><td>i32</td><td>i32</td><td>i32</td><td>i32</td><td>i32</td><td>i32</td><td>i32</td><td>i32</td><td>i32</td><td>i32</td><td>i32</td><td>i32</td><td>i32</td><td>i32</td><td>i32</td><td>i32</td><td>i32</td><td>i32</td><td>i32</td><td>i32</td><td>i32</td><td>i32</td><td>i32</td><td>i32</td><td>i32</td><td>i32</td><td>i32</td><td>i32</td><td>i32</td><td>i32</td><td>i32</td><td>i32</td><td>i32</td><td>...</td><td>i32</td><td>i32</td><td>i32</td><td>i32</td><td>i32</td><td>i32</td><td>i32</td><td>i32</td><td>i32</td><td>i32</td><td>i32</td><td>i32</td><td>i32</td><td>i32</td><td>i32</td><td>i32</td><td>i32</td><td>i32</td><td>i32</td><td>i32</td><td>i32</td><td>i32</td><td>i32</td><td>i32</td><td>i32</td><td>i32</td><td>i32</td><td>i32</td><td>i32</td><td>i32</td><td>i32</td><td>i32</td><td>i32</td><td>i32</td><td>i32</td><td>i32</td><td>i32</td></tr></thead><tbody><tr><td>45098</td><td>12</td><td>491</td><td>174</td><td>305</td><td>446</td><td>188</td><td>82</td><td>5</td><td>4</td><td>54</td><td>3</td><td>29</td><td>7</td><td>47</td><td>46</td><td>2</td><td>16</td><td>5</td><td>60</td><td>5</td><td>2</td><td>1</td><td>7</td><td>1</td><td>17</td><td>8</td><td>5</td><td>1</td><td>61</td><td>3</td><td>1</td><td>1</td><td>7</td><td>1</td><td>7</td><td>2</td><td>...</td><td>null</td><td>null</td><td>null</td><td>null</td><td>null</td><td>null</td><td>null</td><td>null</td><td>null</td><td>null</td><td>null</td><td>null</td><td>null</td><td>null</td><td>null</td><td>null</td><td>null</td><td>null</td><td>null</td><td>null</td><td>null</td><td>null</td><td>null</td><td>null</td><td>null</td><td>null</td><td>null</td><td>null</td><td>null</td><td>null</td><td>null</td><td>null</td><td>null</td><td>null</td><td>null</td><td>null</td><td>null</td></tr></tbody></table></div>"
      ],
      "text/plain": [
       "shape: (1, 3437)\n",
       "┌─────────┬───────────────┬───────────┬────────────────┬─────┬───────────┬───────────────┬───────────────┬─────────────┐\n",
       "│ user_id ┆ ad.adriver.ru ┆ apple.com ┆ avatars.mds.ya ┆ ... ┆ mixmuz.ru ┆ loveplanet.cc ┆ online.chebok ┆ murdrum.net │\n",
       "│ ---     ┆ ---           ┆ ---       ┆ ndex.net       ┆     ┆ ---       ┆ ---           ┆ o.com         ┆ ---         │\n",
       "│ i32     ┆ i32           ┆ i32       ┆ ---            ┆     ┆ i32       ┆ i32           ┆ ---           ┆ i32         │\n",
       "│         ┆               ┆           ┆ i32            ┆     ┆           ┆               ┆ i32           ┆             │\n",
       "╞═════════╪═══════════════╪═══════════╪════════════════╪═════╪═══════════╪═══════════════╪═══════════════╪═════════════╡\n",
       "│ 45098   ┆ 12            ┆ 491       ┆ 174            ┆ ... ┆ null      ┆ null          ┆ null          ┆ null        │\n",
       "└─────────┴───────────────┴───────────┴────────────────┴─────┴───────────┴───────────────┴───────────────┴─────────────┘"
      ]
     },
     "execution_count": 14,
     "metadata": {},
     "output_type": "execute_result"
    }
   ],
   "source": [
    "data.head(1)"
   ]
  },
  {
   "cell_type": "code",
   "execution_count": 15,
   "id": "437e41ff",
   "metadata": {},
   "outputs": [],
   "source": [
    "data = data.fill_null(0)"
   ]
  },
  {
   "cell_type": "code",
   "execution_count": 17,
   "id": "5a62c52d",
   "metadata": {},
   "outputs": [
    {
     "data": {
      "text/html": [
       "<div><style>\n",
       ".dataframe > thead > tr > th,\n",
       ".dataframe > tbody > tr > td {\n",
       "  text-align: right;\n",
       "}\n",
       "</style>\n",
       "<small>shape: (1, 3437)</small><table border=\"1\" class=\"dataframe\"><thead><tr><th>user_id</th><th>ad.adriver.ru</th><th>apple.com</th><th>avatars.mds.yandex.net</th><th>googleads.g.doubleclick.net</th><th>i.ytimg.com</th><th>icloud.com</th><th>m.avito.ru</th><th>relap.io</th><th>sun9-5.userapi.com</th><th>ads.adfox.ru</th><th>banners.adfox.ru</th><th>mail.yandex.ru</th><th>syndication.realsrv.com</th><th>ad.mail.ru</th><th>vk.com</th><th>ssp.otm-r.com</th><th>ads.betweendigital.com</th><th>s.optnx.com</th><th>yastatic.net</th><th>dsp.rtb.mts.ru</th><th>tpc.googlesyndication.com</th><th>festima.ru</th><th>sun9-85.userapi.com</th><th>s.viiadr.com</th><th>login.mts.ru</th><th>sun9-77.userapi.com</th><th>aliexpress.ru</th><th>t.me</th><th>yandex.ru</th><th>rtb.com.ru</th><th>onlinetours.ru</th><th>mamba.ru</th><th>exchange.buzzoola.com</th><th>forms.yandex.ru</th><th>sun9-80.userapi.com</th><th>rt.bongacams14.com</th><th>...</th><th>hawk.live</th><th>radiopiterfm.ru</th><th>dh-online.ru</th><th>seasonhit.tk</th><th>sudoku.com</th><th>merojax.me</th><th>gotovim-online.ru</th><th>w3m.huawei.com</th><th>zvukiknig.net</th><th>transphoto.org</th><th>online.anidub.com</th><th>forum.omskmama.ru</th><th>xiaomi.com</th><th>huawei.fotostrana.ru</th><th>news-show.online</th><th>wordle.belousov.one</th><th>part-kom.ru</th><th>rusanime.ru</th><th>v-5ka.ru</th><th>hmn.ru</th><th>x5.advantum.ru</th><th>jaomix.ru</th><th>ladys-room.ru</th><th>info.flyredwings.com</th><th>wap1.3101010.ru</th><th>ranobes.com</th><th>doctorhouse.tv</th><th>v01.ru</th><th>d3.taxinonstop.ru</th><th>avalon.antorgps.com</th><th>tatarlove.ru</th><th>dengi-white.ru</th><th>a-kniga.online</th><th>mixmuz.ru</th><th>loveplanet.cc</th><th>online.cheboko.com</th><th>murdrum.net</th></tr><tr><td>i32</td><td>i32</td><td>i32</td><td>i32</td><td>i32</td><td>i32</td><td>i32</td><td>i32</td><td>i32</td><td>i32</td><td>i32</td><td>i32</td><td>i32</td><td>i32</td><td>i32</td><td>i32</td><td>i32</td><td>i32</td><td>i32</td><td>i32</td><td>i32</td><td>i32</td><td>i32</td><td>i32</td><td>i32</td><td>i32</td><td>i32</td><td>i32</td><td>i32</td><td>i32</td><td>i32</td><td>i32</td><td>i32</td><td>i32</td><td>i32</td><td>i32</td><td>i32</td><td>...</td><td>i32</td><td>i32</td><td>i32</td><td>i32</td><td>i32</td><td>i32</td><td>i32</td><td>i32</td><td>i32</td><td>i32</td><td>i32</td><td>i32</td><td>i32</td><td>i32</td><td>i32</td><td>i32</td><td>i32</td><td>i32</td><td>i32</td><td>i32</td><td>i32</td><td>i32</td><td>i32</td><td>i32</td><td>i32</td><td>i32</td><td>i32</td><td>i32</td><td>i32</td><td>i32</td><td>i32</td><td>i32</td><td>i32</td><td>i32</td><td>i32</td><td>i32</td><td>i32</td></tr></thead><tbody><tr><td>45098</td><td>12</td><td>491</td><td>174</td><td>305</td><td>446</td><td>188</td><td>82</td><td>5</td><td>4</td><td>54</td><td>3</td><td>29</td><td>7</td><td>47</td><td>46</td><td>2</td><td>16</td><td>5</td><td>60</td><td>5</td><td>2</td><td>1</td><td>7</td><td>1</td><td>17</td><td>8</td><td>5</td><td>1</td><td>61</td><td>3</td><td>1</td><td>1</td><td>7</td><td>1</td><td>7</td><td>2</td><td>...</td><td>0</td><td>0</td><td>0</td><td>0</td><td>0</td><td>0</td><td>0</td><td>0</td><td>0</td><td>0</td><td>0</td><td>0</td><td>0</td><td>0</td><td>0</td><td>0</td><td>0</td><td>0</td><td>0</td><td>0</td><td>0</td><td>0</td><td>0</td><td>0</td><td>0</td><td>0</td><td>0</td><td>0</td><td>0</td><td>0</td><td>0</td><td>0</td><td>0</td><td>0</td><td>0</td><td>0</td><td>0</td></tr></tbody></table></div>"
      ],
      "text/plain": [
       "shape: (1, 3437)\n",
       "┌─────────┬───────────────┬───────────┬────────────────┬─────┬───────────┬───────────────┬───────────────┬─────────────┐\n",
       "│ user_id ┆ ad.adriver.ru ┆ apple.com ┆ avatars.mds.ya ┆ ... ┆ mixmuz.ru ┆ loveplanet.cc ┆ online.chebok ┆ murdrum.net │\n",
       "│ ---     ┆ ---           ┆ ---       ┆ ndex.net       ┆     ┆ ---       ┆ ---           ┆ o.com         ┆ ---         │\n",
       "│ i32     ┆ i32           ┆ i32       ┆ ---            ┆     ┆ i32       ┆ i32           ┆ ---           ┆ i32         │\n",
       "│         ┆               ┆           ┆ i32            ┆     ┆           ┆               ┆ i32           ┆             │\n",
       "╞═════════╪═══════════════╪═══════════╪════════════════╪═════╪═══════════╪═══════════════╪═══════════════╪═════════════╡\n",
       "│ 45098   ┆ 12            ┆ 491       ┆ 174            ┆ ... ┆ 0         ┆ 0             ┆ 0             ┆ 0           │\n",
       "└─────────┴───────────────┴───────────┴────────────────┴─────┴───────────┴───────────────┴───────────────┴─────────────┘"
      ]
     },
     "execution_count": 17,
     "metadata": {},
     "output_type": "execute_result"
    }
   ],
   "source": [
    "data.head(1)"
   ]
  },
  {
   "cell_type": "code",
   "execution_count": 28,
   "id": "d7cbfd5d",
   "metadata": {},
   "outputs": [
    {
     "name": "stdout",
     "output_type": "stream",
     "text": [
      "415307 уникальных пользователей для 3436 сайтов\n"
     ]
    }
   ],
   "source": [
    "print(len(data['user_id'].unique()), 'уникальных пользователей для 3436 сайтов')"
   ]
  },
  {
   "cell_type": "code",
   "execution_count": 29,
   "id": "e541aa3e",
   "metadata": {},
   "outputs": [],
   "source": [
    "data.write_parquet('data_url.parquet') "
   ]
  }
 ],
 "metadata": {
  "kernelspec": {
   "display_name": "Python 3 (ipykernel)",
   "language": "python",
   "name": "python3"
  },
  "language_info": {
   "codemirror_mode": {
    "name": "ipython",
    "version": 3
   },
   "file_extension": ".py",
   "mimetype": "text/x-python",
   "name": "python",
   "nbconvert_exporter": "python",
   "pygments_lexer": "ipython3",
   "version": "3.9.12"
  },
  "toc": {
   "base_numbering": 1,
   "nav_menu": {},
   "number_sections": true,
   "sideBar": true,
   "skip_h1_title": true,
   "title_cell": "Table of Contents",
   "title_sidebar": "Contents",
   "toc_cell": true,
   "toc_position": {},
   "toc_section_display": true,
   "toc_window_display": false
  }
 },
 "nbformat": 4,
 "nbformat_minor": 5
}
