{
 "cells": [
  {
   "cell_type": "markdown",
   "id": "fd3e2399",
   "metadata": {
    "toc": true
   },
   "source": [
    "<h1>Table of Contents<span class=\"tocSkip\"></span></h1>\n",
    "<div class=\"toc\"><ul class=\"toc-item\"></ul></div>"
   ]
  },
  {
   "cell_type": "markdown",
   "id": "0c181eb8",
   "metadata": {},
   "source": [
    "**Сшивание данных по URL и категориальным признакам, а так же разбивка на train и test**"
   ]
  },
  {
   "cell_type": "code",
   "execution_count": 1,
   "id": "72b5c765",
   "metadata": {},
   "outputs": [],
   "source": [
    "import sklearn.metrics as m\n",
    "from catboost import CatBoostClassifier, CatBoostRegressor, Pool\n",
    "from sklearn.model_selection import train_test_split\n",
    "import pandas as pd\n",
    "import polars as pl\n",
    "import bisect"
   ]
  },
  {
   "cell_type": "code",
   "execution_count": 2,
   "id": "d1f5cc51",
   "metadata": {},
   "outputs": [],
   "source": [
    "targets = pd.read_parquet('public_train.pqt') \n",
    "sumbit = pd.read_parquet('submit_2.pqt')"
   ]
  },
  {
   "cell_type": "code",
   "execution_count": 3,
   "id": "bad63a51",
   "metadata": {},
   "outputs": [
    {
     "data": {
      "text/html": [
       "<div>\n",
       "<style scoped>\n",
       "    .dataframe tbody tr th:only-of-type {\n",
       "        vertical-align: middle;\n",
       "    }\n",
       "\n",
       "    .dataframe tbody tr th {\n",
       "        vertical-align: top;\n",
       "    }\n",
       "\n",
       "    .dataframe thead th {\n",
       "        text-align: right;\n",
       "    }\n",
       "</style>\n",
       "<table border=\"1\" class=\"dataframe\">\n",
       "  <thead>\n",
       "    <tr style=\"text-align: right;\">\n",
       "      <th></th>\n",
       "      <th>age</th>\n",
       "      <th>is_male</th>\n",
       "      <th>user_id</th>\n",
       "    </tr>\n",
       "  </thead>\n",
       "  <tbody>\n",
       "    <tr>\n",
       "      <th>350459</th>\n",
       "      <td>31.0</td>\n",
       "      <td>1</td>\n",
       "      <td>350459</td>\n",
       "    </tr>\n",
       "    <tr>\n",
       "      <th>188276</th>\n",
       "      <td>35.0</td>\n",
       "      <td>1</td>\n",
       "      <td>188276</td>\n",
       "    </tr>\n",
       "    <tr>\n",
       "      <th>99002</th>\n",
       "      <td>41.0</td>\n",
       "      <td>0</td>\n",
       "      <td>99002</td>\n",
       "    </tr>\n",
       "    <tr>\n",
       "      <th>155506</th>\n",
       "      <td>33.0</td>\n",
       "      <td>0</td>\n",
       "      <td>155506</td>\n",
       "    </tr>\n",
       "    <tr>\n",
       "      <th>213873</th>\n",
       "      <td>54.0</td>\n",
       "      <td>0</td>\n",
       "      <td>213873</td>\n",
       "    </tr>\n",
       "  </tbody>\n",
       "</table>\n",
       "</div>"
      ],
      "text/plain": [
       "         age is_male  user_id\n",
       "350459  31.0       1   350459\n",
       "188276  35.0       1   188276\n",
       "99002   41.0       0    99002\n",
       "155506  33.0       0   155506\n",
       "213873  54.0       0   213873"
      ]
     },
     "execution_count": 3,
     "metadata": {},
     "output_type": "execute_result"
    }
   ],
   "source": [
    "targets.head()"
   ]
  },
  {
   "cell_type": "code",
   "execution_count": 4,
   "id": "462ed361",
   "metadata": {},
   "outputs": [
    {
     "name": "stdout",
     "output_type": "stream",
     "text": [
      "<class 'pandas.core.frame.DataFrame'>\n",
      "Int64Index: 270000 entries, 350459 to 103148\n",
      "Data columns (total 3 columns):\n",
      " #   Column   Non-Null Count   Dtype  \n",
      "---  ------   --------------   -----  \n",
      " 0   age      269999 non-null  float64\n",
      " 1   is_male  269958 non-null  object \n",
      " 2   user_id  270000 non-null  int64  \n",
      "dtypes: float64(1), int64(1), object(1)\n",
      "memory usage: 8.2+ MB\n"
     ]
    }
   ],
   "source": [
    "targets.info()"
   ]
  },
  {
   "cell_type": "code",
   "execution_count": 5,
   "id": "8f657b3d",
   "metadata": {},
   "outputs": [],
   "source": [
    "targets = targets[targets['is_male'] != 'NA']\n",
    "targets = targets[targets['age'] != 'NA']"
   ]
  },
  {
   "cell_type": "code",
   "execution_count": 6,
   "id": "f8912260",
   "metadata": {},
   "outputs": [],
   "source": [
    "targets.is_male = targets.is_male.astype('Int32')\n",
    "targets.user_id = targets.user_id.astype('Int32')"
   ]
  },
  {
   "cell_type": "code",
   "execution_count": 7,
   "id": "c274361a",
   "metadata": {},
   "outputs": [],
   "source": [
    "targets = targets.dropna()"
   ]
  },
  {
   "cell_type": "code",
   "execution_count": 8,
   "id": "73689b42",
   "metadata": {},
   "outputs": [
    {
     "data": {
      "text/plain": [
       "array([31., 35., 41., 33., 54., 63., 39., 27., 66., 48., 60., 21., 47.,\n",
       "       36., 49., 40., 57., 53., 51., 25., 59., 29., 55., 26., 42., 24.,\n",
       "       64., 50., 45., 32., 34., 28., 44., 22., 43., 38., 19., 52., 37.,\n",
       "       23., 68., 56., 71., 20., 61., 58., 46., 69., 65., 30., 81., 72.,\n",
       "       67., 62., 18., 16., 74., 76., 80., 73., 70., 17., 15., 75., 77.,\n",
       "       14., 78., 82., 83., 85.,  0., 84., 79., 91., 86., 88.])"
      ]
     },
     "execution_count": 8,
     "metadata": {},
     "output_type": "execute_result"
    }
   ],
   "source": [
    "targets.age.unique()"
   ]
  },
  {
   "cell_type": "code",
   "execution_count": 9,
   "id": "65dc0e99",
   "metadata": {},
   "outputs": [
    {
     "name": "stdout",
     "output_type": "stream",
     "text": [
      "<class 'pandas.core.frame.DataFrame'>\n",
      "Int64Index: 264325 entries, 350459 to 103148\n",
      "Data columns (total 3 columns):\n",
      " #   Column   Non-Null Count   Dtype  \n",
      "---  ------   --------------   -----  \n",
      " 0   age      264325 non-null  float64\n",
      " 1   is_male  264325 non-null  Int32  \n",
      " 2   user_id  264325 non-null  Int32  \n",
      "dtypes: Int32(2), float64(1)\n",
      "memory usage: 6.6 MB\n"
     ]
    }
   ],
   "source": [
    "targets.info()"
   ]
  },
  {
   "cell_type": "code",
   "execution_count": 10,
   "id": "70ed1acd",
   "metadata": {},
   "outputs": [],
   "source": [
    "sumbit.user_id = sumbit.user_id.astype('Int32')"
   ]
  },
  {
   "cell_type": "code",
   "execution_count": 11,
   "id": "016e14f5",
   "metadata": {},
   "outputs": [
    {
     "name": "stdout",
     "output_type": "stream",
     "text": [
      "<class 'pandas.core.frame.DataFrame'>\n",
      "Int64Index: 144724 entries, 221301 to 145315\n",
      "Data columns (total 1 columns):\n",
      " #   Column   Non-Null Count   Dtype\n",
      "---  ------   --------------   -----\n",
      " 0   user_id  144724 non-null  Int32\n",
      "dtypes: Int32(1)\n",
      "memory usage: 1.8 MB\n"
     ]
    }
   ],
   "source": [
    "sumbit.info()"
   ]
  },
  {
   "cell_type": "code",
   "execution_count": 12,
   "id": "a80825cc",
   "metadata": {},
   "outputs": [],
   "source": [
    "def age_bucket1(x):\n",
    "    if x >= 19 and x <= 25:\n",
    "        return 1\n",
    "    if x >= 26 and x <= 35:\n",
    "        return 2\n",
    "    if x >= 36 and x <= 45:\n",
    "        return 3\n",
    "    if x >= 46 and x <= 55:\n",
    "        return 4\n",
    "    if x >= 56 and x <= 65:\n",
    "        return 5\n",
    "    if x >= 66:\n",
    "        return 6   "
   ]
  },
  {
   "cell_type": "code",
   "execution_count": 13,
   "id": "df9e6bb7",
   "metadata": {},
   "outputs": [],
   "source": [
    "targets.age = targets.age.map(age_bucket1)"
   ]
  },
  {
   "cell_type": "code",
   "execution_count": 14,
   "id": "e628c7a7",
   "metadata": {},
   "outputs": [],
   "source": [
    "targets.age = targets.age.astype('Int32')"
   ]
  },
  {
   "cell_type": "code",
   "execution_count": 15,
   "id": "105bf541",
   "metadata": {},
   "outputs": [],
   "source": [
    "targets = targets.dropna()"
   ]
  },
  {
   "cell_type": "code",
   "execution_count": 16,
   "id": "d99b25b1",
   "metadata": {},
   "outputs": [
    {
     "name": "stdout",
     "output_type": "stream",
     "text": [
      "<class 'pandas.core.frame.DataFrame'>\n",
      "Int64Index: 263508 entries, 350459 to 103148\n",
      "Data columns (total 3 columns):\n",
      " #   Column   Non-Null Count   Dtype\n",
      "---  ------   --------------   -----\n",
      " 0   age      263508 non-null  Int32\n",
      " 1   is_male  263508 non-null  Int32\n",
      " 2   user_id  263508 non-null  Int32\n",
      "dtypes: Int32(3)\n",
      "memory usage: 5.8 MB\n"
     ]
    }
   ],
   "source": [
    "targets.info()"
   ]
  },
  {
   "cell_type": "code",
   "execution_count": 17,
   "id": "dbe7a5e6",
   "metadata": {},
   "outputs": [],
   "source": [
    "df1 = pl.read_parquet('data_url.parquet')\n",
    "df2 = pl.read_parquet('data_category.parquet')"
   ]
  },
  {
   "cell_type": "code",
   "execution_count": 18,
   "id": "858a38df",
   "metadata": {},
   "outputs": [],
   "source": [
    "df = df1.join(df2, left_on='user_id', right_on='user_id')"
   ]
  },
  {
   "cell_type": "code",
   "execution_count": 19,
   "id": "eae0bf62",
   "metadata": {},
   "outputs": [
    {
     "data": {
      "text/html": [
       "<div><style>\n",
       ".dataframe > thead > tr > th,\n",
       ".dataframe > tbody > tr > td {\n",
       "  text-align: right;\n",
       "}\n",
       "</style>\n",
       "<small>shape: (5, 5507)</small><table border=\"1\" class=\"dataframe\"><thead><tr><th>user_id</th><th>ad.adriver.ru</th><th>apple.com</th><th>avatars.mds.yandex.net</th><th>googleads.g.doubleclick.net</th><th>i.ytimg.com</th><th>icloud.com</th><th>m.avito.ru</th><th>relap.io</th><th>sun9-5.userapi.com</th><th>ads.adfox.ru</th><th>banners.adfox.ru</th><th>mail.yandex.ru</th><th>syndication.realsrv.com</th><th>ad.mail.ru</th><th>vk.com</th><th>ssp.otm-r.com</th><th>ads.betweendigital.com</th><th>s.optnx.com</th><th>yastatic.net</th><th>dsp.rtb.mts.ru</th><th>tpc.googlesyndication.com</th><th>festima.ru</th><th>sun9-85.userapi.com</th><th>s.viiadr.com</th><th>login.mts.ru</th><th>sun9-77.userapi.com</th><th>aliexpress.ru</th><th>t.me</th><th>yandex.ru</th><th>rtb.com.ru</th><th>onlinetours.ru</th><th>mamba.ru</th><th>exchange.buzzoola.com</th><th>forms.yandex.ru</th><th>sun9-80.userapi.com</th><th>rt.bongacams14.com</th><th>...</th><th>2021-12-21 00:00:00.000000000</th><th>2022-01-20 00:00:00.000000000</th><th>2022-01-22 00:00:00.000000000</th><th>2021-11-10 00:00:00.000000000</th><th>2021-12-31 00:00:00.000000000</th><th>2022-01-26 00:00:00.000000000</th><th>2021-11-09 00:00:00.000000000</th><th>2022-01-21 00:00:00.000000000</th><th>2021-12-23 00:00:00.000000000</th><th>2021-11-14 00:00:00.000000000</th><th>2022-10-15 00:00:00.000000000</th><th>2022-10-13 00:00:00.000000000</th><th>2022-10-09 00:00:00.000000000</th><th>2022-10-06 00:00:00.000000000</th><th>2022-10-14 00:00:00.000000000</th><th>2022-10-12 00:00:00.000000000</th><th>2022-10-28 00:00:00.000000000</th><th>2022-10-19 00:00:00.000000000</th><th>2022-10-07 00:00:00.000000000</th><th>2022-10-20 00:00:00.000000000</th><th>2022-10-18 00:00:00.000000000</th><th>2022-11-01 00:00:00.000000000</th><th>2022-10-27 00:00:00.000000000</th><th>2022-10-22 00:00:00.000000000</th><th>2022-10-31 00:00:00.000000000</th><th>2022-10-29 00:00:00.000000000</th><th>2022-10-21 00:00:00.000000000</th><th>2022-10-26 00:00:00.000000000</th><th>2022-10-11 00:00:00.000000000</th><th>2022-10-08 00:00:00.000000000</th><th>2022-10-16 00:00:00.000000000</th><th>2022-10-25 00:00:00.000000000</th><th>2022-10-24 00:00:00.000000000</th><th>2022-10-30 00:00:00.000000000</th><th>2022-10-17 00:00:00.000000000</th><th>2022-10-23 00:00:00.000000000</th><th>2022-10-10 00:00:00.000000000</th></tr><tr><td>i32</td><td>i32</td><td>i32</td><td>i32</td><td>i32</td><td>i32</td><td>i32</td><td>i32</td><td>i32</td><td>i32</td><td>i32</td><td>i32</td><td>i32</td><td>i32</td><td>i32</td><td>i32</td><td>i32</td><td>i32</td><td>i32</td><td>i32</td><td>i32</td><td>i32</td><td>i32</td><td>i32</td><td>i32</td><td>i32</td><td>i32</td><td>i32</td><td>i32</td><td>i32</td><td>i32</td><td>i32</td><td>i32</td><td>i32</td><td>i32</td><td>i32</td><td>i32</td><td>...</td><td>f32</td><td>f32</td><td>f32</td><td>f32</td><td>f32</td><td>f32</td><td>f32</td><td>f32</td><td>f32</td><td>f32</td><td>f32</td><td>f32</td><td>f32</td><td>f32</td><td>f32</td><td>f32</td><td>f32</td><td>f32</td><td>f32</td><td>f32</td><td>f32</td><td>f32</td><td>f32</td><td>f32</td><td>f32</td><td>f32</td><td>f32</td><td>f32</td><td>f32</td><td>f32</td><td>f32</td><td>f32</td><td>f32</td><td>f32</td><td>f32</td><td>f32</td><td>f32</td></tr></thead><tbody><tr><td>45098</td><td>12</td><td>491</td><td>174</td><td>305</td><td>446</td><td>188</td><td>82</td><td>5</td><td>4</td><td>54</td><td>3</td><td>29</td><td>7</td><td>47</td><td>46</td><td>2</td><td>16</td><td>5</td><td>60</td><td>5</td><td>2</td><td>1</td><td>7</td><td>1</td><td>17</td><td>8</td><td>5</td><td>1</td><td>61</td><td>3</td><td>1</td><td>1</td><td>7</td><td>1</td><td>7</td><td>2</td><td>...</td><td>0.0</td><td>0.0</td><td>0.0</td><td>0.0</td><td>0.0</td><td>0.0</td><td>0.0</td><td>0.0</td><td>0.0</td><td>0.0</td><td>0.0</td><td>0.0</td><td>0.0</td><td>0.0</td><td>0.0</td><td>0.0</td><td>0.0</td><td>0.0</td><td>0.0</td><td>0.0</td><td>0.0</td><td>0.0</td><td>0.0</td><td>0.0</td><td>0.0</td><td>0.0</td><td>0.0</td><td>0.0</td><td>0.0</td><td>0.0</td><td>0.0</td><td>0.0</td><td>0.0</td><td>0.0</td><td>0.0</td><td>0.0</td><td>0.0</td></tr><tr><td>117132</td><td>5</td><td>0</td><td>12</td><td>40</td><td>80</td><td>0</td><td>0</td><td>0</td><td>67</td><td>1</td><td>0</td><td>0</td><td>0</td><td>101</td><td>172</td><td>0</td><td>0</td><td>0</td><td>7</td><td>0</td><td>7</td><td>0</td><td>57</td><td>0</td><td>1</td><td>62</td><td>0</td><td>5</td><td>5</td><td>0</td><td>0</td><td>0</td><td>0</td><td>0</td><td>63</td><td>0</td><td>...</td><td>0.0</td><td>0.0</td><td>0.0</td><td>0.0</td><td>0.0</td><td>0.0</td><td>0.0</td><td>0.0</td><td>0.0</td><td>0.0</td><td>0.0</td><td>0.0</td><td>0.0</td><td>0.0</td><td>0.0</td><td>0.0</td><td>0.0</td><td>0.0</td><td>0.0</td><td>0.0</td><td>0.0</td><td>0.0</td><td>0.0</td><td>0.0</td><td>0.0</td><td>0.0</td><td>0.0</td><td>0.0</td><td>0.0</td><td>0.0</td><td>0.0</td><td>0.0</td><td>0.0</td><td>0.0</td><td>0.0</td><td>0.0</td><td>0.0</td></tr><tr><td>79395</td><td>16</td><td>0</td><td>112</td><td>305</td><td>660</td><td>0</td><td>1</td><td>7</td><td>1</td><td>49</td><td>4</td><td>10</td><td>1</td><td>212</td><td>143</td><td>0</td><td>9</td><td>0</td><td>144</td><td>0</td><td>53</td><td>0</td><td>0</td><td>0</td><td>0</td><td>0</td><td>1</td><td>5</td><td>725</td><td>4</td><td>0</td><td>0</td><td>14</td><td>0</td><td>0</td><td>0</td><td>...</td><td>0.0</td><td>0.0</td><td>0.0</td><td>0.0</td><td>0.0</td><td>0.0</td><td>0.0</td><td>0.0</td><td>0.0</td><td>0.0</td><td>0.0</td><td>0.0</td><td>0.0</td><td>0.0</td><td>0.0</td><td>0.0</td><td>0.0</td><td>0.0</td><td>0.0</td><td>0.0</td><td>0.0</td><td>0.0</td><td>0.0</td><td>0.0</td><td>0.0</td><td>0.0</td><td>0.0</td><td>0.0</td><td>0.0</td><td>0.0</td><td>0.0</td><td>0.0</td><td>0.0</td><td>0.0</td><td>0.0</td><td>0.0</td><td>0.0</td></tr><tr><td>91294</td><td>23</td><td>0</td><td>145</td><td>355</td><td>517</td><td>0</td><td>2</td><td>14</td><td>1</td><td>76</td><td>3</td><td>45</td><td>4</td><td>37</td><td>69</td><td>0</td><td>26</td><td>1</td><td>142</td><td>0</td><td>9</td><td>0</td><td>0</td><td>0</td><td>3</td><td>0</td><td>0</td><td>6</td><td>220</td><td>11</td><td>0</td><td>0</td><td>15</td><td>0</td><td>0</td><td>3</td><td>...</td><td>0.0</td><td>0.0</td><td>0.0</td><td>0.0</td><td>0.0</td><td>0.0</td><td>0.0</td><td>0.0</td><td>0.0</td><td>0.0</td><td>0.0</td><td>0.0</td><td>0.0</td><td>0.0</td><td>0.0</td><td>0.0</td><td>0.0</td><td>0.0</td><td>0.0</td><td>0.0</td><td>0.0</td><td>0.0</td><td>0.0</td><td>0.0</td><td>0.0</td><td>0.0</td><td>0.0</td><td>0.0</td><td>0.0</td><td>0.0</td><td>0.0</td><td>0.0</td><td>0.0</td><td>0.0</td><td>0.0</td><td>0.0</td><td>0.0</td></tr><tr><td>161323</td><td>4</td><td>0</td><td>28</td><td>47</td><td>40</td><td>0</td><td>0</td><td>9</td><td>0</td><td>14</td><td>1</td><td>23</td><td>3</td><td>19</td><td>13</td><td>5</td><td>10</td><td>0</td><td>26</td><td>0</td><td>14</td><td>0</td><td>0</td><td>0</td><td>6</td><td>0</td><td>0</td><td>0</td><td>38</td><td>1</td><td>0</td><td>0</td><td>10</td><td>0</td><td>0</td><td>0</td><td>...</td><td>0.0</td><td>0.0</td><td>0.0</td><td>0.0</td><td>0.0</td><td>0.0</td><td>0.0</td><td>0.0</td><td>0.0</td><td>0.0</td><td>0.0</td><td>0.0</td><td>0.0</td><td>0.0</td><td>0.0</td><td>0.0</td><td>0.0</td><td>0.0</td><td>0.0</td><td>0.0</td><td>0.0</td><td>0.0</td><td>0.0</td><td>0.0</td><td>0.0</td><td>0.0</td><td>0.0</td><td>0.0</td><td>0.0</td><td>0.0</td><td>0.0</td><td>0.0</td><td>0.0</td><td>0.0</td><td>0.0</td><td>0.0</td><td>0.0</td></tr></tbody></table></div>"
      ],
      "text/plain": [
       "shape: (5, 5507)\n",
       "┌─────────┬───────────────┬───────────┬──────────────┬─────┬──────────────┬──────────────┬──────────────┬──────────────┐\n",
       "│ user_id ┆ ad.adriver.ru ┆ apple.com ┆ avatars.mds. ┆ ... ┆ 2022-10-30   ┆ 2022-10-17   ┆ 2022-10-23   ┆ 2022-10-10   │\n",
       "│ ---     ┆ ---           ┆ ---       ┆ yandex.net   ┆     ┆ 00:00:00.000 ┆ 00:00:00.000 ┆ 00:00:00.000 ┆ 00:00:00.000 │\n",
       "│ i32     ┆ i32           ┆ i32       ┆ ---          ┆     ┆ 000000       ┆ 000000       ┆ 000000       ┆ 000000       │\n",
       "│         ┆               ┆           ┆ i32          ┆     ┆ ---          ┆ ---          ┆ ---          ┆ ---          │\n",
       "│         ┆               ┆           ┆              ┆     ┆ f32          ┆ f32          ┆ f32          ┆ f32          │\n",
       "╞═════════╪═══════════════╪═══════════╪══════════════╪═════╪══════════════╪══════════════╪══════════════╪══════════════╡\n",
       "│ 45098   ┆ 12            ┆ 491       ┆ 174          ┆ ... ┆ 0.0          ┆ 0.0          ┆ 0.0          ┆ 0.0          │\n",
       "│ 117132  ┆ 5             ┆ 0         ┆ 12           ┆ ... ┆ 0.0          ┆ 0.0          ┆ 0.0          ┆ 0.0          │\n",
       "│ 79395   ┆ 16            ┆ 0         ┆ 112          ┆ ... ┆ 0.0          ┆ 0.0          ┆ 0.0          ┆ 0.0          │\n",
       "│ 91294   ┆ 23            ┆ 0         ┆ 145          ┆ ... ┆ 0.0          ┆ 0.0          ┆ 0.0          ┆ 0.0          │\n",
       "│ 161323  ┆ 4             ┆ 0         ┆ 28           ┆ ... ┆ 0.0          ┆ 0.0          ┆ 0.0          ┆ 0.0          │\n",
       "└─────────┴───────────────┴───────────┴──────────────┴─────┴──────────────┴──────────────┴──────────────┴──────────────┘"
      ]
     },
     "execution_count": 19,
     "metadata": {},
     "output_type": "execute_result"
    }
   ],
   "source": [
    "df.head()"
   ]
  },
  {
   "cell_type": "code",
   "execution_count": 20,
   "id": "2db7fdd7",
   "metadata": {},
   "outputs": [],
   "source": [
    "del df1, df2"
   ]
  },
  {
   "cell_type": "code",
   "execution_count": 21,
   "id": "bdd9d4ea",
   "metadata": {},
   "outputs": [],
   "source": [
    "df_train = df.join(pl.from_pandas(targets), left_on='user_id', right_on='user_id')"
   ]
  },
  {
   "cell_type": "code",
   "execution_count": 22,
   "id": "417951af",
   "metadata": {},
   "outputs": [],
   "source": [
    "df_test = df.join(pl.from_pandas(sumbit), left_on='user_id', right_on='user_id')"
   ]
  },
  {
   "cell_type": "code",
   "execution_count": 23,
   "id": "e6db4da7",
   "metadata": {},
   "outputs": [
    {
     "data": {
      "text/html": [
       "<div><style>\n",
       ".dataframe > thead > tr > th,\n",
       ".dataframe > tbody > tr > td {\n",
       "  text-align: right;\n",
       "}\n",
       "</style>\n",
       "<small>shape: (1, 5509)</small><table border=\"1\" class=\"dataframe\"><thead><tr><th>user_id</th><th>ad.adriver.ru</th><th>apple.com</th><th>avatars.mds.yandex.net</th><th>googleads.g.doubleclick.net</th><th>i.ytimg.com</th><th>icloud.com</th><th>m.avito.ru</th><th>relap.io</th><th>sun9-5.userapi.com</th><th>ads.adfox.ru</th><th>banners.adfox.ru</th><th>mail.yandex.ru</th><th>syndication.realsrv.com</th><th>ad.mail.ru</th><th>vk.com</th><th>ssp.otm-r.com</th><th>ads.betweendigital.com</th><th>s.optnx.com</th><th>yastatic.net</th><th>dsp.rtb.mts.ru</th><th>tpc.googlesyndication.com</th><th>festima.ru</th><th>sun9-85.userapi.com</th><th>s.viiadr.com</th><th>login.mts.ru</th><th>sun9-77.userapi.com</th><th>aliexpress.ru</th><th>t.me</th><th>yandex.ru</th><th>rtb.com.ru</th><th>onlinetours.ru</th><th>mamba.ru</th><th>exchange.buzzoola.com</th><th>forms.yandex.ru</th><th>sun9-80.userapi.com</th><th>rt.bongacams14.com</th><th>...</th><th>2022-01-22 00:00:00.000000000</th><th>2021-11-10 00:00:00.000000000</th><th>2021-12-31 00:00:00.000000000</th><th>2022-01-26 00:00:00.000000000</th><th>2021-11-09 00:00:00.000000000</th><th>2022-01-21 00:00:00.000000000</th><th>2021-12-23 00:00:00.000000000</th><th>2021-11-14 00:00:00.000000000</th><th>2022-10-15 00:00:00.000000000</th><th>2022-10-13 00:00:00.000000000</th><th>2022-10-09 00:00:00.000000000</th><th>2022-10-06 00:00:00.000000000</th><th>2022-10-14 00:00:00.000000000</th><th>2022-10-12 00:00:00.000000000</th><th>2022-10-28 00:00:00.000000000</th><th>2022-10-19 00:00:00.000000000</th><th>2022-10-07 00:00:00.000000000</th><th>2022-10-20 00:00:00.000000000</th><th>2022-10-18 00:00:00.000000000</th><th>2022-11-01 00:00:00.000000000</th><th>2022-10-27 00:00:00.000000000</th><th>2022-10-22 00:00:00.000000000</th><th>2022-10-31 00:00:00.000000000</th><th>2022-10-29 00:00:00.000000000</th><th>2022-10-21 00:00:00.000000000</th><th>2022-10-26 00:00:00.000000000</th><th>2022-10-11 00:00:00.000000000</th><th>2022-10-08 00:00:00.000000000</th><th>2022-10-16 00:00:00.000000000</th><th>2022-10-25 00:00:00.000000000</th><th>2022-10-24 00:00:00.000000000</th><th>2022-10-30 00:00:00.000000000</th><th>2022-10-17 00:00:00.000000000</th><th>2022-10-23 00:00:00.000000000</th><th>2022-10-10 00:00:00.000000000</th><th>age</th><th>is_male</th></tr><tr><td>i32</td><td>i32</td><td>i32</td><td>i32</td><td>i32</td><td>i32</td><td>i32</td><td>i32</td><td>i32</td><td>i32</td><td>i32</td><td>i32</td><td>i32</td><td>i32</td><td>i32</td><td>i32</td><td>i32</td><td>i32</td><td>i32</td><td>i32</td><td>i32</td><td>i32</td><td>i32</td><td>i32</td><td>i32</td><td>i32</td><td>i32</td><td>i32</td><td>i32</td><td>i32</td><td>i32</td><td>i32</td><td>i32</td><td>i32</td><td>i32</td><td>i32</td><td>i32</td><td>...</td><td>f32</td><td>f32</td><td>f32</td><td>f32</td><td>f32</td><td>f32</td><td>f32</td><td>f32</td><td>f32</td><td>f32</td><td>f32</td><td>f32</td><td>f32</td><td>f32</td><td>f32</td><td>f32</td><td>f32</td><td>f32</td><td>f32</td><td>f32</td><td>f32</td><td>f32</td><td>f32</td><td>f32</td><td>f32</td><td>f32</td><td>f32</td><td>f32</td><td>f32</td><td>f32</td><td>f32</td><td>f32</td><td>f32</td><td>f32</td><td>f32</td><td>i32</td><td>i32</td></tr></thead><tbody><tr><td>79395</td><td>16</td><td>0</td><td>112</td><td>305</td><td>660</td><td>0</td><td>1</td><td>7</td><td>1</td><td>49</td><td>4</td><td>10</td><td>1</td><td>212</td><td>143</td><td>0</td><td>9</td><td>0</td><td>144</td><td>0</td><td>53</td><td>0</td><td>0</td><td>0</td><td>0</td><td>0</td><td>1</td><td>5</td><td>725</td><td>4</td><td>0</td><td>0</td><td>14</td><td>0</td><td>0</td><td>0</td><td>...</td><td>0.0</td><td>0.0</td><td>0.0</td><td>0.0</td><td>0.0</td><td>0.0</td><td>0.0</td><td>0.0</td><td>0.0</td><td>0.0</td><td>0.0</td><td>0.0</td><td>0.0</td><td>0.0</td><td>0.0</td><td>0.0</td><td>0.0</td><td>0.0</td><td>0.0</td><td>0.0</td><td>0.0</td><td>0.0</td><td>0.0</td><td>0.0</td><td>0.0</td><td>0.0</td><td>0.0</td><td>0.0</td><td>0.0</td><td>0.0</td><td>0.0</td><td>0.0</td><td>0.0</td><td>0.0</td><td>0.0</td><td>2</td><td>1</td></tr></tbody></table></div>"
      ],
      "text/plain": [
       "shape: (1, 5509)\n",
       "┌─────────┬───────────────┬───────────┬───────────────────┬─────┬───────────────────┬──────────────────┬─────┬─────────┐\n",
       "│ user_id ┆ ad.adriver.ru ┆ apple.com ┆ avatars.mds.yande ┆ ... ┆ 2022-10-23 00:00: ┆ 2022-10-10 00:00 ┆ age ┆ is_male │\n",
       "│ ---     ┆ ---           ┆ ---       ┆ x.net             ┆     ┆ 00.000000000      ┆ :00.000000000    ┆ --- ┆ ---     │\n",
       "│ i32     ┆ i32           ┆ i32       ┆ ---               ┆     ┆ ---               ┆ ---              ┆ i32 ┆ i32     │\n",
       "│         ┆               ┆           ┆ i32               ┆     ┆ f32               ┆ f32              ┆     ┆         │\n",
       "╞═════════╪═══════════════╪═══════════╪═══════════════════╪═════╪═══════════════════╪══════════════════╪═════╪═════════╡\n",
       "│ 79395   ┆ 16            ┆ 0         ┆ 112               ┆ ... ┆ 0.0               ┆ 0.0              ┆ 2   ┆ 1       │\n",
       "└─────────┴───────────────┴───────────┴───────────────────┴─────┴───────────────────┴──────────────────┴─────┴─────────┘"
      ]
     },
     "execution_count": 23,
     "metadata": {},
     "output_type": "execute_result"
    }
   ],
   "source": [
    "df_train.head(1)"
   ]
  },
  {
   "cell_type": "code",
   "execution_count": 24,
   "id": "841d0c86",
   "metadata": {},
   "outputs": [
    {
     "data": {
      "text/html": [
       "<div><style>\n",
       ".dataframe > thead > tr > th,\n",
       ".dataframe > tbody > tr > td {\n",
       "  text-align: right;\n",
       "}\n",
       "</style>\n",
       "<small>shape: (1, 5507)</small><table border=\"1\" class=\"dataframe\"><thead><tr><th>user_id</th><th>ad.adriver.ru</th><th>apple.com</th><th>avatars.mds.yandex.net</th><th>googleads.g.doubleclick.net</th><th>i.ytimg.com</th><th>icloud.com</th><th>m.avito.ru</th><th>relap.io</th><th>sun9-5.userapi.com</th><th>ads.adfox.ru</th><th>banners.adfox.ru</th><th>mail.yandex.ru</th><th>syndication.realsrv.com</th><th>ad.mail.ru</th><th>vk.com</th><th>ssp.otm-r.com</th><th>ads.betweendigital.com</th><th>s.optnx.com</th><th>yastatic.net</th><th>dsp.rtb.mts.ru</th><th>tpc.googlesyndication.com</th><th>festima.ru</th><th>sun9-85.userapi.com</th><th>s.viiadr.com</th><th>login.mts.ru</th><th>sun9-77.userapi.com</th><th>aliexpress.ru</th><th>t.me</th><th>yandex.ru</th><th>rtb.com.ru</th><th>onlinetours.ru</th><th>mamba.ru</th><th>exchange.buzzoola.com</th><th>forms.yandex.ru</th><th>sun9-80.userapi.com</th><th>rt.bongacams14.com</th><th>...</th><th>2021-12-21 00:00:00.000000000</th><th>2022-01-20 00:00:00.000000000</th><th>2022-01-22 00:00:00.000000000</th><th>2021-11-10 00:00:00.000000000</th><th>2021-12-31 00:00:00.000000000</th><th>2022-01-26 00:00:00.000000000</th><th>2021-11-09 00:00:00.000000000</th><th>2022-01-21 00:00:00.000000000</th><th>2021-12-23 00:00:00.000000000</th><th>2021-11-14 00:00:00.000000000</th><th>2022-10-15 00:00:00.000000000</th><th>2022-10-13 00:00:00.000000000</th><th>2022-10-09 00:00:00.000000000</th><th>2022-10-06 00:00:00.000000000</th><th>2022-10-14 00:00:00.000000000</th><th>2022-10-12 00:00:00.000000000</th><th>2022-10-28 00:00:00.000000000</th><th>2022-10-19 00:00:00.000000000</th><th>2022-10-07 00:00:00.000000000</th><th>2022-10-20 00:00:00.000000000</th><th>2022-10-18 00:00:00.000000000</th><th>2022-11-01 00:00:00.000000000</th><th>2022-10-27 00:00:00.000000000</th><th>2022-10-22 00:00:00.000000000</th><th>2022-10-31 00:00:00.000000000</th><th>2022-10-29 00:00:00.000000000</th><th>2022-10-21 00:00:00.000000000</th><th>2022-10-26 00:00:00.000000000</th><th>2022-10-11 00:00:00.000000000</th><th>2022-10-08 00:00:00.000000000</th><th>2022-10-16 00:00:00.000000000</th><th>2022-10-25 00:00:00.000000000</th><th>2022-10-24 00:00:00.000000000</th><th>2022-10-30 00:00:00.000000000</th><th>2022-10-17 00:00:00.000000000</th><th>2022-10-23 00:00:00.000000000</th><th>2022-10-10 00:00:00.000000000</th></tr><tr><td>i32</td><td>i32</td><td>i32</td><td>i32</td><td>i32</td><td>i32</td><td>i32</td><td>i32</td><td>i32</td><td>i32</td><td>i32</td><td>i32</td><td>i32</td><td>i32</td><td>i32</td><td>i32</td><td>i32</td><td>i32</td><td>i32</td><td>i32</td><td>i32</td><td>i32</td><td>i32</td><td>i32</td><td>i32</td><td>i32</td><td>i32</td><td>i32</td><td>i32</td><td>i32</td><td>i32</td><td>i32</td><td>i32</td><td>i32</td><td>i32</td><td>i32</td><td>i32</td><td>...</td><td>f32</td><td>f32</td><td>f32</td><td>f32</td><td>f32</td><td>f32</td><td>f32</td><td>f32</td><td>f32</td><td>f32</td><td>f32</td><td>f32</td><td>f32</td><td>f32</td><td>f32</td><td>f32</td><td>f32</td><td>f32</td><td>f32</td><td>f32</td><td>f32</td><td>f32</td><td>f32</td><td>f32</td><td>f32</td><td>f32</td><td>f32</td><td>f32</td><td>f32</td><td>f32</td><td>f32</td><td>f32</td><td>f32</td><td>f32</td><td>f32</td><td>f32</td><td>f32</td></tr></thead><tbody><tr><td>45098</td><td>12</td><td>491</td><td>174</td><td>305</td><td>446</td><td>188</td><td>82</td><td>5</td><td>4</td><td>54</td><td>3</td><td>29</td><td>7</td><td>47</td><td>46</td><td>2</td><td>16</td><td>5</td><td>60</td><td>5</td><td>2</td><td>1</td><td>7</td><td>1</td><td>17</td><td>8</td><td>5</td><td>1</td><td>61</td><td>3</td><td>1</td><td>1</td><td>7</td><td>1</td><td>7</td><td>2</td><td>...</td><td>0.0</td><td>0.0</td><td>0.0</td><td>0.0</td><td>0.0</td><td>0.0</td><td>0.0</td><td>0.0</td><td>0.0</td><td>0.0</td><td>0.0</td><td>0.0</td><td>0.0</td><td>0.0</td><td>0.0</td><td>0.0</td><td>0.0</td><td>0.0</td><td>0.0</td><td>0.0</td><td>0.0</td><td>0.0</td><td>0.0</td><td>0.0</td><td>0.0</td><td>0.0</td><td>0.0</td><td>0.0</td><td>0.0</td><td>0.0</td><td>0.0</td><td>0.0</td><td>0.0</td><td>0.0</td><td>0.0</td><td>0.0</td><td>0.0</td></tr></tbody></table></div>"
      ],
      "text/plain": [
       "shape: (1, 5507)\n",
       "┌─────────┬───────────────┬───────────┬──────────────┬─────┬──────────────┬──────────────┬──────────────┬──────────────┐\n",
       "│ user_id ┆ ad.adriver.ru ┆ apple.com ┆ avatars.mds. ┆ ... ┆ 2022-10-30   ┆ 2022-10-17   ┆ 2022-10-23   ┆ 2022-10-10   │\n",
       "│ ---     ┆ ---           ┆ ---       ┆ yandex.net   ┆     ┆ 00:00:00.000 ┆ 00:00:00.000 ┆ 00:00:00.000 ┆ 00:00:00.000 │\n",
       "│ i32     ┆ i32           ┆ i32       ┆ ---          ┆     ┆ 000000       ┆ 000000       ┆ 000000       ┆ 000000       │\n",
       "│         ┆               ┆           ┆ i32          ┆     ┆ ---          ┆ ---          ┆ ---          ┆ ---          │\n",
       "│         ┆               ┆           ┆              ┆     ┆ f32          ┆ f32          ┆ f32          ┆ f32          │\n",
       "╞═════════╪═══════════════╪═══════════╪══════════════╪═════╪══════════════╪══════════════╪══════════════╪══════════════╡\n",
       "│ 45098   ┆ 12            ┆ 491       ┆ 174          ┆ ... ┆ 0.0          ┆ 0.0          ┆ 0.0          ┆ 0.0          │\n",
       "└─────────┴───────────────┴───────────┴──────────────┴─────┴──────────────┴──────────────┴──────────────┴──────────────┘"
      ]
     },
     "execution_count": 24,
     "metadata": {},
     "output_type": "execute_result"
    }
   ],
   "source": [
    "df_test.head(1)"
   ]
  },
  {
   "cell_type": "code",
   "execution_count": 25,
   "id": "40bf1d21",
   "metadata": {},
   "outputs": [
    {
     "data": {
      "text/html": [
       "<div><style>\n",
       ".dataframe > thead > tr > th,\n",
       ".dataframe > tbody > tr > td {\n",
       "  text-align: right;\n",
       "}\n",
       "</style>\n",
       "<small>shape: (144724, 5507)</small><table border=\"1\" class=\"dataframe\"><thead><tr><th>user_id</th><th>ad.adriver.ru</th><th>apple.com</th><th>avatars.mds.yandex.net</th><th>googleads.g.doubleclick.net</th><th>i.ytimg.com</th><th>icloud.com</th><th>m.avito.ru</th><th>relap.io</th><th>sun9-5.userapi.com</th><th>ads.adfox.ru</th><th>banners.adfox.ru</th><th>mail.yandex.ru</th><th>syndication.realsrv.com</th><th>ad.mail.ru</th><th>vk.com</th><th>ssp.otm-r.com</th><th>ads.betweendigital.com</th><th>s.optnx.com</th><th>yastatic.net</th><th>dsp.rtb.mts.ru</th><th>tpc.googlesyndication.com</th><th>festima.ru</th><th>sun9-85.userapi.com</th><th>s.viiadr.com</th><th>login.mts.ru</th><th>sun9-77.userapi.com</th><th>aliexpress.ru</th><th>t.me</th><th>yandex.ru</th><th>rtb.com.ru</th><th>onlinetours.ru</th><th>mamba.ru</th><th>exchange.buzzoola.com</th><th>forms.yandex.ru</th><th>sun9-80.userapi.com</th><th>rt.bongacams14.com</th><th>...</th><th>2021-12-21 00:00:00.000000000</th><th>2022-01-20 00:00:00.000000000</th><th>2022-01-22 00:00:00.000000000</th><th>2021-11-10 00:00:00.000000000</th><th>2021-12-31 00:00:00.000000000</th><th>2022-01-26 00:00:00.000000000</th><th>2021-11-09 00:00:00.000000000</th><th>2022-01-21 00:00:00.000000000</th><th>2021-12-23 00:00:00.000000000</th><th>2021-11-14 00:00:00.000000000</th><th>2022-10-15 00:00:00.000000000</th><th>2022-10-13 00:00:00.000000000</th><th>2022-10-09 00:00:00.000000000</th><th>2022-10-06 00:00:00.000000000</th><th>2022-10-14 00:00:00.000000000</th><th>2022-10-12 00:00:00.000000000</th><th>2022-10-28 00:00:00.000000000</th><th>2022-10-19 00:00:00.000000000</th><th>2022-10-07 00:00:00.000000000</th><th>2022-10-20 00:00:00.000000000</th><th>2022-10-18 00:00:00.000000000</th><th>2022-11-01 00:00:00.000000000</th><th>2022-10-27 00:00:00.000000000</th><th>2022-10-22 00:00:00.000000000</th><th>2022-10-31 00:00:00.000000000</th><th>2022-10-29 00:00:00.000000000</th><th>2022-10-21 00:00:00.000000000</th><th>2022-10-26 00:00:00.000000000</th><th>2022-10-11 00:00:00.000000000</th><th>2022-10-08 00:00:00.000000000</th><th>2022-10-16 00:00:00.000000000</th><th>2022-10-25 00:00:00.000000000</th><th>2022-10-24 00:00:00.000000000</th><th>2022-10-30 00:00:00.000000000</th><th>2022-10-17 00:00:00.000000000</th><th>2022-10-23 00:00:00.000000000</th><th>2022-10-10 00:00:00.000000000</th></tr><tr><td>i32</td><td>i32</td><td>i32</td><td>i32</td><td>i32</td><td>i32</td><td>i32</td><td>i32</td><td>i32</td><td>i32</td><td>i32</td><td>i32</td><td>i32</td><td>i32</td><td>i32</td><td>i32</td><td>i32</td><td>i32</td><td>i32</td><td>i32</td><td>i32</td><td>i32</td><td>i32</td><td>i32</td><td>i32</td><td>i32</td><td>i32</td><td>i32</td><td>i32</td><td>i32</td><td>i32</td><td>i32</td><td>i32</td><td>i32</td><td>i32</td><td>i32</td><td>i32</td><td>...</td><td>f32</td><td>f32</td><td>f32</td><td>f32</td><td>f32</td><td>f32</td><td>f32</td><td>f32</td><td>f32</td><td>f32</td><td>f32</td><td>f32</td><td>f32</td><td>f32</td><td>f32</td><td>f32</td><td>f32</td><td>f32</td><td>f32</td><td>f32</td><td>f32</td><td>f32</td><td>f32</td><td>f32</td><td>f32</td><td>f32</td><td>f32</td><td>f32</td><td>f32</td><td>f32</td><td>f32</td><td>f32</td><td>f32</td><td>f32</td><td>f32</td><td>f32</td><td>f32</td></tr></thead><tbody><tr><td>45098</td><td>12</td><td>491</td><td>174</td><td>305</td><td>446</td><td>188</td><td>82</td><td>5</td><td>4</td><td>54</td><td>3</td><td>29</td><td>7</td><td>47</td><td>46</td><td>2</td><td>16</td><td>5</td><td>60</td><td>5</td><td>2</td><td>1</td><td>7</td><td>1</td><td>17</td><td>8</td><td>5</td><td>1</td><td>61</td><td>3</td><td>1</td><td>1</td><td>7</td><td>1</td><td>7</td><td>2</td><td>...</td><td>0.0</td><td>0.0</td><td>0.0</td><td>0.0</td><td>0.0</td><td>0.0</td><td>0.0</td><td>0.0</td><td>0.0</td><td>0.0</td><td>0.0</td><td>0.0</td><td>0.0</td><td>0.0</td><td>0.0</td><td>0.0</td><td>0.0</td><td>0.0</td><td>0.0</td><td>0.0</td><td>0.0</td><td>0.0</td><td>0.0</td><td>0.0</td><td>0.0</td><td>0.0</td><td>0.0</td><td>0.0</td><td>0.0</td><td>0.0</td><td>0.0</td><td>0.0</td><td>0.0</td><td>0.0</td><td>0.0</td><td>0.0</td><td>0.0</td></tr><tr><td>117132</td><td>5</td><td>0</td><td>12</td><td>40</td><td>80</td><td>0</td><td>0</td><td>0</td><td>67</td><td>1</td><td>0</td><td>0</td><td>0</td><td>101</td><td>172</td><td>0</td><td>0</td><td>0</td><td>7</td><td>0</td><td>7</td><td>0</td><td>57</td><td>0</td><td>1</td><td>62</td><td>0</td><td>5</td><td>5</td><td>0</td><td>0</td><td>0</td><td>0</td><td>0</td><td>63</td><td>0</td><td>...</td><td>0.0</td><td>0.0</td><td>0.0</td><td>0.0</td><td>0.0</td><td>0.0</td><td>0.0</td><td>0.0</td><td>0.0</td><td>0.0</td><td>0.0</td><td>0.0</td><td>0.0</td><td>0.0</td><td>0.0</td><td>0.0</td><td>0.0</td><td>0.0</td><td>0.0</td><td>0.0</td><td>0.0</td><td>0.0</td><td>0.0</td><td>0.0</td><td>0.0</td><td>0.0</td><td>0.0</td><td>0.0</td><td>0.0</td><td>0.0</td><td>0.0</td><td>0.0</td><td>0.0</td><td>0.0</td><td>0.0</td><td>0.0</td><td>0.0</td></tr><tr><td>204489</td><td>6</td><td>0</td><td>56</td><td>72</td><td>77</td><td>0</td><td>2</td><td>4</td><td>12</td><td>35</td><td>1</td><td>23</td><td>16</td><td>49</td><td>143</td><td>0</td><td>2</td><td>0</td><td>36</td><td>0</td><td>15</td><td>0</td><td>20</td><td>0</td><td>0</td><td>17</td><td>0</td><td>3</td><td>163</td><td>6</td><td>0</td><td>0</td><td>3</td><td>0</td><td>8</td><td>0</td><td>...</td><td>0.0</td><td>0.0</td><td>0.0</td><td>0.0</td><td>0.0</td><td>0.0</td><td>0.0</td><td>0.0</td><td>0.0</td><td>0.0</td><td>0.0</td><td>0.0</td><td>0.0</td><td>0.0</td><td>0.0</td><td>0.0</td><td>0.0</td><td>0.0</td><td>0.0</td><td>0.0</td><td>0.0</td><td>0.0</td><td>0.0</td><td>0.0</td><td>0.0</td><td>0.0</td><td>0.0</td><td>0.0</td><td>0.0</td><td>0.0</td><td>0.0</td><td>0.0</td><td>0.0</td><td>0.0</td><td>0.0</td><td>0.0</td><td>0.0</td></tr><tr><td>148545</td><td>24</td><td>0</td><td>202</td><td>814</td><td>662</td><td>0</td><td>9</td><td>7</td><td>4</td><td>104</td><td>4</td><td>31</td><td>0</td><td>202</td><td>654</td><td>0</td><td>31</td><td>0</td><td>247</td><td>1</td><td>26</td><td>0</td><td>7</td><td>0</td><td>1</td><td>9</td><td>0</td><td>8</td><td>683</td><td>6</td><td>0</td><td>0</td><td>13</td><td>0</td><td>11</td><td>0</td><td>...</td><td>0.0</td><td>0.0</td><td>0.0</td><td>0.0</td><td>0.0</td><td>0.0</td><td>0.0</td><td>0.0</td><td>0.0</td><td>0.0</td><td>0.0</td><td>0.0</td><td>0.0</td><td>0.0</td><td>0.0</td><td>0.0</td><td>0.0</td><td>0.0</td><td>0.0</td><td>0.0</td><td>0.0</td><td>0.0</td><td>0.0</td><td>0.0</td><td>0.0</td><td>0.0</td><td>0.0</td><td>0.0</td><td>0.0</td><td>0.0</td><td>0.0</td><td>0.0</td><td>0.0</td><td>0.0</td><td>0.0</td><td>0.0</td><td>0.0</td></tr><tr><td>316847</td><td>4</td><td>0</td><td>145</td><td>677</td><td>736</td><td>0</td><td>0</td><td>4</td><td>0</td><td>24</td><td>4</td><td>1</td><td>0</td><td>39</td><td>324</td><td>0</td><td>12</td><td>0</td><td>57</td><td>1</td><td>8</td><td>0</td><td>4</td><td>0</td><td>6</td><td>5</td><td>0</td><td>11</td><td>209</td><td>1</td><td>0</td><td>0</td><td>8</td><td>0</td><td>4</td><td>0</td><td>...</td><td>0.0</td><td>0.0</td><td>0.0</td><td>0.0</td><td>0.0</td><td>0.0</td><td>0.0</td><td>0.0</td><td>0.0</td><td>0.0</td><td>0.0</td><td>0.0</td><td>0.0</td><td>0.0</td><td>0.0</td><td>0.0</td><td>0.0</td><td>0.0</td><td>0.0</td><td>0.0</td><td>0.0</td><td>0.0</td><td>0.0</td><td>0.0</td><td>0.0</td><td>0.0</td><td>0.0</td><td>0.0</td><td>0.0</td><td>0.0</td><td>0.0</td><td>0.0</td><td>0.0</td><td>0.0</td><td>0.0</td><td>0.0</td><td>0.0</td></tr><tr><td>205675</td><td>4</td><td>0</td><td>33</td><td>37</td><td>22</td><td>0</td><td>0</td><td>2</td><td>3</td><td>25</td><td>1</td><td>35</td><td>0</td><td>29</td><td>29</td><td>0</td><td>20</td><td>0</td><td>29</td><td>0</td><td>26</td><td>0</td><td>2</td><td>0</td><td>3</td><td>0</td><td>0</td><td>0</td><td>29</td><td>1</td><td>0</td><td>1</td><td>1</td><td>0</td><td>1</td><td>0</td><td>...</td><td>0.0</td><td>0.0</td><td>0.0</td><td>0.0</td><td>0.0</td><td>0.0</td><td>0.0</td><td>0.0</td><td>0.0</td><td>0.0</td><td>0.0</td><td>0.0</td><td>0.0</td><td>0.0</td><td>0.0</td><td>0.0</td><td>0.0</td><td>0.0</td><td>0.0</td><td>0.0</td><td>0.0</td><td>0.0</td><td>0.0</td><td>0.0</td><td>0.0</td><td>0.0</td><td>0.0</td><td>0.0</td><td>0.0</td><td>0.0</td><td>0.0</td><td>0.0</td><td>0.0</td><td>0.0</td><td>0.0</td><td>0.0</td><td>0.0</td></tr><tr><td>399764</td><td>4</td><td>0</td><td>126</td><td>172</td><td>192</td><td>0</td><td>0</td><td>6</td><td>0</td><td>51</td><td>4</td><td>77</td><td>0</td><td>82</td><td>22</td><td>2</td><td>9</td><td>0</td><td>209</td><td>0</td><td>18</td><td>0</td><td>0</td><td>0</td><td>0</td><td>0</td><td>3</td><td>0</td><td>504</td><td>8</td><td>0</td><td>0</td><td>5</td><td>0</td><td>0</td><td>0</td><td>...</td><td>0.0</td><td>0.0</td><td>0.0</td><td>0.0</td><td>0.0</td><td>0.0</td><td>0.0</td><td>0.0</td><td>0.0</td><td>0.0</td><td>0.0</td><td>0.0</td><td>0.0</td><td>0.0</td><td>0.0</td><td>0.0</td><td>0.0</td><td>0.0</td><td>0.0</td><td>0.0</td><td>0.0</td><td>0.0</td><td>0.0</td><td>0.0</td><td>0.0</td><td>0.0</td><td>0.0</td><td>0.0</td><td>0.0</td><td>0.0</td><td>0.0</td><td>0.0</td><td>0.0</td><td>0.0</td><td>0.0</td><td>0.0</td><td>0.0</td></tr><tr><td>216400</td><td>8</td><td>0</td><td>138</td><td>177</td><td>121</td><td>0</td><td>18</td><td>3</td><td>2</td><td>0</td><td>1</td><td>86</td><td>0</td><td>251</td><td>87</td><td>5</td><td>46</td><td>0</td><td>117</td><td>0</td><td>45</td><td>0</td><td>3</td><td>0</td><td>0</td><td>2</td><td>0</td><td>0</td><td>171</td><td>3</td><td>0</td><td>0</td><td>8</td><td>0</td><td>3</td><td>0</td><td>...</td><td>0.0</td><td>0.0</td><td>0.0</td><td>0.0</td><td>0.0</td><td>0.0</td><td>0.0</td><td>0.0</td><td>0.0</td><td>0.0</td><td>0.0</td><td>0.0</td><td>0.0</td><td>0.0</td><td>0.0</td><td>0.0</td><td>0.0</td><td>0.0</td><td>0.0</td><td>0.0</td><td>0.0</td><td>0.0</td><td>0.0</td><td>0.0</td><td>0.0</td><td>0.0</td><td>0.0</td><td>0.0</td><td>0.0</td><td>0.0</td><td>0.0</td><td>0.0</td><td>0.0</td><td>0.0</td><td>0.0</td><td>0.0</td><td>0.0</td></tr><tr><td>360049</td><td>11</td><td>0</td><td>129</td><td>143</td><td>74</td><td>0</td><td>1</td><td>7</td><td>18</td><td>79</td><td>1</td><td>116</td><td>0</td><td>100</td><td>253</td><td>8</td><td>14</td><td>0</td><td>192</td><td>0</td><td>57</td><td>0</td><td>13</td><td>0</td><td>0</td><td>15</td><td>1</td><td>3</td><td>284</td><td>4</td><td>0</td><td>0</td><td>7</td><td>0</td><td>16</td><td>0</td><td>...</td><td>0.0</td><td>0.0</td><td>0.0</td><td>0.0</td><td>0.0</td><td>0.0</td><td>0.0</td><td>0.0</td><td>0.0</td><td>0.0</td><td>0.0</td><td>0.0</td><td>0.0</td><td>0.0</td><td>0.0</td><td>0.0</td><td>0.0</td><td>0.0</td><td>0.0</td><td>0.0</td><td>0.0</td><td>0.0</td><td>0.0</td><td>0.0</td><td>0.0</td><td>0.0</td><td>0.0</td><td>0.0</td><td>0.0</td><td>0.0</td><td>0.0</td><td>0.0</td><td>0.0</td><td>0.0</td><td>0.0</td><td>0.0</td><td>0.0</td></tr><tr><td>190165</td><td>1</td><td>63</td><td>19</td><td>21</td><td>18</td><td>30</td><td>3</td><td>0</td><td>3</td><td>2</td><td>0</td><td>11</td><td>1</td><td>26</td><td>20</td><td>0</td><td>0</td><td>0</td><td>24</td><td>1</td><td>5</td><td>0</td><td>5</td><td>0</td><td>0</td><td>3</td><td>0</td><td>1</td><td>12</td><td>0</td><td>0</td><td>0</td><td>1</td><td>0</td><td>4</td><td>0</td><td>...</td><td>0.0</td><td>0.0</td><td>0.0</td><td>0.0</td><td>0.0</td><td>0.0</td><td>0.0</td><td>0.0</td><td>0.0</td><td>0.0</td><td>0.0</td><td>0.0</td><td>0.0</td><td>0.0</td><td>0.0</td><td>0.0</td><td>0.0</td><td>0.0</td><td>0.0</td><td>0.0</td><td>0.0</td><td>0.0</td><td>0.0</td><td>0.0</td><td>0.0</td><td>0.0</td><td>0.0</td><td>0.0</td><td>0.0</td><td>0.0</td><td>0.0</td><td>0.0</td><td>0.0</td><td>0.0</td><td>0.0</td><td>0.0</td><td>0.0</td></tr><tr><td>247946</td><td>0</td><td>35</td><td>32</td><td>10</td><td>3</td><td>6</td><td>0</td><td>0</td><td>5</td><td>2</td><td>1</td><td>34</td><td>0</td><td>8</td><td>7</td><td>0</td><td>0</td><td>0</td><td>30</td><td>1</td><td>3</td><td>0</td><td>2</td><td>0</td><td>0</td><td>4</td><td>0</td><td>0</td><td>21</td><td>0</td><td>0</td><td>0</td><td>0</td><td>0</td><td>2</td><td>0</td><td>...</td><td>0.0</td><td>0.0</td><td>0.0</td><td>0.0</td><td>0.0</td><td>0.0</td><td>0.0</td><td>0.0</td><td>0.0</td><td>0.0</td><td>0.0</td><td>0.0</td><td>0.0</td><td>0.0</td><td>0.0</td><td>0.0</td><td>0.0</td><td>0.0</td><td>0.0</td><td>0.0</td><td>0.0</td><td>0.0</td><td>0.0</td><td>0.0</td><td>0.0</td><td>0.0</td><td>0.0</td><td>0.0</td><td>0.0</td><td>0.0</td><td>0.0</td><td>0.0</td><td>0.0</td><td>0.0</td><td>0.0</td><td>0.0</td><td>0.0</td></tr><tr><td>100561</td><td>53</td><td>0</td><td>354</td><td>504</td><td>359</td><td>0</td><td>0</td><td>2</td><td>10</td><td>254</td><td>3</td><td>63</td><td>0</td><td>637</td><td>324</td><td>0</td><td>303</td><td>0</td><td>369</td><td>0</td><td>46</td><td>0</td><td>4</td><td>0</td><td>2</td><td>6</td><td>0</td><td>0</td><td>405</td><td>4</td><td>0</td><td>0</td><td>22</td><td>0</td><td>6</td><td>0</td><td>...</td><td>0.0</td><td>0.0</td><td>0.0</td><td>0.0</td><td>0.0</td><td>0.0</td><td>0.0</td><td>0.0</td><td>0.0</td><td>0.0</td><td>0.0</td><td>0.0</td><td>0.0</td><td>0.0</td><td>0.0</td><td>0.0</td><td>0.0</td><td>0.0</td><td>0.0</td><td>0.0</td><td>0.0</td><td>0.0</td><td>0.0</td><td>0.0</td><td>0.0</td><td>0.0</td><td>0.0</td><td>0.0</td><td>0.0</td><td>0.0</td><td>0.0</td><td>0.0</td><td>0.0</td><td>0.0</td><td>0.0</td><td>0.0</td><td>0.0</td></tr><tr><td>...</td><td>...</td><td>...</td><td>...</td><td>...</td><td>...</td><td>...</td><td>...</td><td>...</td><td>...</td><td>...</td><td>...</td><td>...</td><td>...</td><td>...</td><td>...</td><td>...</td><td>...</td><td>...</td><td>...</td><td>...</td><td>...</td><td>...</td><td>...</td><td>...</td><td>...</td><td>...</td><td>...</td><td>...</td><td>...</td><td>...</td><td>...</td><td>...</td><td>...</td><td>...</td><td>...</td><td>...</td><td>...</td><td>...</td><td>...</td><td>...</td><td>...</td><td>...</td><td>...</td><td>...</td><td>...</td><td>...</td><td>...</td><td>...</td><td>...</td><td>...</td><td>...</td><td>...</td><td>...</td><td>...</td><td>...</td><td>...</td><td>...</td><td>...</td><td>...</td><td>...</td><td>...</td><td>...</td><td>...</td><td>...</td><td>...</td><td>...</td><td>...</td><td>...</td><td>...</td><td>...</td><td>...</td><td>...</td><td>...</td><td>...</td></tr><tr><td>395704</td><td>16</td><td>704</td><td>61</td><td>148</td><td>171</td><td>132</td><td>18</td><td>3</td><td>27</td><td>34</td><td>1</td><td>0</td><td>0</td><td>63</td><td>106</td><td>0</td><td>7</td><td>0</td><td>37</td><td>0</td><td>4</td><td>0</td><td>35</td><td>0</td><td>18</td><td>29</td><td>5</td><td>1</td><td>30</td><td>2</td><td>0</td><td>0</td><td>2</td><td>1</td><td>32</td><td>0</td><td>...</td><td>0.0</td><td>0.0</td><td>0.0</td><td>0.0</td><td>0.0</td><td>0.0</td><td>0.0</td><td>0.0</td><td>0.0</td><td>0.0</td><td>0.0</td><td>0.0</td><td>0.0</td><td>0.0</td><td>0.0</td><td>0.0</td><td>0.0</td><td>0.0</td><td>0.0</td><td>0.0</td><td>0.0</td><td>0.0</td><td>0.0</td><td>0.0</td><td>0.0</td><td>0.0</td><td>0.0</td><td>0.0</td><td>0.0</td><td>0.0</td><td>0.0</td><td>0.0</td><td>0.0</td><td>0.0</td><td>0.0</td><td>0.0</td><td>0.0</td></tr><tr><td>244316</td><td>42</td><td>0</td><td>167</td><td>167</td><td>62</td><td>0</td><td>0</td><td>12</td><td>91</td><td>66</td><td>4</td><td>9</td><td>0</td><td>265</td><td>286</td><td>2</td><td>18</td><td>0</td><td>171</td><td>0</td><td>46</td><td>0</td><td>39</td><td>0</td><td>0</td><td>51</td><td>2</td><td>3</td><td>178</td><td>9</td><td>0</td><td>0</td><td>12</td><td>0</td><td>38</td><td>0</td><td>...</td><td>0.0</td><td>0.0</td><td>0.0</td><td>0.0</td><td>0.0</td><td>0.0</td><td>0.0</td><td>0.0</td><td>0.0</td><td>0.0</td><td>0.0</td><td>0.0</td><td>0.0</td><td>0.0</td><td>0.0</td><td>0.0</td><td>0.0</td><td>0.0</td><td>0.0</td><td>0.0</td><td>0.0</td><td>0.0</td><td>0.0</td><td>0.0</td><td>0.0</td><td>0.0</td><td>0.0</td><td>0.0</td><td>0.0</td><td>0.0</td><td>0.0</td><td>0.0</td><td>0.0</td><td>0.0</td><td>0.0</td><td>0.0</td><td>0.0</td></tr><tr><td>268712</td><td>85</td><td>0</td><td>299</td><td>467</td><td>418</td><td>0</td><td>1</td><td>118</td><td>107</td><td>267</td><td>26</td><td>0</td><td>0</td><td>473</td><td>529</td><td>88</td><td>172</td><td>0</td><td>297</td><td>3</td><td>216</td><td>0</td><td>54</td><td>0</td><td>2</td><td>49</td><td>0</td><td>9</td><td>89</td><td>40</td><td>0</td><td>0</td><td>47</td><td>0</td><td>55</td><td>0</td><td>...</td><td>0.0</td><td>0.0</td><td>0.0</td><td>0.0</td><td>0.0</td><td>0.0</td><td>0.0</td><td>0.0</td><td>0.0</td><td>0.0</td><td>0.0</td><td>0.0</td><td>0.0</td><td>0.0</td><td>0.0</td><td>0.0</td><td>0.0</td><td>0.0</td><td>0.0</td><td>0.0</td><td>0.0</td><td>0.0</td><td>0.0</td><td>0.0</td><td>0.0</td><td>0.0</td><td>0.0</td><td>0.0</td><td>0.0</td><td>0.0</td><td>0.0</td><td>0.0</td><td>0.0</td><td>0.0</td><td>0.0</td><td>0.0</td><td>0.0</td></tr><tr><td>15370</td><td>0</td><td>0</td><td>165</td><td>286</td><td>133</td><td>0</td><td>0</td><td>0</td><td>7</td><td>15</td><td>0</td><td>86</td><td>0</td><td>81</td><td>178</td><td>0</td><td>0</td><td>0</td><td>283</td><td>0</td><td>47</td><td>0</td><td>2</td><td>0</td><td>1</td><td>5</td><td>0</td><td>0</td><td>468</td><td>0</td><td>0</td><td>2</td><td>0</td><td>0</td><td>2</td><td>0</td><td>...</td><td>0.0</td><td>0.0</td><td>0.0</td><td>0.0</td><td>0.0</td><td>0.0</td><td>0.0</td><td>0.0</td><td>0.0</td><td>0.0</td><td>0.0</td><td>0.0</td><td>0.0</td><td>0.0</td><td>0.0</td><td>0.0</td><td>0.0</td><td>0.0</td><td>0.0</td><td>0.0</td><td>0.0</td><td>0.0</td><td>0.0</td><td>0.0</td><td>0.0</td><td>0.0</td><td>0.0</td><td>0.0</td><td>0.0</td><td>0.0</td><td>0.0</td><td>0.0</td><td>0.0</td><td>0.0</td><td>0.0</td><td>0.0</td><td>0.0</td></tr><tr><td>129294</td><td>6</td><td>249</td><td>87</td><td>36</td><td>18</td><td>111</td><td>7</td><td>0</td><td>4</td><td>16</td><td>2</td><td>22</td><td>1</td><td>76</td><td>35</td><td>0</td><td>7</td><td>0</td><td>108</td><td>0</td><td>6</td><td>0</td><td>1</td><td>0</td><td>0</td><td>1</td><td>0</td><td>1</td><td>72</td><td>1</td><td>0</td><td>0</td><td>1</td><td>0</td><td>1</td><td>0</td><td>...</td><td>0.0</td><td>0.0</td><td>0.0</td><td>0.0</td><td>0.0</td><td>0.0</td><td>0.0</td><td>0.0</td><td>0.0</td><td>0.0</td><td>0.0</td><td>0.0</td><td>0.0</td><td>0.0</td><td>0.0</td><td>0.0</td><td>0.0</td><td>0.0</td><td>0.0</td><td>0.0</td><td>0.0</td><td>0.0</td><td>0.0</td><td>0.0</td><td>0.0</td><td>0.0</td><td>0.0</td><td>0.0</td><td>0.0</td><td>0.0</td><td>0.0</td><td>0.0</td><td>0.0</td><td>0.0</td><td>0.0</td><td>0.0</td><td>0.0</td></tr><tr><td>411928</td><td>4</td><td>0</td><td>107</td><td>116</td><td>80</td><td>0</td><td>0</td><td>17</td><td>1</td><td>31</td><td>3</td><td>69</td><td>9</td><td>45</td><td>83</td><td>3</td><td>17</td><td>0</td><td>107</td><td>1</td><td>38</td><td>0</td><td>0</td><td>0</td><td>1</td><td>0</td><td>0</td><td>2</td><td>386</td><td>3</td><td>0</td><td>0</td><td>14</td><td>0</td><td>0</td><td>0</td><td>...</td><td>0.0</td><td>0.0</td><td>0.0</td><td>0.0</td><td>0.0</td><td>0.0</td><td>0.0</td><td>0.0</td><td>0.0</td><td>0.0</td><td>0.0</td><td>0.0</td><td>0.0</td><td>0.0</td><td>0.0</td><td>0.0</td><td>0.0</td><td>0.0</td><td>0.0</td><td>0.0</td><td>0.0</td><td>0.0</td><td>0.0</td><td>0.0</td><td>0.0</td><td>0.0</td><td>0.0</td><td>0.0</td><td>0.0</td><td>0.0</td><td>0.0</td><td>0.0</td><td>0.0</td><td>0.0</td><td>0.0</td><td>0.0</td><td>0.0</td></tr><tr><td>65522</td><td>4</td><td>0</td><td>54</td><td>67</td><td>73</td><td>0</td><td>1</td><td>0</td><td>0</td><td>1</td><td>0</td><td>48</td><td>1</td><td>24</td><td>12</td><td>1</td><td>6</td><td>0</td><td>63</td><td>0</td><td>19</td><td>0</td><td>0</td><td>0</td><td>0</td><td>0</td><td>0</td><td>0</td><td>291</td><td>0</td><td>0</td><td>0</td><td>4</td><td>0</td><td>0</td><td>0</td><td>...</td><td>0.0</td><td>0.0</td><td>0.0</td><td>0.0</td><td>0.0</td><td>0.0</td><td>0.0</td><td>0.0</td><td>0.0</td><td>0.0</td><td>0.0</td><td>0.0</td><td>0.0</td><td>0.0</td><td>0.0</td><td>0.0</td><td>0.0</td><td>0.0</td><td>0.0</td><td>0.0</td><td>0.0</td><td>0.0</td><td>0.0</td><td>0.0</td><td>0.0</td><td>0.0</td><td>0.0</td><td>0.0</td><td>0.0</td><td>0.0</td><td>0.0</td><td>0.0</td><td>0.0</td><td>0.0</td><td>0.0</td><td>0.0</td><td>0.0</td></tr><tr><td>145936</td><td>10</td><td>0</td><td>81</td><td>69</td><td>38</td><td>0</td><td>0</td><td>9</td><td>3</td><td>37</td><td>5</td><td>72</td><td>0</td><td>36</td><td>40</td><td>3</td><td>12</td><td>0</td><td>77</td><td>0</td><td>37</td><td>0</td><td>3</td><td>0</td><td>0</td><td>3</td><td>2</td><td>1</td><td>76</td><td>4</td><td>0</td><td>0</td><td>11</td><td>0</td><td>3</td><td>0</td><td>...</td><td>0.0</td><td>0.0</td><td>0.0</td><td>0.0</td><td>0.0</td><td>0.0</td><td>0.0</td><td>0.0</td><td>0.0</td><td>0.0</td><td>0.0</td><td>0.0</td><td>0.0</td><td>0.0</td><td>0.0</td><td>0.0</td><td>0.0</td><td>0.0</td><td>0.0</td><td>0.0</td><td>0.0</td><td>0.0</td><td>0.0</td><td>0.0</td><td>0.0</td><td>0.0</td><td>0.0</td><td>0.0</td><td>0.0</td><td>0.0</td><td>0.0</td><td>0.0</td><td>0.0</td><td>0.0</td><td>0.0</td><td>0.0</td><td>0.0</td></tr><tr><td>68383</td><td>14</td><td>0</td><td>72</td><td>126</td><td>23</td><td>0</td><td>2</td><td>2</td><td>61</td><td>35</td><td>2</td><td>34</td><td>1</td><td>129</td><td>156</td><td>0</td><td>3</td><td>0</td><td>57</td><td>0</td><td>30</td><td>0</td><td>63</td><td>0</td><td>0</td><td>55</td><td>1</td><td>0</td><td>48</td><td>5</td><td>0</td><td>0</td><td>5</td><td>0</td><td>49</td><td>0</td><td>...</td><td>0.0</td><td>0.0</td><td>0.0</td><td>0.0</td><td>0.0</td><td>0.0</td><td>0.0</td><td>0.0</td><td>0.0</td><td>0.0</td><td>0.0</td><td>0.0</td><td>0.0</td><td>0.0</td><td>0.0</td><td>0.0</td><td>0.0</td><td>0.0</td><td>0.0</td><td>0.0</td><td>0.0</td><td>0.0</td><td>0.0</td><td>0.0</td><td>0.0</td><td>0.0</td><td>0.0</td><td>0.0</td><td>0.0</td><td>0.0</td><td>0.0</td><td>0.0</td><td>0.0</td><td>0.0</td><td>0.0</td><td>0.0</td><td>0.0</td></tr><tr><td>173577</td><td>18</td><td>156</td><td>59</td><td>82</td><td>71</td><td>36</td><td>7</td><td>3</td><td>2</td><td>27</td><td>6</td><td>1</td><td>0</td><td>25</td><td>48</td><td>1</td><td>3</td><td>0</td><td>41</td><td>0</td><td>36</td><td>0</td><td>3</td><td>0</td><td>4</td><td>4</td><td>0</td><td>1</td><td>33</td><td>2</td><td>0</td><td>0</td><td>4</td><td>0</td><td>6</td><td>0</td><td>...</td><td>0.0</td><td>0.0</td><td>0.0</td><td>0.0</td><td>0.0</td><td>0.0</td><td>0.0</td><td>0.0</td><td>0.0</td><td>0.0</td><td>0.0</td><td>0.0</td><td>0.0</td><td>0.0</td><td>0.0</td><td>0.0</td><td>0.0</td><td>0.0</td><td>0.0</td><td>0.0</td><td>0.0</td><td>0.0</td><td>0.0</td><td>0.0</td><td>0.0</td><td>0.0</td><td>0.0</td><td>0.0</td><td>0.0</td><td>0.0</td><td>0.0</td><td>0.0</td><td>0.0</td><td>0.0</td><td>0.0</td><td>0.0</td><td>0.0</td></tr><tr><td>160996</td><td>1</td><td>40</td><td>28</td><td>160</td><td>149</td><td>24</td><td>0</td><td>0</td><td>0</td><td>8</td><td>1</td><td>0</td><td>0</td><td>2</td><td>16</td><td>0</td><td>2</td><td>0</td><td>17</td><td>0</td><td>6</td><td>0</td><td>0</td><td>0</td><td>0</td><td>0</td><td>0</td><td>0</td><td>9</td><td>0</td><td>0</td><td>0</td><td>0</td><td>0</td><td>0</td><td>0</td><td>...</td><td>0.0</td><td>0.0</td><td>0.0</td><td>0.0</td><td>0.0</td><td>0.0</td><td>0.0</td><td>0.0</td><td>0.0</td><td>0.0</td><td>0.0</td><td>0.0</td><td>0.0</td><td>0.0</td><td>0.0</td><td>0.0</td><td>0.0</td><td>0.0</td><td>0.0</td><td>0.0</td><td>0.0</td><td>0.0</td><td>0.0</td><td>0.0</td><td>0.0</td><td>0.0</td><td>0.0</td><td>0.0</td><td>0.0</td><td>0.0</td><td>0.0</td><td>0.0</td><td>0.0</td><td>0.0</td><td>0.0</td><td>0.0</td><td>0.0</td></tr><tr><td>260127</td><td>11</td><td>78</td><td>24</td><td>67</td><td>34</td><td>43</td><td>20</td><td>4</td><td>32</td><td>12</td><td>1</td><td>0</td><td>0</td><td>71</td><td>126</td><td>4</td><td>6</td><td>0</td><td>30</td><td>2</td><td>23</td><td>0</td><td>16</td><td>0</td><td>0</td><td>19</td><td>0</td><td>0</td><td>27</td><td>3</td><td>0</td><td>0</td><td>6</td><td>0</td><td>15</td><td>0</td><td>...</td><td>0.0</td><td>0.0</td><td>0.0</td><td>0.0</td><td>0.0</td><td>0.0</td><td>0.0</td><td>0.0</td><td>0.0</td><td>0.0</td><td>0.0</td><td>0.0</td><td>0.0</td><td>0.0</td><td>0.0</td><td>0.0</td><td>0.0</td><td>0.0</td><td>0.0</td><td>0.0</td><td>0.0</td><td>0.0</td><td>0.0</td><td>0.0</td><td>0.0</td><td>0.0</td><td>0.0</td><td>0.0</td><td>0.0</td><td>0.0</td><td>0.0</td><td>0.0</td><td>0.0</td><td>0.0</td><td>0.0</td><td>0.0</td><td>0.0</td></tr></tbody></table></div>"
      ],
      "text/plain": [
       "shape: (144724, 5507)\n",
       "┌─────────┬───────────────┬───────────┬──────────────┬─────┬──────────────┬──────────────┬──────────────┬──────────────┐\n",
       "│ user_id ┆ ad.adriver.ru ┆ apple.com ┆ avatars.mds. ┆ ... ┆ 2022-10-30   ┆ 2022-10-17   ┆ 2022-10-23   ┆ 2022-10-10   │\n",
       "│ ---     ┆ ---           ┆ ---       ┆ yandex.net   ┆     ┆ 00:00:00.000 ┆ 00:00:00.000 ┆ 00:00:00.000 ┆ 00:00:00.000 │\n",
       "│ i32     ┆ i32           ┆ i32       ┆ ---          ┆     ┆ 000000       ┆ 000000       ┆ 000000       ┆ 000000       │\n",
       "│         ┆               ┆           ┆ i32          ┆     ┆ ---          ┆ ---          ┆ ---          ┆ ---          │\n",
       "│         ┆               ┆           ┆              ┆     ┆ f32          ┆ f32          ┆ f32          ┆ f32          │\n",
       "╞═════════╪═══════════════╪═══════════╪══════════════╪═════╪══════════════╪══════════════╪══════════════╪══════════════╡\n",
       "│ 45098   ┆ 12            ┆ 491       ┆ 174          ┆ ... ┆ 0.0          ┆ 0.0          ┆ 0.0          ┆ 0.0          │\n",
       "│ 117132  ┆ 5             ┆ 0         ┆ 12           ┆ ... ┆ 0.0          ┆ 0.0          ┆ 0.0          ┆ 0.0          │\n",
       "│ 204489  ┆ 6             ┆ 0         ┆ 56           ┆ ... ┆ 0.0          ┆ 0.0          ┆ 0.0          ┆ 0.0          │\n",
       "│ 148545  ┆ 24            ┆ 0         ┆ 202          ┆ ... ┆ 0.0          ┆ 0.0          ┆ 0.0          ┆ 0.0          │\n",
       "│ ...     ┆ ...           ┆ ...       ┆ ...          ┆ ... ┆ ...          ┆ ...          ┆ ...          ┆ ...          │\n",
       "│ 68383   ┆ 14            ┆ 0         ┆ 72           ┆ ... ┆ 0.0          ┆ 0.0          ┆ 0.0          ┆ 0.0          │\n",
       "│ 173577  ┆ 18            ┆ 156       ┆ 59           ┆ ... ┆ 0.0          ┆ 0.0          ┆ 0.0          ┆ 0.0          │\n",
       "│ 160996  ┆ 1             ┆ 40        ┆ 28           ┆ ... ┆ 0.0          ┆ 0.0          ┆ 0.0          ┆ 0.0          │\n",
       "│ 260127  ┆ 11            ┆ 78        ┆ 24           ┆ ... ┆ 0.0          ┆ 0.0          ┆ 0.0          ┆ 0.0          │\n",
       "└─────────┴───────────────┴───────────┴──────────────┴─────┴──────────────┴──────────────┴──────────────┴──────────────┘"
      ]
     },
     "execution_count": 25,
     "metadata": {},
     "output_type": "execute_result"
    }
   ],
   "source": [
    "df_test"
   ]
  },
  {
   "cell_type": "code",
   "execution_count": 26,
   "id": "10c494ea",
   "metadata": {},
   "outputs": [],
   "source": [
    "df_train.write_parquet('df_train.parquet')\n",
    "df_test.write_parquet('df_test.parquet')"
   ]
  },
  {
   "cell_type": "code",
   "execution_count": null,
   "id": "d1c415c8",
   "metadata": {},
   "outputs": [],
   "source": []
  }
 ],
 "metadata": {
  "kernelspec": {
   "display_name": "Python 3 (ipykernel)",
   "language": "python",
   "name": "python3"
  },
  "language_info": {
   "codemirror_mode": {
    "name": "ipython",
    "version": 3
   },
   "file_extension": ".py",
   "mimetype": "text/x-python",
   "name": "python",
   "nbconvert_exporter": "python",
   "pygments_lexer": "ipython3",
   "version": "3.9.12"
  },
  "toc": {
   "base_numbering": 1,
   "nav_menu": {},
   "number_sections": true,
   "sideBar": true,
   "skip_h1_title": true,
   "title_cell": "Table of Contents",
   "title_sidebar": "Contents",
   "toc_cell": true,
   "toc_position": {},
   "toc_section_display": true,
   "toc_window_display": false
  }
 },
 "nbformat": 4,
 "nbformat_minor": 5
}
